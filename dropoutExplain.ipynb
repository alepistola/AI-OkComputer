{
  "nbformat": 4,
  "nbformat_minor": 0,
  "metadata": {
    "colab": {
      "provenance": [],
      "collapsed_sections": [
        "XIs6n04l1mi0"
      ],
      "toc_visible": true
    },
    "kernelspec": {
      "name": "python3",
      "display_name": "Python 3"
    },
    "language_info": {
      "name": "python"
    }
  },
  "cells": [
    {
      "cell_type": "markdown",
      "source": [
        "## Import e funzioni utili"
      ],
      "metadata": {
        "id": "XWgw_m5rkF4o"
      }
    },
    {
      "cell_type": "code",
      "source": [
        "import pandas as pd\n",
        "import numpy as np\n",
        "import matplotlib\n",
        "import matplotlib.pyplot as plt\n",
        "import seaborn as sns\n",
        "from google.colab import drive\n",
        "from sklearn.preprocessing import MinMaxScaler\n",
        "import sklearn\n",
        "from sklearn import svm\n",
        "from sklearn.svm import NuSVC\n",
        "from sklearn import metrics\n",
        "from sklearn.metrics import classification_report, confusion_matrix, ConfusionMatrixDisplay\n",
        "from sklearn.metrics import precision_score, recall_score, f1_score, roc_curve, auc, roc_auc_score, precision_recall_curve, average_precision_score, cohen_kappa_score, classification_report, accuracy_score\n",
        "from sklearn.model_selection import GridSearchCV\n",
        "from sklearn.ensemble import RandomForestClassifier\n",
        "import joblib\n",
        "import tensorflow as tf\n",
        "from tensorflow.keras.callbacks import EarlyStopping, ModelCheckpoint\n",
        "from tensorflow.keras.models import Sequential, Model\n",
        "from tensorflow.keras.layers import Dense, Activation, Input, Dropout\n",
        "from tensorflow.keras.models import load_model\n",
        "import xgboost as xgb\n",
        "from imblearn.under_sampling import RandomUnderSampler"
      ],
      "metadata": {
        "id": "9EcOy6JBkA12"
      },
      "execution_count": null,
      "outputs": []
    },
    {
      "cell_type": "code",
      "source": [
        "local = False\n",
        "\n",
        "LOCAL_URL = \"dropoutData/\"\n",
        "CLOUD_URL = \"/content/drive/My Drive/dataset/Dropout/\"\n",
        "\n",
        "base_url = \"\"\n",
        "\n",
        "if(local):\n",
        "  base_url = LOCAL_URL\n",
        "else:\n",
        "  base_url = CLOUD_URL\n",
        "\n",
        "\n",
        "def print_missing_values(dt):\n",
        "  pd.options.mode.use_inf_as_na = True\n",
        "  for col in dt.columns:\n",
        "    na = int(dt[col].isna().sum())\n",
        "    print(\"Column '\" + col + \"' has \" + str(na) + \" missing values\")\n",
        "\n",
        "def print_columns_len(dt):\n",
        "  for col in dt.columns:\n",
        "    print(\"column '\" + col + \"' has \" + str(len(dt[col])) + \" values\")\n",
        "\n",
        "def joblib_save_model(model, filename):\n",
        "  joblib.dump(model, base_url + filename)\n",
        "\n",
        "def joblib_load_model(filename):\n",
        "  return joblib.load(base_url + filename)\n",
        "\n",
        "def keras_load_model(filename):\n",
        "  return load_model(base_url + filename)\n",
        "\n",
        "def print_classification_report_n_mconfusion(y_pred, y_true):\n",
        "  print(classification_report(y_pred, y_true))\n",
        "  cm = confusion_matrix(y_test, y_pred) \n",
        "  disp = ConfusionMatrixDisplay(confusion_matrix=cm)\n",
        "  disp.plot()\n",
        "  plt.show()\n",
        "  rocAucScore = roc_auc_score(y_true, y_pred)\n",
        "  print('> Roc auc score: %.3f' %(rocAucScore))\n",
        "\n",
        "def SquareErrorDataPoints(_input, _output):\n",
        "    #input = np.squeeze(_input, axis=0)\n",
        "    #output = np.squeeze(_output, axis=0)\n",
        "    # Caculate error\n",
        "    error = np.square(_input - _output)\n",
        "    #error = np.sum(error)\n",
        "    return error\n",
        "\n",
        "# nr. of standard deviation times the sample is far from the std\n",
        "def Z_Score(_error):\n",
        "    mu = np.nanmean(_error)\n",
        "    gamma = np.nanstd(_error)\n",
        "    zscore = (_error - mu)/gamma\n",
        "    return zscore\n",
        "\n",
        "def CreateLabelBasedOnZscore(_zscore, _threshold, _sign=False):\n",
        "    label = np.full(_zscore.shape[0], 1)\n",
        "    if not _sign:\n",
        "        label[_zscore > _threshold] = -1\n",
        "        label[_zscore < -_threshold] = -1\n",
        "    else:\n",
        "        label[_zscore > _threshold] = -1\n",
        "    # label[abs(_zscore) > abs(_threshold)] = -1\n",
        "    return label\n",
        "\n",
        "def CalculatePrecisionRecallF1Metrics(_abnormal_label, _y_pred):\n",
        "    precision = precision_score(_abnormal_label, _y_pred)\n",
        "    recall = recall_score(_abnormal_label, _y_pred)\n",
        "    f1 = f1_score(_abnormal_label, _y_pred)\n",
        "    return precision, recall, f1\n",
        "\n",
        "def CalculateROCAUCMetrics(_abnormal_label, _score):\n",
        "    fpr, tpr, _ = roc_curve(_abnormal_label, _score)\n",
        "    roc_auc = auc(np.nan_to_num(fpr), np.nan_to_num(tpr))\n",
        "    if roc_auc < 0.5:\n",
        "        roc_auc = 1 - roc_auc\n",
        "    return fpr, tpr, roc_auc\n",
        "\n",
        "def CalculatePrecisionRecallCurve(_abnormal_label, _score):\n",
        "    precision_curve, recall_curve, _ = precision_recall_curve(_abnormal_label, _score)\n",
        "    average_precision = average_precision_score(_abnormal_label, _score)\n",
        "    if average_precision < 0.5:\n",
        "        average_precision = 1 - average_precision\n",
        "    return precision_curve, recall_curve, average_precision\n",
        "\n",
        "def PlotROCAUC(_fpr, _tpr, _roc_auc):\n",
        "    plt.figure(1)\n",
        "    lw = 1.5\n",
        "    plt.plot(_fpr, _tpr, color='darkorange', lw=lw, label='ROC curve (area = %0.2f)' % _roc_auc)\n",
        "    plt.plot([0, 1], [0, 1], color='navy', lw=lw, linestyle='--')\n",
        "    plt.xlim([0.0, 1.0])\n",
        "    plt.ylim([0.0, 1.05])\n",
        "    plt.xlabel('False Positive Rate')\n",
        "    plt.ylabel('True Positive Rate')\n",
        "    plt.title('Receiver Operating Characteristic')\n",
        "    plt.legend(loc=\"lower right\")\n",
        "    plt.show()\n",
        "\n",
        "\n",
        "def PlotPrecisionRecallCurve(_precision, _recall, _average_precision, _baseline):\n",
        "    plt.figure(2)\n",
        "    lw = 2\n",
        "    plt.step(_recall, _precision, color='darkorange', lw=lw, alpha=1, where='post', label='PR curve (area = %0.2f)' % _average_precision)\n",
        "    # plt.fill_between(_recall, _precision, step='post', alpha=0.2, color='b')\n",
        "    plt.plot([0, 1], [_baseline, _baseline], color='navy', lw=lw, linestyle='--')\n",
        "    plt.xlabel('Recall')\n",
        "    plt.ylabel('Precision')\n",
        "    plt.title('Precision-Recall Curve')\n",
        "    plt.ylim([0, 1.05])\n",
        "    plt.xlim([0, 1])\n",
        "    # plt.legend('AP={0:0.2f}'.format(_average_precision))\n",
        "    plt.legend(loc=\"upper right\")\n",
        "    plt.show()\n",
        "\n",
        "def PlotResult(_values):\n",
        "    plt.plot(_values)\n",
        "    plt.show()"
      ],
      "metadata": {
        "id": "j8pMVVvr8rn7"
      },
      "execution_count": null,
      "outputs": []
    },
    {
      "cell_type": "markdown",
      "source": [
        "# DATA PREPROCESSING"
      ],
      "metadata": {
        "id": "XIs6n04l1mi0"
      }
    },
    {
      "cell_type": "markdown",
      "source": [
        "## Acquisizione dati"
      ],
      "metadata": {
        "id": "jc9FfbFEkfJH"
      }
    },
    {
      "cell_type": "code",
      "source": [
        "if(not local):\n",
        "  drive.mount('/content/drive')\n",
        "\n",
        "df = pd.read_excel(base_url + 'stud_2016_2018.xlsx')\n",
        "df_esami = pd.read_excel(base_url + 'esami_2016_2018.xlsx')\n",
        "df.head()"
      ],
      "metadata": {
        "id": "YBzEcU7ekQeU"
      },
      "execution_count": null,
      "outputs": []
    },
    {
      "cell_type": "markdown",
      "source": [
        "## Missing values"
      ],
      "metadata": {
        "id": "XwcS44K7mi3b"
      }
    },
    {
      "cell_type": "markdown",
      "source": [
        "FILLING SU VALORI MANCANTI DI voto_scuola_superiore\n",
        "\n",
        "\n",
        "Per ogni studente senza voto, calcolo la mediana del voto tra l'insieme di studenti che hanno in comune area_geografica_scuola_superiore e Diploma_scuola_superiore"
      ],
      "metadata": {
        "id": "lEtc6pwVmwU6"
      }
    },
    {
      "cell_type": "code",
      "source": [
        "voto_scuola_superiore_mean = round(df['voto_scuola_superiore'].mean(), 2)\n",
        "\n",
        "def calculate_mean_vote_with_similar_area_n_diploma(dt, area_scuola, area_residenza, diploma):\n",
        "    if(diploma == 9):\n",
        "        return voto_scuola_superiore_mean\n",
        "    similar_student = dt.loc[(dt['Diploma_scuola_superiore'] == diploma) & ((dt['area_geografica_residenza'] == area_residenza) | (dt['area_geografica_scuolasuperiore'] == area_scuola))]#(dt['area_geografica_residenza'] == area_residenza | dt['area_geografica_scuolasuperiore'] == area_scuola)]\n",
        "    return round(similar_student['voto_scuola_superiore'].mean(), 2)\n",
        "    \n",
        "cacheMap = {\"11\": 81}\n",
        "\n",
        "students_without_vote = df.loc[df['voto_scuola_superiore'].isna()]\n",
        "\n",
        "print(students_without_vote.shape)\n",
        "\n",
        "\n",
        "for index, row in students_without_vote.iterrows():\n",
        "    key = str(row.area_geografica_scuolasuperiore) + str(row.Diploma_scuola_superiore)\n",
        "    if key in cacheMap:\n",
        "        df.loc[index, 'voto_scuola_superiore'] =  cacheMap[key]\n",
        "    else:\n",
        "        median_vote = calculate_mean_vote_with_similar_area_n_diploma(df, row.area_geografica_scuolasuperiore, row.area_geografica_residenza,row.Diploma_scuola_superiore)\n",
        "        df.loc[index, 'voto_scuola_superiore'] = median_vote\n",
        "        cacheMap[key] = median_vote\n",
        "\n",
        "#pd.options.mode.use_inf_as_na = True\n",
        "print(df['voto_scuola_superiore'].isna().sum())"
      ],
      "metadata": {
        "id": "b7dUS5XimkNh"
      },
      "execution_count": null,
      "outputs": []
    },
    {
      "cell_type": "markdown",
      "source": [
        "## Data trasformation"
      ],
      "metadata": {
        "id": "aOGHkPXSn1oO"
      }
    },
    {
      "cell_type": "markdown",
      "source": [
        "Trasformazioni da effettuare nel dataset:\n",
        "\n",
        "\n",
        "*   modifica data di nascita in anno di nascita (int64)\n",
        "*   one hot-econding su (coorte, Diploma_scuola_superiore, area_geografica_scuolasuperiore, area_geografica_residenza)\n",
        "*   filling su voto_scuola_superiore (utilizzando la mediana dei valori dell'intorno calcolato su area_geografica_scuola_superiore e Diploma_scuola_superiore)\n",
        "*   filling Merito_ISEE (la classe_ISEE in questo caso agisce come indicatore di reddito famigliare) a questo punto, si\n",
        "      si potrebbe procedere creando una feature continua, la contribuzione_tasse, che indichi la contribuzione delle tasse,\n",
        "      quindi tutti gli studenti con classe_ISEE (0, 1) avranno contribuzione_tasse pari a 0. L'implementazione sarà congrua\n",
        "      con gli scaglioni delle tasse di unibo nel 2016/2017 - 2017/2018 - 2018/2019\n",
        "*   modifica il tipo di corso con durata_corso -> L: 3, LM: 2, LMCU: 5\n",
        "\n",
        "\n",
        "A questo punto Classe_ISEE è un buon indicatore del reddito familiare e contribuzione_tasse del contributo pagato"
      ],
      "metadata": {
        "id": "OhvNU4Oln6su"
      }
    },
    {
      "cell_type": "code",
      "source": [
        "# ESTRAPOLAZIONE ANNO DI NASCITA - DURATA CORSO - GENERE\n",
        "def get_year(date):\n",
        "    return date.year\n",
        "\n",
        "def get_duration(course_type):\n",
        "    if(course_type == \"L\"):\n",
        "        return 3\n",
        "    elif(course_type == \"LM\"):\n",
        "        return 2\n",
        "    elif(course_type == \"LMCU\"):\n",
        "        return 5\n",
        "    \n",
        "def get_genre(genre):\n",
        "    if(genre == 1):\n",
        "        return 0\n",
        "    else:\n",
        "        return 1\n",
        "\n",
        "df['AnnoNascita'] = df['DataNascita'].apply(get_year)\n",
        "df.drop('DataNascita', axis=1, inplace=True)\n",
        "\n",
        "df['DurataCorso'] = df['TipoCorso'].apply(get_duration)\n",
        "df.drop('TipoCorso', axis=1, inplace=True)\n",
        "\n",
        "df['Genere'] = df['Genere'].apply(get_genre)\n",
        "\n",
        "\n",
        "# FILLING Merito_ISEE\n",
        "                \n",
        "def calculate_contribuzione_tasse(dt):\n",
        "    nrows = dt.shape[0]\n",
        "    for i in range(nrows):\n",
        "        current = dt.iloc[i]\n",
        "        if(current['Coorte'] == 2016):\n",
        "            if(current['Classe_ISEE'] == 0 or current['Classe_ISEE'] == 1) : dt.loc[i, \"Contribuzione_tasse\"] = 1\n",
        "            elif(current['Merito_ISEE'] <= 23000) : dt.loc[i, \"Contribuzione_tasse\"] = 0\n",
        "            elif(current['Merito_ISEE'] <= 28880.63) : dt.loc[i, \"Contribuzione_tasse\"] = 0.5\n",
        "            elif(current['Merito_ISEE'] <= 33371.84) : dt.loc[i, \"Contribuzione_tasse\"] = 0.6\n",
        "            elif(current['Merito_ISEE'] <= 38506.71) : dt.loc[i, \"Contribuzione_tasse\"] = 0.7\n",
        "            elif(current['Merito_ISEE'] <= 44922.89) : dt.loc[i, \"Contribuzione_tasse\"] = 0.8\n",
        "            elif(current['Merito_ISEE'] <= 51337.89) : dt.loc[i, \"Contribuzione_tasse\"] = 0.9\n",
        "            elif(current['Merito_ISEE'] >= 51337.90) : dt.loc[i, \"Contribuzione_tasse\"] = 1\n",
        "        else:\n",
        "            if(current['Classe_ISEE'] == 0 or current['Classe_ISEE'] == 1) : dt.loc[i, \"Contribuzione_tasse\"] = 1\n",
        "            elif(current['Merito_ISEE'] <= 23000) : dt.loc[i, \"Contribuzione_tasse\"] = 0\n",
        "            elif(current['Merito_ISEE'] <= 33000) : dt.loc[i, \"Contribuzione_tasse\"] = 0.5\n",
        "            elif(current['Merito_ISEE'] <= 45000) : dt.loc[i, \"Contribuzione_tasse\"] = 0.7\n",
        "            elif(current['Merito_ISEE'] <= 60000) : dt.loc[i, \"Contribuzione_tasse\"] = 0.8\n",
        "            elif(current['Merito_ISEE'] <= 70000) : dt.loc[i, \"Contribuzione_tasse\"] = 0.9\n",
        "            elif(current['Merito_ISEE'] >= 70001) : dt.loc[i, \"Contribuzione_tasse\"] = 1\n",
        "                \n",
        "calculate_contribuzione_tasse(df)\n",
        "df.drop('Merito_ISEE', axis=1, inplace=True)\n",
        "df.info()"
      ],
      "metadata": {
        "id": "XT9Hz1iUn5O3"
      },
      "execution_count": null,
      "outputs": []
    },
    {
      "cell_type": "markdown",
      "source": [
        "### One-hot-encode"
      ],
      "metadata": {
        "id": "yyinrXCzrY5E"
      }
    },
    {
      "cell_type": "code",
      "source": [
        "def one_hot_encode_n_merge(dt, column, prefix = None):\n",
        "    name = prefix if prefix is not None else column\n",
        "    encoded = pd.get_dummies(dt[column], prefix=name)\n",
        "    return pd.concat([dt, encoded], axis=1)\n",
        "    \n",
        "# ONE HOT ENCODING Coorte\n",
        "df = one_hot_encode_n_merge(df, 'Coorte')\n",
        "df.drop('Coorte', axis=1, inplace=True)\n",
        "\n",
        "# ONE HOT ENCODING Diploma_scuola_superiore\n",
        "df = one_hot_encode_n_merge(df, 'Diploma_scuola_superiore', 'Diploma')\n",
        "df.drop('Diploma_scuola_superiore', axis=1, inplace=True)\n",
        "\n",
        "# ONE HOT ENCODING area_geografica_scuolasuperiore\n",
        "df = one_hot_encode_n_merge(df, 'area_geografica_scuolasuperiore')\n",
        "df.drop('area_geografica_scuolasuperiore', axis=1, inplace=True)\n",
        "\n",
        "# ONE HOT ENCODING area_geografica_residenza\n",
        "df = one_hot_encode_n_merge(df, 'area_geografica_residenza')\n",
        "df.drop('area_geografica_residenza', axis=1, inplace=True)\n",
        "\n",
        "# ONE HOT ENCODING CdS\n",
        "df = one_hot_encode_n_merge(df, 'CdS')\n",
        "df.drop('CdS', axis=1, inplace=True)\n",
        "\n",
        "# ONE HOT ENCODING Ambito\n",
        "df = one_hot_encode_n_merge(df, 'Ambito')\n",
        "df.drop('Ambito', axis=1, inplace=True)\n",
        "\n",
        "# DROP Sede\n",
        "df.drop('Sede', axis=1, inplace=True)\n",
        "\n",
        "# ONE HOT ENCODING Campus\n",
        "df = one_hot_encode_n_merge(df, 'Campus')\n",
        "df.drop('Campus', axis=1, inplace=True)\n",
        "\n",
        "df.info()"
      ],
      "metadata": {
        "id": "BlNlUG5Cq-kl"
      },
      "execution_count": null,
      "outputs": []
    },
    {
      "cell_type": "markdown",
      "source": [
        "## Aggiunta informazioni degli esami al dataset\n",
        "Verranno estrapolate le seguenti informazioni per poi essere aggiunte al dataset degli studenti:\n",
        "- Numero di cfu conseguiti da ogni studente\n",
        "- Media dei voti degli esami\n",
        "\n",
        "Ci sono 910 studenti senza media (oltre i 5587 che non hanno neanche cfu conseguiti, che vengono rimossi), si è optato per riempire la colonna della media voti con la media di tutti gli studenti così da non influire statisticamente"
      ],
      "metadata": {
        "id": "ejJnNaYnsgjg"
      }
    },
    {
      "cell_type": "code",
      "source": [
        "df_esami.info()"
      ],
      "metadata": {
        "id": "SvR4HjcRr4XY"
      },
      "execution_count": null,
      "outputs": []
    },
    {
      "cell_type": "code",
      "source": [
        "media_voti = df_esami.groupby(['ID_Studente']).mean()['Voto_se_numerico']\n",
        "cfu_superati = df_esami.groupby(['ID_Studente']).sum()['CFUsuperati']\n",
        "\n",
        "media_voti = media_voti.fillna(media_voti.mean())\n",
        "\n",
        "dt = pd.merge(df, media_voti, left_on = 'ID_Studente', right_on = 'ID_Studente', how = 'left')\n",
        "dt = pd.merge(dt, cfu_superati, left_on = 'ID_Studente', right_on = 'ID_Studente', how = 'left')\n",
        "dt = dt.rename(columns={\"Voto_se_numerico\": \"media_voto\", \"CFUsuperati\": \"cfu_superati\"})\n",
        "\n",
        "dt.dropna(subset=['media_voto', 'cfu_superati'], axis=0, inplace=True)\n",
        "\n",
        "print_missing_values(dt)\n",
        "print(\"\\n#######################################################\\n\")\n",
        "print_columns_len(dt)"
      ],
      "metadata": {
        "id": "CnOnETTps9n-"
      },
      "execution_count": null,
      "outputs": []
    },
    {
      "cell_type": "markdown",
      "source": [
        "## Normalizzazione dati\n",
        "Scrivi perchè normalizzare e non standardizzare"
      ],
      "metadata": {
        "id": "eeDrK9sIgOuH"
      }
    },
    {
      "cell_type": "code",
      "source": [
        "mmscaler = MinMaxScaler()\n",
        "\n",
        "def scale_n_add_to_dt(dataset, column):\n",
        "  #print(column.shape)]\n",
        "  toScale = dataset[column].to_numpy().reshape(-1, 1)\n",
        "  #print(column.shape)\n",
        "  scaled_column = mmscaler.fit_transform(toScale).squeeze()\n",
        "  #print(scaled_column.shape)\n",
        "  dataset.drop(column, axis=1, inplace=True)\n",
        "  dataset[column] = scaled_column\n",
        "  #.squeeze()\n",
        "  return dataset\n",
        "  #return pd.concat([dataset, pd.Series(scaled_column)], axis=1)\n",
        "\n",
        "dt = scale_n_add_to_dt(dt, 'voto_scuola_superiore')\n",
        "dt = scale_n_add_to_dt(dt, 'media_voto')\n",
        "dt = scale_n_add_to_dt(dt, 'cfu_superati')\n",
        "dt = scale_n_add_to_dt(dt, 'AnnoNascita')\n",
        "dt = scale_n_add_to_dt(dt, 'DurataCorso')\n",
        "dt = scale_n_add_to_dt(dt, 'Classe_ISEE')\n",
        "\n",
        "print_columns_len(dt)\n",
        "dt.info()"
      ],
      "metadata": {
        "id": "pT2yBKd-gYoH"
      },
      "execution_count": null,
      "outputs": []
    },
    {
      "cell_type": "markdown",
      "source": [
        "## Salvataggio su file excel\n"
      ],
      "metadata": {
        "id": "icFB5cpK1BbA"
      }
    },
    {
      "cell_type": "code",
      "source": [
        "dt.to_excel(base_url + 'final_dataset.xlsx')"
      ],
      "metadata": {
        "id": "J5OFap5X0Mm7"
      },
      "execution_count": null,
      "outputs": []
    },
    {
      "cell_type": "markdown",
      "source": [
        "# DATA ACQUISITION"
      ],
      "metadata": {
        "id": "PCfZwIpUVnMv"
      }
    },
    {
      "cell_type": "code",
      "source": [
        "if(not local):\n",
        "  drive.mount('/content/drive')\n",
        "\n",
        "dt = pd.read_excel(base_url + 'final_dataset.xlsx')\n",
        "\n",
        "dropout_ids = dt.loc[(dt['Abbandoni'] > 0)][\"ID_Studente\"]\n",
        "\n",
        "y = dt['Abbandoni']\n",
        "x = dt.drop('Abbandoni', axis=1)\n",
        "\n",
        "x_train, x_test, y_train, y_test = sklearn.model_selection.train_test_split(x, y, stratify=y, test_size=0.15)\n",
        "print(\"X train size: \" + str(x_train.shape))\n",
        "print(\"Y train size: \" + str(y_train.shape))\n",
        "print(\"X test size: \" + str(x_test.shape))\n",
        "print(\"Y test size: \" + str(y_test.shape))"
      ],
      "metadata": {
        "colab": {
          "base_uri": "https://localhost:8080/"
        },
        "id": "b9Fzt6hbVs5D",
        "outputId": "f1cefee2-8cd5-4021-8814-0d87e69d5f18"
      },
      "execution_count": null,
      "outputs": [
        {
          "output_type": "stream",
          "name": "stdout",
          "text": [
            "Mounted at /content/drive\n",
            "X train size: (52439, 312)\n",
            "Y train size: (52439,)\n",
            "X test size: (9254, 312)\n",
            "Y test size: (9254,)\n"
          ]
        }
      ]
    },
    {
      "cell_type": "markdown",
      "source": [
        "# SVM"
      ],
      "metadata": {
        "id": "UYNUndvQdp-l"
      }
    },
    {
      "cell_type": "markdown",
      "source": [
        "## Linear SVM"
      ],
      "metadata": {
        "id": "ri2zK7B7dvaU"
      }
    },
    {
      "cell_type": "code",
      "source": [
        "linear_svm_filename = 'linear_svm.sav'\n",
        "use_pretrained = True\n",
        "\n",
        "if(use_pretrained):\n",
        "  _svm = joblib_load_model(linear_svm_filename)\n",
        "else:\n",
        "  _svm = svm.SVC(kernel='linear')\n",
        "  _svm.fit(x_train, y_train)\n",
        "  joblib_save_model(_svm, linear_svm_filename)\n",
        "\n",
        "y_predict = _svm.predict(x_test)"
      ],
      "metadata": {
        "id": "5pmp6JlrZs-G"
      },
      "execution_count": null,
      "outputs": []
    },
    {
      "cell_type": "markdown",
      "source": [
        "### Metriche di performance"
      ],
      "metadata": {
        "id": "BoBnB3a3elZh"
      }
    },
    {
      "cell_type": "code",
      "source": [
        "print_classification_report_n_mconfusion(y_predict, y_test)"
      ],
      "metadata": {
        "colab": {
          "base_uri": "https://localhost:8080/",
          "height": 453
        },
        "id": "k9k5ppq0fu4v",
        "outputId": "e67e1d8c-6db1-425f-f01c-413131631e92"
      },
      "execution_count": null,
      "outputs": [
        {
          "output_type": "stream",
          "name": "stdout",
          "text": [
            "              precision    recall  f1-score   support\n",
            "\n",
            "           0       0.99      0.96      0.97      9130\n",
            "           1       0.01      0.05      0.02       124\n",
            "\n",
            "    accuracy                           0.94      9254\n",
            "   macro avg       0.50      0.50      0.50      9254\n",
            "weighted avg       0.97      0.94      0.96      9254\n",
            "\n"
          ]
        },
        {
          "output_type": "display_data",
          "data": {
            "text/plain": [
              "<Figure size 432x288 with 2 Axes>"
            ],
            "image/png": "[encoded data removed]"
          },
          "metadata": {
            "needs_background": "light"
          }
        },
        {
          "output_type": "stream",
          "name": "stdout",
          "text": [
            "> Roc auc score: 0.501\n"
          ]
        }
      ]
    },
    {
      "cell_type": "markdown",
      "source": [
        "## RBF nuSVM"
      ],
      "metadata": {
        "id": "19ZijHKBvY7m"
      }
    },
    {
      "cell_type": "code",
      "source": [
        "linear_svm_filename = 'rbf_svm.sav'\n",
        "use_pretrained = True\n",
        "\n",
        "if(use_pretrained):\n",
        "  _svm = joblib_load_model(linear_svm_filename)\n",
        "else:\n",
        "  _svm = NuSVC(nu=0.001)\n",
        "  _svm.fit(x_train, y_train)\n",
        "  joblib_save_model(_svm, linear_svm_filename)\n",
        "\n",
        "y_predict = _svm.predict(x_test)"
      ],
      "metadata": {
        "id": "nrVBf_9mvY7n"
      },
      "execution_count": 15,
      "outputs": []
    },
    {
      "cell_type": "markdown",
      "source": [
        "### Metriche di performance"
      ],
      "metadata": {
        "id": "Xb29b0KgvY7p"
      }
    },
    {
      "cell_type": "code",
      "source": [
        "print_classification_report_n_mconfusion(y_predict, y_test)"
      ],
      "metadata": {
        "colab": {
          "base_uri": "https://localhost:8080/",
          "height": 453
        },
        "outputId": "70cd2097-6994-4c7e-a54c-949fdf6de0a6",
        "id": "A402XDlovY7p"
      },
      "execution_count": 16,
      "outputs": [
        {
          "output_type": "stream",
          "name": "stdout",
          "text": [
            "              precision    recall  f1-score   support\n",
            "\n",
            "           0       0.35      0.96      0.51      3219\n",
            "           1       0.67      0.05      0.09      6035\n",
            "\n",
            "    accuracy                           0.36      9254\n",
            "   macro avg       0.51      0.50      0.30      9254\n",
            "weighted avg       0.56      0.36      0.23      9254\n",
            "\n"
          ]
        },
        {
          "output_type": "display_data",
          "data": {
            "text/plain": [
              "<Figure size 432x288 with 2 Axes>"
            ],
            "image/png": "[encoded data removed]"
          },
          "metadata": {
            "needs_background": "light"
          }
        },
        {
          "output_type": "stream",
          "name": "stdout",
          "text": [
            "> Roc auc score: 0.511\n"
          ]
        }
      ]
    },
    {
      "cell_type": "markdown",
      "source": [
        "## Weighted Class Linear SVM\n",
        "Viene aumentato il peso della classe 1 (aumentando il focus sulle istanze di tale classe -> ovvero gli abbandoni)"
      ],
      "metadata": {
        "id": "qTSIlXQjonwl"
      }
    },
    {
      "cell_type": "code",
      "source": [
        "filename = 'weighted_class_linear_svm.sav'\n",
        "use_pretrained = True\n",
        "\n",
        "if(use_pretrained):\n",
        "  _svm = joblib_load_model(filename)\n",
        "else:\n",
        "  _svm = svm.SVC(kernel='linear', class_weight={1: 10})\n",
        "  _svm.fit(x_train, y_train)\n",
        "  joblib_save_model(_svm, filename)\n",
        "\n",
        "y_predict = _svm.predict(x_test)"
      ],
      "metadata": {
        "id": "cZmdWVp2or0E"
      },
      "execution_count": null,
      "outputs": []
    },
    {
      "cell_type": "markdown",
      "source": [
        "### Metriche di performance"
      ],
      "metadata": {
        "id": "6qoMfilNpgbX"
      }
    },
    {
      "cell_type": "code",
      "source": [
        "print_classification_report_n_mconfusion(y_predict, y_test)"
      ],
      "metadata": {
        "colab": {
          "base_uri": "https://localhost:8080/",
          "height": 453
        },
        "id": "HeEtWItPph_Q",
        "outputId": "b4c7b335-1c67-4e9d-bdf8-abdd377f9d4f"
      },
      "execution_count": null,
      "outputs": [
        {
          "output_type": "stream",
          "name": "stdout",
          "text": [
            "              precision    recall  f1-score   support\n",
            "\n",
            "           0       0.96      0.96      0.96      8888\n",
            "           1       0.05      0.05      0.05       366\n",
            "\n",
            "    accuracy                           0.92      9254\n",
            "   macro avg       0.50      0.50      0.50      9254\n",
            "weighted avg       0.92      0.92      0.92      9254\n",
            "\n"
          ]
        },
        {
          "output_type": "display_data",
          "data": {
            "text/plain": [
              "<Figure size 432x288 with 2 Axes>"
            ],
            "image/png": "[encoded data removed]"
          },
          "metadata": {
            "needs_background": "light"
          }
        },
        {
          "output_type": "stream",
          "name": "stdout",
          "text": [
            "> Roc auc score: 0.503\n"
          ]
        }
      ]
    },
    {
      "cell_type": "markdown",
      "source": [
        "## Weighted Samples Linear SVM\n",
        "Vengono pesate maggiormente le singole istanze (vanno quindi prima trovate)"
      ],
      "metadata": {
        "id": "zgj4YFTIJYd4"
      }
    },
    {
      "cell_type": "code",
      "source": [
        "sample_weight = np.ones(len(x_train))\n",
        "for id in dropout_ids:\n",
        "  try:\n",
        "    if(x_train.iloc[id - 1] is not None):\n",
        "      sample_weight[id - 1] = 50\n",
        "  except:\n",
        "      pass\n",
        "    #print(\"Id: \" + str(id) + \" not in train test\")\n",
        "    \n",
        "\n",
        "weighted_samples_linear_svm_filename = 'weighted_samples_linear_svm.sav'\n",
        "use_pretrained = True\n",
        "\n",
        "if(use_pretrained):\n",
        "  _svm = joblib_load_model(weighted_samples_linear_svm_filename)\n",
        "else:\n",
        "  _svm = svm.SVC(kernel='linear')\n",
        "  _svm.fit(x_train, y_train, sample_weight=sample_weight)\n",
        "  joblib_save_model(_svm, weighted_samples_linear_svm_filename)\n",
        "\n",
        "y_predict = _svm.predict(x_test)"
      ],
      "metadata": {
        "id": "aVV3WJHlJkyZ"
      },
      "execution_count": null,
      "outputs": []
    },
    {
      "cell_type": "markdown",
      "source": [
        "\n",
        "\n",
        "### Metriche di performance"
      ],
      "metadata": {
        "id": "ge2UwVlPho35"
      }
    },
    {
      "cell_type": "code",
      "source": [
        "print_classification_report_n_mconfusion(y_predict, y_test)"
      ],
      "metadata": {
        "id": "UfScWCrtPH52",
        "colab": {
          "base_uri": "https://localhost:8080/",
          "height": 435
        },
        "outputId": "4d4a3b85-93a2-44a1-aa09-3063732ceceb"
      },
      "execution_count": null,
      "outputs": [
        {
          "output_type": "stream",
          "name": "stdout",
          "text": [
            "              precision    recall  f1-score   support\n",
            "\n",
            "           0       0.99      0.96      0.97      9131\n",
            "           1       0.02      0.07      0.03       123\n",
            "\n",
            "    accuracy                           0.94      9254\n",
            "   macro avg       0.50      0.51      0.50      9254\n",
            "weighted avg       0.97      0.94      0.96      9254\n",
            "\n"
          ]
        },
        {
          "output_type": "display_data",
          "data": {
            "text/plain": [
              "<Figure size 432x288 with 2 Axes>"
            ],
            "image/png": "[encoded data removed]"
          },
          "metadata": {
            "needs_background": "light"
          }
        }
      ]
    },
    {
      "cell_type": "markdown",
      "source": [
        "# Random Forest"
      ],
      "metadata": {
        "id": "gS9sdSazY1-X"
      }
    },
    {
      "cell_type": "markdown",
      "source": [
        "## Random forest with 1000 estimators"
      ],
      "metadata": {
        "id": "gfHEh4eAY49G"
      }
    },
    {
      "cell_type": "code",
      "source": [
        "filename = 'randomForest_1000.sav'\n",
        "use_pretrained = True\n",
        "\n",
        "if(use_pretrained):\n",
        "  rf = joblib_load_model(filename)\n",
        "else:\n",
        "  rf = RandomForestClassifier(n_estimators = 1000, criterion=\"entropy\", n_jobs=-1, verbose=2, random_state = 42, max_features=312)\n",
        "  rf.fit(x_train, y_train);\n",
        "  joblib_save_model(rf, filename)\n",
        "\n",
        "preds = rf.predict(x_test)"
      ],
      "metadata": {
        "colab": {
          "base_uri": "https://localhost:8080/"
        },
        "id": "s3Yl8pKEZAJw",
        "outputId": "1aa30590-f88d-43ad-dded-3824c118bf69"
      },
      "execution_count": null,
      "outputs": [
        {
          "output_type": "stream",
          "name": "stderr",
          "text": [
            "[Parallel(n_jobs=-1)]: Using backend ThreadingBackend with 2 concurrent workers.\n"
          ]
        },
        {
          "output_type": "stream",
          "name": "stdout",
          "text": [
            "building tree 1 of 1000\n",
            "building tree 2 of 1000\n",
            "building tree 3 of 1000\n",
            "building tree 4 of 1000\n",
            "building tree 5 of 1000\n",
            "building tree 6 of 1000\n",
            "building tree 7 of 1000\n",
            "building tree 8 of 1000\n",
            "building tree 9 of 1000\n",
            "building tree 10 of 1000\n",
            "building tree 11 of 1000\n",
            "building tree 12 of 1000\n",
            "building tree 13 of 1000\n",
            "building tree 14 of 1000\n",
            "building tree 15 of 1000\n",
            "building tree 16 of 1000\n",
            "building tree 17 of 1000\n",
            "building tree 18 of 1000\n",
            "building tree 19 of 1000\n",
            "building tree 20 of 1000\n",
            "building tree 21 of 1000\n",
            "building tree 22 of 1000\n",
            "building tree 23 of 1000\n",
            "building tree 24 of 1000\n",
            "building tree 25 of 1000\n",
            "building tree 26 of 1000\n",
            "building tree 27 of 1000\n",
            "building tree 28 of 1000\n",
            "building tree 29 of 1000\n",
            "building tree 30 of 1000\n",
            "building tree 31 of 1000\n",
            "building tree 32 of 1000\n",
            "building tree 33 of 1000\n",
            "building tree 34 of 1000\n",
            "building tree 35 of 1000\n",
            "building tree 36 of 1000\n",
            "building tree 37 of 1000\n",
            "building tree 38 of 1000\n"
          ]
        },
        {
          "output_type": "stream",
          "name": "stderr",
          "text": [
            "[Parallel(n_jobs=-1)]: Done  37 tasks      | elapsed:  1.1min\n"
          ]
        },
        {
          "output_type": "stream",
          "name": "stdout",
          "text": [
            "building tree 39 of 1000\n",
            "building tree 40 of 1000\n",
            "building tree 41 of 1000\n",
            "building tree 42 of 1000\n",
            "building tree 43 of 1000\n",
            "building tree 44 of 1000\n",
            "building tree 45 of 1000\n",
            "building tree 46 of 1000\n",
            "building tree 47 of 1000\n",
            "building tree 48 of 1000\n",
            "building tree 49 of 1000\n",
            "building tree 50 of 1000\n",
            "building tree 51 of 1000\n",
            "building tree 52 of 1000\n",
            "building tree 53 of 1000\n",
            "building tree 54 of 1000\n",
            "building tree 55 of 1000\n",
            "building tree 56 of 1000\n",
            "building tree 57 of 1000\n",
            "building tree 58 of 1000\n",
            "building tree 59 of 1000\n",
            "building tree 60 of 1000\n",
            "building tree 61 of 1000\n",
            "building tree 62 of 1000\n",
            "building tree 63 of 1000\n",
            "building tree 64 of 1000\n",
            "building tree 65 of 1000\n",
            "building tree 66 of 1000\n",
            "building tree 67 of 1000\n",
            "building tree 68 of 1000\n",
            "building tree 69 of 1000\n",
            "building tree 70 of 1000\n",
            "building tree 71 of 1000\n",
            "building tree 72 of 1000\n",
            "building tree 73 of 1000\n",
            "building tree 74 of 1000\n",
            "building tree 75 of 1000\n",
            "building tree 76 of 1000\n",
            "building tree 77 of 1000\n",
            "building tree 78 of 1000\n",
            "building tree 79 of 1000\n",
            "building tree 80 of 1000\n",
            "building tree 81 of 1000\n",
            "building tree 82 of 1000\n",
            "building tree 83 of 1000\n",
            "building tree 84 of 1000\n",
            "building tree 85 of 1000\n",
            "building tree 86 of 1000\n",
            "building tree 87 of 1000\n",
            "building tree 88 of 1000\n",
            "building tree 89 of 1000\n",
            "building tree 90 of 1000\n",
            "building tree 91 of 1000\n",
            "building tree 92 of 1000\n",
            "building tree 93 of 1000\n",
            "building tree 94 of 1000\n",
            "building tree 95 of 1000\n",
            "building tree 96 of 1000\n",
            "building tree 97 of 1000\n",
            "building tree 98 of 1000\n",
            "building tree 99 of 1000\n",
            "building tree 100 of 1000\n",
            "building tree 101 of 1000\n",
            "building tree 102 of 1000\n",
            "building tree 103 of 1000\n",
            "building tree 104 of 1000\n",
            "building tree 105 of 1000\n",
            "building tree 106 of 1000\n",
            "building tree 107 of 1000\n",
            "building tree 108 of 1000\n",
            "building tree 109 of 1000\n",
            "building tree 110 of 1000\n",
            "building tree 111 of 1000\n",
            "building tree 112 of 1000\n",
            "building tree 113 of 1000\n",
            "building tree 114 of 1000\n",
            "building tree 115 of 1000\n",
            "building tree 116 of 1000\n",
            "building tree 117 of 1000\n",
            "building tree 118 of 1000\n",
            "building tree 119 of 1000\n",
            "building tree 120 of 1000\n",
            "building tree 121 of 1000\n",
            "building tree 122 of 1000\n",
            "building tree 123 of 1000\n",
            "building tree 124 of 1000\n",
            "building tree 125 of 1000\n",
            "building tree 126 of 1000\n",
            "building tree 127 of 1000\n",
            "building tree 128 of 1000\n",
            "building tree 129 of 1000\n",
            "building tree 130 of 1000\n",
            "building tree 131 of 1000\n",
            "building tree 132 of 1000\n",
            "building tree 133 of 1000\n",
            "building tree 134 of 1000\n",
            "building tree 135 of 1000\n",
            "building tree 136 of 1000\n",
            "building tree 137 of 1000\n",
            "building tree 138 of 1000\n",
            "building tree 139 of 1000\n",
            "building tree 140 of 1000\n",
            "building tree 141 of 1000\n",
            "building tree 142 of 1000\n",
            "building tree 143 of 1000\n",
            "building tree 144 of 1000\n",
            "building tree 145 of 1000\n",
            "building tree 146 of 1000\n",
            "building tree 147 of 1000\n",
            "building tree 148 of 1000\n",
            "building tree 149 of 1000\n",
            "building tree 150 of 1000\n",
            "building tree 151 of 1000\n",
            "building tree 152 of 1000\n",
            "building tree 153 of 1000\n",
            "building tree 154 of 1000\n",
            "building tree 155 of 1000\n",
            "building tree 156 of 1000\n",
            "building tree 157 of 1000\n",
            "building tree 158 of 1000\n",
            "building tree 159 of 1000\n"
          ]
        },
        {
          "output_type": "stream",
          "name": "stderr",
          "text": [
            "[Parallel(n_jobs=-1)]: Done 158 tasks      | elapsed:  3.7min\n"
          ]
        },
        {
          "output_type": "stream",
          "name": "stdout",
          "text": [
            "building tree 160 of 1000\n",
            "building tree 161 of 1000\n",
            "building tree 162 of 1000\n",
            "building tree 163 of 1000\n",
            "building tree 164 of 1000\n",
            "building tree 165 of 1000\n",
            "building tree 166 of 1000\n",
            "building tree 167 of 1000\n",
            "building tree 168 of 1000\n",
            "building tree 169 of 1000\n",
            "building tree 170 of 1000\n",
            "building tree 171 of 1000\n",
            "building tree 172 of 1000\n",
            "building tree 173 of 1000\n",
            "building tree 174 of 1000\n",
            "building tree 175 of 1000\n",
            "building tree 176 of 1000\n",
            "building tree 177 of 1000\n",
            "building tree 178 of 1000\n",
            "building tree 179 of 1000\n",
            "building tree 180 of 1000\n",
            "building tree 181 of 1000\n",
            "building tree 182 of 1000\n",
            "building tree 183 of 1000\n",
            "building tree 184 of 1000\n",
            "building tree 185 of 1000\n",
            "building tree 186 of 1000\n",
            "building tree 187 of 1000\n",
            "building tree 188 of 1000\n",
            "building tree 189 of 1000\n",
            "building tree 190 of 1000\n",
            "building tree 191 of 1000\n",
            "building tree 192 of 1000\n",
            "building tree 193 of 1000\n",
            "building tree 194 of 1000\n",
            "building tree 195 of 1000\n",
            "building tree 196 of 1000\n",
            "building tree 197 of 1000\n",
            "building tree 198 of 1000\n",
            "building tree 199 of 1000\n",
            "building tree 200 of 1000\n",
            "building tree 201 of 1000\n",
            "building tree 202 of 1000\n",
            "building tree 203 of 1000\n",
            "building tree 204 of 1000\n",
            "building tree 205 of 1000\n",
            "building tree 206 of 1000\n",
            "building tree 207 of 1000\n",
            "building tree 208 of 1000\n",
            "building tree 209 of 1000\n",
            "building tree 210 of 1000\n",
            "building tree 211 of 1000\n",
            "building tree 212 of 1000\n",
            "building tree 213 of 1000\n",
            "building tree 214 of 1000\n",
            "building tree 215 of 1000\n",
            "building tree 216 of 1000\n",
            "building tree 217 of 1000\n",
            "building tree 218 of 1000\n",
            "building tree 219 of 1000\n",
            "building tree 220 of 1000\n",
            "building tree 221 of 1000\n",
            "building tree 222 of 1000\n",
            "building tree 223 of 1000\n",
            "building tree 224 of 1000\n",
            "building tree 225 of 1000\n",
            "building tree 226 of 1000\n",
            "building tree 227 of 1000\n",
            "building tree 228 of 1000\n",
            "building tree 229 of 1000\n",
            "building tree 230 of 1000\n",
            "building tree 231 of 1000\n",
            "building tree 232 of 1000\n",
            "building tree 233 of 1000\n",
            "building tree 234 of 1000\n",
            "building tree 235 of 1000\n",
            "building tree 236 of 1000\n",
            "building tree 237 of 1000\n",
            "building tree 238 of 1000\n",
            "building tree 239 of 1000\n",
            "building tree 240 of 1000\n",
            "building tree 241 of 1000\n",
            "building tree 242 of 1000\n",
            "building tree 243 of 1000\n",
            "building tree 244 of 1000\n",
            "building tree 245 of 1000\n",
            "building tree 246 of 1000\n",
            "building tree 247 of 1000\n",
            "building tree 248 of 1000\n",
            "building tree 249 of 1000\n",
            "building tree 250 of 1000\n",
            "building tree 251 of 1000\n",
            "building tree 252 of 1000\n",
            "building tree 253 of 1000\n",
            "building tree 254 of 1000\n",
            "building tree 255 of 1000\n",
            "building tree 256 of 1000\n",
            "building tree 257 of 1000\n",
            "building tree 258 of 1000\n",
            "building tree 259 of 1000\n",
            "building tree 260 of 1000\n",
            "building tree 261 of 1000\n",
            "building tree 262 of 1000\n",
            "building tree 263 of 1000\n",
            "building tree 264 of 1000\n",
            "building tree 265 of 1000\n",
            "building tree 266 of 1000\n",
            "building tree 267 of 1000\n",
            "building tree 268 of 1000\n",
            "building tree 269 of 1000\n",
            "building tree 270 of 1000\n",
            "building tree 271 of 1000\n",
            "building tree 272 of 1000\n",
            "building tree 273 of 1000\n",
            "building tree 274 of 1000\n",
            "building tree 275 of 1000\n",
            "building tree 276 of 1000\n",
            "building tree 277 of 1000\n",
            "building tree 278 of 1000\n",
            "building tree 279 of 1000\n",
            "building tree 280 of 1000\n",
            "building tree 281 of 1000\n",
            "building tree 282 of 1000\n",
            "building tree 283 of 1000\n",
            "building tree 284 of 1000\n",
            "building tree 285 of 1000\n",
            "building tree 286 of 1000\n",
            "building tree 287 of 1000\n",
            "building tree 288 of 1000\n",
            "building tree 289 of 1000\n",
            "building tree 290 of 1000\n",
            "building tree 291 of 1000\n",
            "building tree 292 of 1000\n",
            "building tree 293 of 1000\n",
            "building tree 294 of 1000\n",
            "building tree 295 of 1000\n",
            "building tree 296 of 1000\n",
            "building tree 297 of 1000\n",
            "building tree 298 of 1000\n",
            "building tree 299 of 1000\n",
            "building tree 300 of 1000\n",
            "building tree 301 of 1000\n",
            "building tree 302 of 1000\n",
            "building tree 303 of 1000\n",
            "building tree 304 of 1000\n",
            "building tree 305 of 1000\n",
            "building tree 306 of 1000\n",
            "building tree 307 of 1000\n",
            "building tree 308 of 1000\n",
            "building tree 309 of 1000\n",
            "building tree 310 of 1000\n",
            "building tree 311 of 1000\n",
            "building tree 312 of 1000\n",
            "building tree 313 of 1000\n",
            "building tree 314 of 1000\n",
            "building tree 315 of 1000\n",
            "building tree 316 of 1000\n",
            "building tree 317 of 1000\n",
            "building tree 318 of 1000\n",
            "building tree 319 of 1000\n",
            "building tree 320 of 1000\n",
            "building tree 321 of 1000\n",
            "building tree 322 of 1000\n",
            "building tree 323 of 1000\n",
            "building tree 324 of 1000\n",
            "building tree 325 of 1000\n",
            "building tree 326 of 1000\n",
            "building tree 327 of 1000\n",
            "building tree 328 of 1000\n",
            "building tree 329 of 1000\n",
            "building tree 330 of 1000\n",
            "building tree 331 of 1000\n",
            "building tree 332 of 1000\n",
            "building tree 333 of 1000\n",
            "building tree 334 of 1000\n",
            "building tree 335 of 1000\n",
            "building tree 336 of 1000\n",
            "building tree 337 of 1000\n",
            "building tree 338 of 1000\n",
            "building tree 339 of 1000\n",
            "building tree 340 of 1000\n",
            "building tree 341 of 1000\n",
            "building tree 342 of 1000\n",
            "building tree 343 of 1000\n",
            "building tree 344 of 1000\n",
            "building tree 345 of 1000\n",
            "building tree 346 of 1000\n",
            "building tree 347 of 1000\n",
            "building tree 348 of 1000\n",
            "building tree 349 of 1000\n",
            "building tree 350 of 1000\n",
            "building tree 351 of 1000\n",
            "building tree 352 of 1000\n",
            "building tree 353 of 1000\n",
            "building tree 354 of 1000\n",
            "building tree 355 of 1000\n",
            "building tree 356 of 1000\n",
            "building tree 357 of 1000\n",
            "building tree 358 of 1000\n",
            "building tree 359 of 1000\n",
            "building tree 360 of 1000\n",
            "building tree 361 of 1000\n",
            "building tree 362 of 1000\n"
          ]
        },
        {
          "output_type": "stream",
          "name": "stderr",
          "text": [
            "[Parallel(n_jobs=-1)]: Done 361 tasks      | elapsed:  7.7min\n"
          ]
        },
        {
          "output_type": "stream",
          "name": "stdout",
          "text": [
            "building tree 363 of 1000\n",
            "building tree 364 of 1000\n",
            "building tree 365 of 1000\n",
            "building tree 366 of 1000\n",
            "building tree 367 of 1000\n",
            "building tree 368 of 1000\n",
            "building tree 369 of 1000\n",
            "building tree 370 of 1000\n",
            "building tree 371 of 1000\n",
            "building tree 372 of 1000\n",
            "building tree 373 of 1000\n",
            "building tree 374 of 1000\n",
            "building tree 375 of 1000\n",
            "building tree 376 of 1000\n",
            "building tree 377 of 1000\n",
            "building tree 378 of 1000\n",
            "building tree 379 of 1000\n",
            "building tree 380 of 1000\n",
            "building tree 381 of 1000\n",
            "building tree 382 of 1000\n",
            "building tree 383 of 1000\n",
            "building tree 384 of 1000\n",
            "building tree 385 of 1000\n",
            "building tree 386 of 1000\n",
            "building tree 387 of 1000\n",
            "building tree 388 of 1000\n",
            "building tree 389 of 1000\n",
            "building tree 390 of 1000\n",
            "building tree 391 of 1000\n",
            "building tree 392 of 1000\n",
            "building tree 393 of 1000\n",
            "building tree 394 of 1000\n",
            "building tree 395 of 1000\n",
            "building tree 396 of 1000\n",
            "building tree 397 of 1000\n",
            "building tree 398 of 1000\n",
            "building tree 399 of 1000\n",
            "building tree 400 of 1000\n",
            "building tree 401 of 1000\n",
            "building tree 402 of 1000\n",
            "building tree 403 of 1000\n",
            "building tree 404 of 1000\n",
            "building tree 405 of 1000\n",
            "building tree 406 of 1000\n",
            "building tree 407 of 1000\n",
            "building tree 408 of 1000\n",
            "building tree 409 of 1000\n",
            "building tree 410 of 1000\n",
            "building tree 411 of 1000\n",
            "building tree 412 of 1000\n",
            "building tree 413 of 1000\n",
            "building tree 414 of 1000\n",
            "building tree 415 of 1000\n",
            "building tree 416 of 1000\n",
            "building tree 417 of 1000\n",
            "building tree 418 of 1000\n",
            "building tree 419 of 1000\n",
            "building tree 420 of 1000\n",
            "building tree 421 of 1000\n",
            "building tree 422 of 1000\n",
            "building tree 423 of 1000\n",
            "building tree 424 of 1000\n",
            "building tree 425 of 1000\n",
            "building tree 426 of 1000\n",
            "building tree 427 of 1000\n",
            "building tree 428 of 1000\n",
            "building tree 429 of 1000\n",
            "building tree 430 of 1000\n",
            "building tree 431 of 1000\n",
            "building tree 432 of 1000\n",
            "building tree 433 of 1000\n",
            "building tree 434 of 1000\n",
            "building tree 435 of 1000\n",
            "building tree 436 of 1000\n",
            "building tree 437 of 1000\n",
            "building tree 438 of 1000\n",
            "building tree 439 of 1000\n",
            "building tree 440 of 1000\n",
            "building tree 441 of 1000\n",
            "building tree 442 of 1000\n",
            "building tree 443 of 1000\n",
            "building tree 444 of 1000\n",
            "building tree 445 of 1000\n",
            "building tree 446 of 1000\n",
            "building tree 447 of 1000\n",
            "building tree 448 of 1000\n",
            "building tree 449 of 1000\n",
            "building tree 450 of 1000\n",
            "building tree 451 of 1000\n",
            "building tree 452 of 1000\n",
            "building tree 453 of 1000\n",
            "building tree 454 of 1000\n",
            "building tree 455 of 1000\n",
            "building tree 456 of 1000\n",
            "building tree 457 of 1000\n",
            "building tree 458 of 1000\n",
            "building tree 459 of 1000\n",
            "building tree 460 of 1000\n",
            "building tree 461 of 1000\n",
            "building tree 462 of 1000\n",
            "building tree 463 of 1000\n",
            "building tree 464 of 1000\n",
            "building tree 465 of 1000\n",
            "building tree 466 of 1000\n",
            "building tree 467 of 1000\n",
            "building tree 468 of 1000\n",
            "building tree 469 of 1000\n",
            "building tree 470 of 1000\n",
            "building tree 471 of 1000\n",
            "building tree 472 of 1000\n",
            "building tree 473 of 1000\n",
            "building tree 474 of 1000\n",
            "building tree 475 of 1000\n",
            "building tree 476 of 1000\n",
            "building tree 477 of 1000\n",
            "building tree 478 of 1000\n",
            "building tree 479 of 1000\n",
            "building tree 480 of 1000\n",
            "building tree 481 of 1000\n",
            "building tree 482 of 1000\n",
            "building tree 483 of 1000\n",
            "building tree 484 of 1000\n",
            "building tree 485 of 1000\n",
            "building tree 486 of 1000\n",
            "building tree 487 of 1000\n",
            "building tree 488 of 1000\n",
            "building tree 489 of 1000\n",
            "building tree 490 of 1000\n",
            "building tree 491 of 1000\n",
            "building tree 492 of 1000\n",
            "building tree 493 of 1000\n",
            "building tree 494 of 1000\n",
            "building tree 495 of 1000\n",
            "building tree 496 of 1000\n",
            "building tree 497 of 1000\n",
            "building tree 498 of 1000\n",
            "building tree 499 of 1000\n",
            "building tree 500 of 1000\n",
            "building tree 501 of 1000\n",
            "building tree 502 of 1000\n",
            "building tree 503 of 1000\n",
            "building tree 504 of 1000\n",
            "building tree 505 of 1000\n",
            "building tree 506 of 1000\n",
            "building tree 507 of 1000\n",
            "building tree 508 of 1000\n",
            "building tree 509 of 1000\n",
            "building tree 510 of 1000\n",
            "building tree 511 of 1000\n",
            "building tree 512 of 1000\n",
            "building tree 513 of 1000\n",
            "building tree 514 of 1000\n",
            "building tree 515 of 1000\n",
            "building tree 516 of 1000\n",
            "building tree 517 of 1000\n",
            "building tree 518 of 1000\n",
            "building tree 519 of 1000\n",
            "building tree 520 of 1000\n",
            "building tree 521 of 1000\n",
            "building tree 522 of 1000\n",
            "building tree 523 of 1000\n",
            "building tree 524 of 1000\n",
            "building tree 525 of 1000\n",
            "building tree 526 of 1000\n",
            "building tree 527 of 1000\n",
            "building tree 528 of 1000\n",
            "building tree 529 of 1000\n",
            "building tree 530 of 1000\n",
            "building tree 531 of 1000\n",
            "building tree 532 of 1000\n",
            "building tree 533 of 1000\n",
            "building tree 534 of 1000\n",
            "building tree 535 of 1000\n",
            "building tree 536 of 1000\n",
            "building tree 537 of 1000\n",
            "building tree 538 of 1000\n",
            "building tree 539 of 1000\n",
            "building tree 540 of 1000\n",
            "building tree 541 of 1000\n",
            "building tree 542 of 1000\n",
            "building tree 543 of 1000\n",
            "building tree 544 of 1000\n",
            "building tree 545 of 1000\n",
            "building tree 546 of 1000\n",
            "building tree 547 of 1000\n",
            "building tree 548 of 1000\n",
            "building tree 549 of 1000\n",
            "building tree 550 of 1000\n",
            "building tree 551 of 1000\n",
            "building tree 552 of 1000\n",
            "building tree 553 of 1000\n",
            "building tree 554 of 1000\n",
            "building tree 555 of 1000\n",
            "building tree 556 of 1000\n",
            "building tree 557 of 1000\n",
            "building tree 558 of 1000\n",
            "building tree 559 of 1000\n",
            "building tree 560 of 1000\n",
            "building tree 561 of 1000\n",
            "building tree 562 of 1000\n",
            "building tree 563 of 1000\n",
            "building tree 564 of 1000\n",
            "building tree 565 of 1000\n",
            "building tree 566 of 1000\n",
            "building tree 567 of 1000\n",
            "building tree 568 of 1000\n",
            "building tree 569 of 1000\n",
            "building tree 570 of 1000\n",
            "building tree 571 of 1000\n",
            "building tree 572 of 1000\n",
            "building tree 573 of 1000\n",
            "building tree 574 of 1000\n",
            "building tree 575 of 1000\n",
            "building tree 576 of 1000\n",
            "building tree 577 of 1000\n",
            "building tree 578 of 1000\n",
            "building tree 579 of 1000\n",
            "building tree 580 of 1000\n",
            "building tree 581 of 1000\n",
            "building tree 582 of 1000\n",
            "building tree 583 of 1000\n",
            "building tree 584 of 1000\n",
            "building tree 585 of 1000\n",
            "building tree 586 of 1000\n",
            "building tree 587 of 1000\n",
            "building tree 588 of 1000\n",
            "building tree 589 of 1000\n",
            "building tree 590 of 1000\n",
            "building tree 591 of 1000\n",
            "building tree 592 of 1000\n",
            "building tree 593 of 1000\n",
            "building tree 594 of 1000\n",
            "building tree 595 of 1000\n",
            "building tree 596 of 1000\n",
            "building tree 597 of 1000\n",
            "building tree 598 of 1000\n",
            "building tree 599 of 1000\n",
            "building tree 600 of 1000\n",
            "building tree 601 of 1000\n",
            "building tree 602 of 1000\n",
            "building tree 603 of 1000\n",
            "building tree 604 of 1000\n",
            "building tree 605 of 1000\n",
            "building tree 606 of 1000\n",
            "building tree 607 of 1000\n",
            "building tree 608 of 1000\n",
            "building tree 609 of 1000\n",
            "building tree 610 of 1000\n",
            "building tree 611 of 1000\n",
            "building tree 612 of 1000\n",
            "building tree 613 of 1000\n",
            "building tree 614 of 1000\n",
            "building tree 615 of 1000\n",
            "building tree 616 of 1000\n",
            "building tree 617 of 1000\n",
            "building tree 618 of 1000\n",
            "building tree 619 of 1000\n",
            "building tree 620 of 1000\n",
            "building tree 621 of 1000\n",
            "building tree 622 of 1000\n",
            "building tree 623 of 1000\n",
            "building tree 624 of 1000\n",
            "building tree 625 of 1000\n",
            "building tree 626 of 1000\n",
            "building tree 627 of 1000\n",
            "building tree 628 of 1000\n",
            "building tree 629 of 1000\n",
            "building tree 630 of 1000\n",
            "building tree 631 of 1000\n",
            "building tree 632 of 1000\n",
            "building tree 633 of 1000\n",
            "building tree 634 of 1000\n",
            "building tree 635 of 1000\n",
            "building tree 636 of 1000\n",
            "building tree 637 of 1000\n",
            "building tree 638 of 1000\n",
            "building tree 639 of 1000\n",
            "building tree 640 of 1000\n",
            "building tree 641 of 1000\n",
            "building tree 642 of 1000\n",
            "building tree 643 of 1000\n",
            "building tree 644 of 1000\n",
            "building tree 645 of 1000\n"
          ]
        },
        {
          "output_type": "stream",
          "name": "stderr",
          "text": [
            "[Parallel(n_jobs=-1)]: Done 644 tasks      | elapsed: 13.3min\n"
          ]
        },
        {
          "output_type": "stream",
          "name": "stdout",
          "text": [
            "building tree 646 of 1000\n",
            "building tree 647 of 1000\n",
            "building tree 648 of 1000\n",
            "building tree 649 of 1000\n",
            "building tree 650 of 1000\n",
            "building tree 651 of 1000\n",
            "building tree 652 of 1000\n",
            "building tree 653 of 1000\n",
            "building tree 654 of 1000\n",
            "building tree 655 of 1000\n",
            "building tree 656 of 1000\n",
            "building tree 657 of 1000\n",
            "building tree 658 of 1000\n",
            "building tree 659 of 1000\n",
            "building tree 660 of 1000\n",
            "building tree 661 of 1000\n",
            "building tree 662 of 1000\n",
            "building tree 663 of 1000\n",
            "building tree 664 of 1000\n",
            "building tree 665 of 1000\n",
            "building tree 666 of 1000\n",
            "building tree 667 of 1000\n",
            "building tree 668 of 1000\n",
            "building tree 669 of 1000\n",
            "building tree 670 of 1000\n",
            "building tree 671 of 1000\n",
            "building tree 672 of 1000\n",
            "building tree 673 of 1000\n",
            "building tree 674 of 1000\n",
            "building tree 675 of 1000\n",
            "building tree 676 of 1000\n",
            "building tree 677 of 1000\n",
            "building tree 678 of 1000\n",
            "building tree 679 of 1000\n",
            "building tree 680 of 1000\n",
            "building tree 681 of 1000\n",
            "building tree 682 of 1000\n",
            "building tree 683 of 1000\n",
            "building tree 684 of 1000\n",
            "building tree 685 of 1000\n",
            "building tree 686 of 1000\n",
            "building tree 687 of 1000\n",
            "building tree 688 of 1000\n",
            "building tree 689 of 1000\n",
            "building tree 690 of 1000\n",
            "building tree 691 of 1000\n",
            "building tree 692 of 1000\n",
            "building tree 693 of 1000\n",
            "building tree 694 of 1000\n",
            "building tree 695 of 1000\n",
            "building tree 696 of 1000\n",
            "building tree 697 of 1000\n",
            "building tree 698 of 1000\n",
            "building tree 699 of 1000\n",
            "building tree 700 of 1000\n",
            "building tree 701 of 1000\n",
            "building tree 702 of 1000\n",
            "building tree 703 of 1000\n",
            "building tree 704 of 1000\n",
            "building tree 705 of 1000\n",
            "building tree 706 of 1000\n",
            "building tree 707 of 1000\n",
            "building tree 708 of 1000\n",
            "building tree 709 of 1000\n",
            "building tree 710 of 1000\n",
            "building tree 711 of 1000\n",
            "building tree 712 of 1000\n",
            "building tree 713 of 1000\n",
            "building tree 714 of 1000\n",
            "building tree 715 of 1000\n",
            "building tree 716 of 1000\n",
            "building tree 717 of 1000\n",
            "building tree 718 of 1000\n",
            "building tree 719 of 1000\n",
            "building tree 720 of 1000\n",
            "building tree 721 of 1000\n",
            "building tree 722 of 1000\n",
            "building tree 723 of 1000\n",
            "building tree 724 of 1000\n",
            "building tree 725 of 1000\n",
            "building tree 726 of 1000\n",
            "building tree 727 of 1000\n",
            "building tree 728 of 1000\n",
            "building tree 729 of 1000\n",
            "building tree 730 of 1000\n",
            "building tree 731 of 1000\n",
            "building tree 732 of 1000\n",
            "building tree 733 of 1000\n",
            "building tree 734 of 1000\n",
            "building tree 735 of 1000\n",
            "building tree 736 of 1000\n",
            "building tree 737 of 1000\n",
            "building tree 738 of 1000\n",
            "building tree 739 of 1000\n",
            "building tree 740 of 1000\n",
            "building tree 741 of 1000\n",
            "building tree 742 of 1000\n",
            "building tree 743 of 1000\n",
            "building tree 744 of 1000\n",
            "building tree 745 of 1000\n",
            "building tree 746 of 1000\n",
            "building tree 747 of 1000\n",
            "building tree 748 of 1000\n",
            "building tree 749 of 1000\n",
            "building tree 750 of 1000\n",
            "building tree 751 of 1000\n",
            "building tree 752 of 1000\n",
            "building tree 753 of 1000\n",
            "building tree 754 of 1000\n",
            "building tree 755 of 1000\n",
            "building tree 756 of 1000\n",
            "building tree 757 of 1000\n",
            "building tree 758 of 1000\n",
            "building tree 759 of 1000\n",
            "building tree 760 of 1000\n",
            "building tree 761 of 1000\n",
            "building tree 762 of 1000\n",
            "building tree 763 of 1000\n",
            "building tree 764 of 1000\n",
            "building tree 765 of 1000\n",
            "building tree 766 of 1000\n",
            "building tree 767 of 1000\n",
            "building tree 768 of 1000\n",
            "building tree 769 of 1000\n",
            "building tree 770 of 1000\n",
            "building tree 771 of 1000\n",
            "building tree 772 of 1000\n",
            "building tree 773 of 1000\n",
            "building tree 774 of 1000\n",
            "building tree 775 of 1000\n",
            "building tree 776 of 1000\n",
            "building tree 777 of 1000\n",
            "building tree 778 of 1000\n",
            "building tree 779 of 1000\n",
            "building tree 780 of 1000\n",
            "building tree 781 of 1000\n",
            "building tree 782 of 1000\n",
            "building tree 783 of 1000\n",
            "building tree 784 of 1000\n",
            "building tree 785 of 1000\n",
            "building tree 786 of 1000\n",
            "building tree 787 of 1000\n",
            "building tree 788 of 1000\n",
            "building tree 789 of 1000\n",
            "building tree 790 of 1000\n",
            "building tree 791 of 1000\n",
            "building tree 792 of 1000\n",
            "building tree 793 of 1000\n",
            "building tree 794 of 1000\n",
            "building tree 795 of 1000\n",
            "building tree 796 of 1000\n",
            "building tree 797 of 1000\n",
            "building tree 798 of 1000\n",
            "building tree 799 of 1000\n",
            "building tree 800 of 1000\n",
            "building tree 801 of 1000\n",
            "building tree 802 of 1000\n",
            "building tree 803 of 1000\n",
            "building tree 804 of 1000\n",
            "building tree 805 of 1000\n",
            "building tree 806 of 1000\n",
            "building tree 807 of 1000\n",
            "building tree 808 of 1000\n",
            "building tree 809 of 1000\n",
            "building tree 810 of 1000\n",
            "building tree 811 of 1000\n",
            "building tree 812 of 1000\n",
            "building tree 813 of 1000\n",
            "building tree 814 of 1000\n",
            "building tree 815 of 1000\n",
            "building tree 816 of 1000\n",
            "building tree 817 of 1000\n",
            "building tree 818 of 1000\n",
            "building tree 819 of 1000\n",
            "building tree 820 of 1000\n",
            "building tree 821 of 1000\n",
            "building tree 822 of 1000\n",
            "building tree 823 of 1000\n",
            "building tree 824 of 1000\n",
            "building tree 825 of 1000\n",
            "building tree 826 of 1000\n",
            "building tree 827 of 1000\n",
            "building tree 828 of 1000\n",
            "building tree 829 of 1000\n",
            "building tree 830 of 1000\n",
            "building tree 831 of 1000\n",
            "building tree 832 of 1000\n",
            "building tree 833 of 1000\n",
            "building tree 834 of 1000\n",
            "building tree 835 of 1000\n",
            "building tree 836 of 1000\n",
            "building tree 837 of 1000\n",
            "building tree 838 of 1000\n",
            "building tree 839 of 1000\n",
            "building tree 840 of 1000\n",
            "building tree 841 of 1000\n",
            "building tree 842 of 1000\n",
            "building tree 843 of 1000\n",
            "building tree 844 of 1000\n",
            "building tree 845 of 1000\n",
            "building tree 846 of 1000\n",
            "building tree 847 of 1000\n",
            "building tree 848 of 1000\n",
            "building tree 849 of 1000\n",
            "building tree 850 of 1000\n",
            "building tree 851 of 1000\n",
            "building tree 852 of 1000\n",
            "building tree 853 of 1000\n",
            "building tree 854 of 1000\n",
            "building tree 855 of 1000\n",
            "building tree 856 of 1000\n",
            "building tree 857 of 1000\n",
            "building tree 858 of 1000\n",
            "building tree 859 of 1000\n",
            "building tree 860 of 1000\n",
            "building tree 861 of 1000\n",
            "building tree 862 of 1000\n",
            "building tree 863 of 1000\n",
            "building tree 864 of 1000\n",
            "building tree 865 of 1000\n",
            "building tree 866 of 1000\n",
            "building tree 867 of 1000\n",
            "building tree 868 of 1000\n",
            "building tree 869 of 1000\n",
            "building tree 870 of 1000\n",
            "building tree 871 of 1000\n",
            "building tree 872 of 1000\n",
            "building tree 873 of 1000\n",
            "building tree 874 of 1000\n",
            "building tree 875 of 1000\n",
            "building tree 876 of 1000\n",
            "building tree 877 of 1000\n",
            "building tree 878 of 1000\n",
            "building tree 879 of 1000\n",
            "building tree 880 of 1000\n",
            "building tree 881 of 1000\n",
            "building tree 882 of 1000\n",
            "building tree 883 of 1000\n",
            "building tree 884 of 1000\n",
            "building tree 885 of 1000\n",
            "building tree 886 of 1000\n",
            "building tree 887 of 1000\n",
            "building tree 888 of 1000\n",
            "building tree 889 of 1000\n",
            "building tree 890 of 1000\n",
            "building tree 891 of 1000\n",
            "building tree 892 of 1000\n",
            "building tree 893 of 1000\n",
            "building tree 894 of 1000\n",
            "building tree 895 of 1000\n",
            "building tree 896 of 1000\n",
            "building tree 897 of 1000\n",
            "building tree 898 of 1000\n",
            "building tree 899 of 1000\n",
            "building tree 900 of 1000\n",
            "building tree 901 of 1000\n",
            "building tree 902 of 1000\n",
            "building tree 903 of 1000\n",
            "building tree 904 of 1000\n",
            "building tree 905 of 1000\n",
            "building tree 906 of 1000\n",
            "building tree 907 of 1000\n",
            "building tree 908 of 1000\n",
            "building tree 909 of 1000\n",
            "building tree 910 of 1000\n",
            "building tree 911 of 1000\n",
            "building tree 912 of 1000\n",
            "building tree 913 of 1000\n",
            "building tree 914 of 1000\n",
            "building tree 915 of 1000\n",
            "building tree 916 of 1000\n",
            "building tree 917 of 1000\n",
            "building tree 918 of 1000\n",
            "building tree 919 of 1000\n",
            "building tree 920 of 1000\n",
            "building tree 921 of 1000\n",
            "building tree 922 of 1000\n",
            "building tree 923 of 1000\n",
            "building tree 924 of 1000\n",
            "building tree 925 of 1000\n",
            "building tree 926 of 1000\n",
            "building tree 927 of 1000\n",
            "building tree 928 of 1000\n",
            "building tree 929 of 1000\n",
            "building tree 930 of 1000\n",
            "building tree 931 of 1000\n",
            "building tree 932 of 1000\n",
            "building tree 933 of 1000\n",
            "building tree 934 of 1000\n",
            "building tree 935 of 1000\n",
            "building tree 936 of 1000\n",
            "building tree 937 of 1000\n",
            "building tree 938 of 1000\n",
            "building tree 939 of 1000\n",
            "building tree 940 of 1000\n",
            "building tree 941 of 1000\n",
            "building tree 942 of 1000\n",
            "building tree 943 of 1000\n",
            "building tree 944 of 1000\n",
            "building tree 945 of 1000\n",
            "building tree 946 of 1000\n",
            "building tree 947 of 1000\n",
            "building tree 948 of 1000\n",
            "building tree 949 of 1000\n",
            "building tree 950 of 1000\n",
            "building tree 951 of 1000\n",
            "building tree 952 of 1000\n",
            "building tree 953 of 1000\n",
            "building tree 954 of 1000\n",
            "building tree 955 of 1000\n",
            "building tree 956 of 1000\n",
            "building tree 957 of 1000\n",
            "building tree 958 of 1000\n",
            "building tree 959 of 1000\n",
            "building tree 960 of 1000\n",
            "building tree 961 of 1000\n",
            "building tree 962 of 1000\n",
            "building tree 963 of 1000\n",
            "building tree 964 of 1000\n",
            "building tree 965 of 1000\n",
            "building tree 966 of 1000\n",
            "building tree 967 of 1000\n",
            "building tree 968 of 1000\n",
            "building tree 969 of 1000\n",
            "building tree 970 of 1000\n",
            "building tree 971 of 1000\n",
            "building tree 972 of 1000\n",
            "building tree 973 of 1000\n",
            "building tree 974 of 1000\n",
            "building tree 975 of 1000\n",
            "building tree 976 of 1000\n",
            "building tree 977 of 1000\n",
            "building tree 978 of 1000\n",
            "building tree 979 of 1000\n",
            "building tree 980 of 1000\n",
            "building tree 981 of 1000\n",
            "building tree 982 of 1000\n",
            "building tree 983 of 1000\n",
            "building tree 984 of 1000\n",
            "building tree 985 of 1000\n",
            "building tree 986 of 1000\n",
            "building tree 987 of 1000\n",
            "building tree 988 of 1000\n",
            "building tree 989 of 1000\n",
            "building tree 990 of 1000\n",
            "building tree 991 of 1000\n",
            "building tree 992 of 1000\n",
            "building tree 993 of 1000\n",
            "building tree 994 of 1000\n",
            "building tree 995 of 1000\n",
            "building tree 996 of 1000\n",
            "building tree 997 of 1000\n",
            "building tree 998 of 1000\n",
            "building tree 999 of 1000\n",
            "building tree 1000 of 1000\n"
          ]
        },
        {
          "output_type": "stream",
          "name": "stderr",
          "text": [
            "[Parallel(n_jobs=-1)]: Done 1000 out of 1000 | elapsed: 20.4min finished\n",
            "[Parallel(n_jobs=2)]: Using backend ThreadingBackend with 2 concurrent workers.\n",
            "[Parallel(n_jobs=2)]: Done  37 tasks      | elapsed:    0.1s\n",
            "[Parallel(n_jobs=2)]: Done 158 tasks      | elapsed:    0.3s\n",
            "[Parallel(n_jobs=2)]: Done 361 tasks      | elapsed:    0.6s\n",
            "[Parallel(n_jobs=2)]: Done 644 tasks      | elapsed:    1.1s\n",
            "[Parallel(n_jobs=2)]: Done 1000 out of 1000 | elapsed:    1.7s finished\n"
          ]
        }
      ]
    },
    {
      "cell_type": "markdown",
      "source": [
        "### Metriche di performance"
      ],
      "metadata": {
        "id": "6dq8bZ-7jU3Z"
      }
    },
    {
      "cell_type": "code",
      "source": [
        "print_classification_report_n_mconfusion(preds, y_test)"
      ],
      "metadata": {
        "colab": {
          "base_uri": "https://localhost:8080/",
          "height": 453
        },
        "id": "_WunwuT6ZKU0",
        "outputId": "9bec65d5-da8f-43a2-93b1-0603ea9ad40c"
      },
      "execution_count": null,
      "outputs": [
        {
          "output_type": "stream",
          "name": "stdout",
          "text": [
            "              precision    recall  f1-score   support\n",
            "\n",
            "           0       0.99      0.96      0.98      9082\n",
            "           1       0.23      0.56      0.33       172\n",
            "\n",
            "    accuracy                           0.96      9254\n",
            "   macro avg       0.61      0.76      0.65      9254\n",
            "weighted avg       0.98      0.96      0.97      9254\n",
            "\n"
          ]
        },
        {
          "output_type": "display_data",
          "data": {
            "text/plain": [
              "<Figure size 432x288 with 2 Axes>"
            ],
            "image/png": "[encoded data removed]"
          },
          "metadata": {
            "needs_background": "light"
          }
        },
        {
          "output_type": "stream",
          "name": "stdout",
          "text": [
            "> Roc auc score: 0.613\n"
          ]
        }
      ]
    },
    {
      "cell_type": "markdown",
      "source": [
        "# ANN Basic autoencoder"
      ],
      "metadata": {
        "id": "sMUrvA_RH-X8"
      }
    },
    {
      "cell_type": "markdown",
      "source": [
        "## Costruzione modello\n",
        "\n",
        "Per la realizzazione del modello si è scelto di utilizzare la libreria [Keras](https://keras.io/api/), essendo sviluppata logicamente sopra Tensorflow, ovvero Keras utlizza Tensorflow come back-end engine, è di facile utilizzo così da non rendere la curva di apprendimento del framework esageratamente alta ed infine essendo il framework numero uno per quanto riguarda l'ambito machine learning presenta una vasta comunity e un'API ben documentata.\n",
        "\n",
        "Keras espone un'API di alto livello con cui è possibile costruire reti neurali arbitrariamente complesse senza dover conoscere a fondo i meccanismi di funzionamento e le strutture dati adoperate da Tensorflow.\n",
        "\n",
        "Il modello è composto da 2 hidden layers composti da 1024 neuroni. Il primo layer ha come funzione di attivazione la funzione ReLU mentre il secondo la funzione sigmoid (sigmoide).\n",
        "\n",
        "Attraverso la funzione Sequential() si crea un modello in grado di raggruppare una sequenza lineare di layer.\n",
        "Con il metodo add() si possono aggiungere diversi tipi di layer, in questo caso tutti i layer sono di tipo *Dense* ovvero fortemente connessi con il layer inferiore e superiore.\n",
        "\n"
      ],
      "metadata": {
        "id": "wQU-dMwnIEpL"
      }
    },
    {
      "cell_type": "code",
      "source": [
        "input_n_output_dim = x_train.shape[1] #312\n",
        "\n",
        "# nr. di neuroni nell'encoding layer\n",
        "encoding_dim = 64\n",
        "encoding_dim_1 = 128\n",
        "encoding_dim_2 = 256\n",
        "\n",
        "# modern way of declaring the model\n",
        "autoencoder = Sequential()\n",
        "autoencoder.add(Input(shape=(input_n_output_dim,)))\n",
        "autoencoder.add(Dense(encoding_dim_2, activation='relu'))\n",
        "autoencoder.add(Dense(encoding_dim_1, activation='relu'))\n",
        "#autoencoder.add(Dense(encoding_dim, activation='relu'))\n",
        "#autoencoder.add(Dense(32, activation='relu'))\n",
        "#autoencoder.add(Dropout(0.02))\n",
        "#autoencoder.add(Dense(encoding_dim_1, activation='relu'))\n",
        "#autoencoder.add(Dropout(0.15))\n",
        "autoencoder.add(Dense(encoding_dim_2, activation='relu'))\n",
        "#autoencoder.add(Dropout(0.10))\n",
        "autoencoder.add(Dense(input_n_output_dim, activation='relu'))\n",
        "\n",
        "autoencoder.summary()"
      ],
      "metadata": {
        "id": "1QJw42ujhrJ3",
        "colab": {
          "base_uri": "https://localhost:8080/"
        },
        "outputId": "58795236-2954-430a-bcfd-6e28896c52e6"
      },
      "execution_count": null,
      "outputs": [
        {
          "output_type": "stream",
          "name": "stdout",
          "text": [
            "Model: \"sequential\"\n",
            "_________________________________________________________________\n",
            " Layer (type)                Output Shape              Param #   \n",
            "=================================================================\n",
            " dense (Dense)               (None, 256)               80128     \n",
            "                                                                 \n",
            " dense_1 (Dense)             (None, 128)               32896     \n",
            "                                                                 \n",
            " dense_2 (Dense)             (None, 256)               33024     \n",
            "                                                                 \n",
            " dense_3 (Dense)             (None, 312)               80184     \n",
            "                                                                 \n",
            "=================================================================\n",
            "Total params: 226,232\n",
            "Trainable params: 226,232\n",
            "Non-trainable params: 0\n",
            "_________________________________________________________________\n"
          ]
        }
      ]
    },
    {
      "cell_type": "markdown",
      "source": [
        "## Addestramento\n",
        "\n",
        "Il modello viene addestrato usando come funzione di costo la *mse* (mean squared error) e come ottimizzatore si è scelto di utilizzare Adam (Adaptive moment estimation).\n",
        "Il numero delle epoche è 30 e come batch size si è scelto 256"
      ],
      "metadata": {
        "id": "ANiCiFDeObsp"
      }
    },
    {
      "cell_type": "code",
      "source": [
        "opt = tf.keras.optimizers.Adam(learning_rate=0.0079)\n",
        "autoencoder.compile(optimizer=opt, loss='mse') #(adam, RMSprop, Adamax) - mse"
      ],
      "metadata": {
        "id": "SaOT85jPOH5N"
      },
      "execution_count": null,
      "outputs": []
    },
    {
      "cell_type": "markdown",
      "source": [
        "Il primo parametro rappresenta l'input del modello mentre il secondo il target, specificando i primi due paramentri (x e y) uguali, si forza il modello a cercare di ricostruire i valori in ingresso.\n",
        "Viene inoltre specificato un validation_split dell'1% così da poter monitorare la validation loss durante la fase di training"
      ],
      "metadata": {
        "id": "ery0mpr3OkHl"
      }
    },
    {
      "cell_type": "code",
      "source": [
        "autoencoder_filename = 'autoencoder.h5'\n",
        "use_pretrained = True\n",
        "\n",
        "if(use_pretrained):\n",
        "  autoencoder = keras_load_model(autoencoder_filename)\n",
        "else:\n",
        "  early_stop = EarlyStopping(monitor='val_loss', mode='min', verbose=1, patience=20)\n",
        "  mc = ModelCheckpoint(base_url + autoencoder_filename, monitor='val_loss', mode='min', save_best_only=True)\n",
        "\n",
        "  autoencoder.fit(\n",
        "          x_train,\n",
        "          x_train,\n",
        "          epochs = 150,\n",
        "          batch_size = 1024,\n",
        "          validation_data = (x_test, x_test),\n",
        "          callbacks=[early_stop, mc],\n",
        "  )\n",
        "  losses = pd.DataFrame(autoencoder.history.history)\n",
        "  losses[['loss']].plot()\n",
        "  losses[['loss','val_loss']].plot()\n",
        "\n"
      ],
      "metadata": {
        "id": "Vfl-R-sTOkvG"
      },
      "execution_count": null,
      "outputs": []
    },
    {
      "cell_type": "markdown",
      "source": [
        "## Validazione modello"
      ],
      "metadata": {
        "id": "j-wddqE2Z2Y6"
      }
    },
    {
      "cell_type": "code",
      "source": [
        "prediction_errors = []\n",
        "\n",
        "reconstructed = autoencoder.predict(x_test)\n",
        "\n",
        "mse = np.sum(np.power(x_test - reconstructed, 2), axis=1)\n",
        "z_scores = Z_Score(mse)"
      ],
      "metadata": {
        "id": "iPKzPnIB_XMr"
      },
      "execution_count": null,
      "outputs": []
    },
    {
      "cell_type": "code",
      "source": [
        "threshold_fixed = 2\n",
        "error_df_test = pd.DataFrame({'Z_score': z_scores,\n",
        "                        'True_class': y_test})\n",
        "groups = error_df_test.groupby('True_class')\n",
        "fig, ax = plt.subplots()\n",
        "for name, group in groups:\n",
        "    ax.plot(group.index, group.Z_score, marker='o', ms=3.5, linestyle='',\n",
        "            label= \"Dropout\" if name == 1 else \"Normal\")\n",
        "ax.hlines(threshold_fixed, ax.get_xlim()[0], ax.get_xlim()[1], colors=\"r\", zorder=100, label='Threshold')\n",
        "ax.legend()\n",
        "plt.title(\"Z score for different classes\")\n",
        "plt.ylabel(\"z-score\")\n",
        "plt.xlabel(\"Data point index\")\n",
        "plt.show();"
      ],
      "metadata": {
        "colab": {
          "base_uri": "https://localhost:8080/",
          "height": 295
        },
        "id": "VHb6fM2OaaRC",
        "outputId": "b3e3aa3a-c2c1-4ec9-c4c7-91e99039529d"
      },
      "execution_count": null,
      "outputs": [
        {
          "output_type": "display_data",
          "data": {
            "text/plain": [
              "<Figure size 432x288 with 1 Axes>"
            ],
            "image/png": "[encoded data removed]"
          },
          "metadata": {
            "needs_background": "light"
          }
        }
      ]
    },
    {
      "cell_type": "code",
      "source": [
        "pred_y = [1 if e > threshold_fixed else 0 for e in error_df_test.Z_score.values]\n",
        "conf_matrix = confusion_matrix(error_df_test.True_class, pred_y)\n",
        "plt.figure(figsize=(6, 6))\n",
        "sns.heatmap(conf_matrix, xticklabels=[\"Normal\",\"Dropout\"], yticklabels=[\"Normal\", \"Dropout\"], annot=True, fmt=\"d\");\n",
        "plt.title(\"Confusion matrix\")\n",
        "plt.ylabel('True class')\n",
        "plt.xlabel('Predicted class')\n",
        "plt.show()"
      ],
      "metadata": {
        "colab": {
          "base_uri": "https://localhost:8080/",
          "height": 404
        },
        "id": "KZurCheTabQT",
        "outputId": "4a9188cc-4a6a-4090-b0d8-740702eef875"
      },
      "execution_count": null,
      "outputs": [
        {
          "output_type": "display_data",
          "data": {
            "text/plain": [
              "<Figure size 432x432 with 2 Axes>"
            ],
            "image/png": "[encoded data removed]"
          },
          "metadata": {
            "needs_background": "light"
          }
        }
      ]
    },
    {
      "cell_type": "code",
      "source": [
        "y_pred = CreateLabelBasedOnZscore(z_scores, threshold_fixed)\n",
        "s = pd.Series(y_test)\n",
        "s.replace(0, -1, inplace=True)\n",
        "\n",
        "precision, recall, f1 = CalculatePrecisionRecallF1Metrics(s, y_pred)\n",
        "fpr, tpr, roc_auc = CalculateROCAUCMetrics(y_test, z_scores)\n",
        "precision_curve, recall_curve, average_precision = CalculatePrecisionRecallCurve(y_test, z_scores)\n",
        "n_normal = np.sum(y_test > 0)\n",
        "n_dropout = len(y_test) - n_normal\n",
        "baseline = n_dropout / len(y_test)\n",
        "\n",
        "PlotPrecisionRecallCurve(precision, recall, average_precision, baseline)\n",
        "PlotROCAUC(fpr, tpr, roc_auc)\n",
        "print(classification_report(y_test, y_pred))\n",
        "print(\"Precision: \", precision)"
      ],
      "metadata": {
        "colab": {
          "base_uri": "https://localhost:8080/",
          "height": 972
        },
        "id": "Fcq9VmpoqkLl",
        "outputId": "cc7f0088-26e9-401c-ef6d-6af27d41e992"
      },
      "execution_count": null,
      "outputs": [
        {
          "output_type": "stream",
          "name": "stdout",
          "text": [
            "<class 'pandas.core.series.Series'>\n",
            "55283   -1\n",
            "58454   -1\n",
            "56729   -1\n",
            "37978   -1\n",
            "37330   -1\n",
            "        ..\n",
            "20570   -1\n",
            "9266    -1\n",
            "8616    -1\n",
            "24936    1\n",
            "34332   -1\n",
            "Name: Abbandoni, Length: 9254, dtype: int64\n"
          ]
        },
        {
          "output_type": "display_data",
          "data": {
            "text/plain": [
              "<Figure size 432x288 with 1 Axes>"
            ],
            "image/png": "[encoded data removed]"
          },
          "metadata": {
            "needs_background": "light"
          }
        },
        {
          "output_type": "display_data",
          "data": {
            "text/plain": [
              "<Figure size 432x288 with 1 Axes>"
            ],
            "image/png": "[encoded data removed]"
          },
          "metadata": {
            "needs_background": "light"
          }
        },
        {
          "output_type": "stream",
          "name": "stdout",
          "text": [
            "              precision    recall  f1-score   support\n",
            "\n",
            "          -1       0.97      0.04      0.08      8839\n",
            "           1       0.05      0.97      0.09       415\n",
            "\n",
            "    accuracy                           0.08      9254\n",
            "   macro avg       0.51      0.51      0.08      9254\n",
            "weighted avg       0.93      0.08      0.08      9254\n",
            "\n",
            "Precision:  0.045351985559566786\n"
          ]
        }
      ]
    },
    {
      "cell_type": "markdown",
      "source": [
        "# SVM with z scores"
      ],
      "metadata": {
        "id": "GM91NGIEWqOB"
      }
    },
    {
      "cell_type": "code",
      "source": [
        "## Z-score for SVM\n",
        "y_test.replace(-1, 0, inplace=True)\n",
        "reconstructed_4z = autoencoder.predict(x_train)\n",
        "\n",
        "mse_4z = np.sum(np.power(x_train - reconstructed_4z, 2), axis=1)\n",
        "z_scores_4z = Z_Score(mse_4z)"
      ],
      "metadata": {
        "id": "oLf6TJDCa5gh"
      },
      "execution_count": null,
      "outputs": []
    },
    {
      "cell_type": "code",
      "source": [
        "from sklearn.svm import LinearSVC\n",
        "\n",
        "linear_svm_zscore_filename = 'linear_svm_zscore.sav'\n",
        "use_pretrained = False\n",
        "\n",
        "if(use_pretrained):\n",
        "  _svmz = joblib_load_model(linear_svm_zscore_filename)\n",
        "else:\n",
        "  _svmz = LinearSVC(random_state=0, tol=1e-5)\n",
        "  #_svmz = svm.SVC(gamma='auto')\n",
        "  _svmz.fit(np.array(z_scores_4z).reshape(-1, 1), y_train)\n",
        "  joblib_save_model(_svmz, linear_svm_zscore_filename)\n",
        "\n",
        "y_predict_z = _svmz.predict(np.array(z_scores).reshape(-1, 1))\n"
      ],
      "metadata": {
        "id": "T4LwtFsfWrV-"
      },
      "execution_count": null,
      "outputs": []
    },
    {
      "cell_type": "code",
      "source": [
        "print_classification_report_n_mconfusion(y_predict_z, y_test)\n",
        "print(y_predict_z[(y_predict_z > 0) == True].size)"
      ],
      "metadata": {
        "colab": {
          "base_uri": "https://localhost:8080/",
          "height": 577
        },
        "id": "8Yinm5s-YSKN",
        "outputId": "2fff171f-94cc-4711-9de6-4b3241db7c6b"
      },
      "execution_count": null,
      "outputs": [
        {
          "output_type": "stream",
          "name": "stderr",
          "text": [
            "/usr/local/lib/python3.7/dist-packages/sklearn/metrics/_classification.py:1318: UndefinedMetricWarning: Recall and F-score are ill-defined and being set to 0.0 in labels with no true samples. Use `zero_division` parameter to control this behavior.\n",
            "  _warn_prf(average, modifier, msg_start, len(result))\n",
            "/usr/local/lib/python3.7/dist-packages/sklearn/metrics/_classification.py:1318: UndefinedMetricWarning: Recall and F-score are ill-defined and being set to 0.0 in labels with no true samples. Use `zero_division` parameter to control this behavior.\n",
            "  _warn_prf(average, modifier, msg_start, len(result))\n",
            "/usr/local/lib/python3.7/dist-packages/sklearn/metrics/_classification.py:1318: UndefinedMetricWarning: Recall and F-score are ill-defined and being set to 0.0 in labels with no true samples. Use `zero_division` parameter to control this behavior.\n",
            "  _warn_prf(average, modifier, msg_start, len(result))\n"
          ]
        },
        {
          "output_type": "stream",
          "name": "stdout",
          "text": [
            "              precision    recall  f1-score   support\n",
            "\n",
            "           0       1.00      0.96      0.98      9254\n",
            "           1       0.00      0.00      0.00         0\n",
            "\n",
            "    accuracy                           0.96      9254\n",
            "   macro avg       0.50      0.48      0.49      9254\n",
            "weighted avg       1.00      0.96      0.98      9254\n",
            "\n"
          ]
        },
        {
          "output_type": "display_data",
          "data": {
            "text/plain": [
              "<Figure size 432x288 with 2 Axes>"
            ],
            "image/png": "[encoded data removed]"
          },
          "metadata": {
            "needs_background": "light"
          }
        },
        {
          "output_type": "stream",
          "name": "stdout",
          "text": [
            "0\n"
          ]
        }
      ]
    },
    {
      "cell_type": "markdown",
      "source": [
        "# XGBoost"
      ],
      "metadata": {
        "id": "3gaJvG9iPCAP"
      }
    },
    {
      "cell_type": "code",
      "source": [
        "xgb_cl = xgb.XGBClassifier()\n",
        "xgb_cl.fit(x_train, y_train)"
      ],
      "metadata": {
        "colab": {
          "base_uri": "https://localhost:8080/"
        },
        "id": "pl5o5VXMPK8-",
        "outputId": "e00dc87f-fd26-43c7-9655-5a173d4dd746"
      },
      "execution_count": null,
      "outputs": [
        {
          "output_type": "execute_result",
          "data": {
            "text/plain": [
              "XGBClassifier()"
            ]
          },
          "metadata": {},
          "execution_count": 27
        }
      ]
    },
    {
      "cell_type": "code",
      "source": [
        "preds = xgb_cl.predict(x_test)\n",
        "print_classification_report_n_mconfusion(preds, y_test)"
      ],
      "metadata": {
        "colab": {
          "base_uri": "https://localhost:8080/",
          "height": 435
        },
        "id": "FX34yk8iaZIJ",
        "outputId": "90e8cad6-eca0-4e0a-db20-670129dff800"
      },
      "execution_count": null,
      "outputs": [
        {
          "output_type": "stream",
          "name": "stdout",
          "text": [
            "              precision    recall  f1-score   support\n",
            "\n",
            "           0       1.00      0.96      0.98      9145\n",
            "           1       0.19      0.72      0.30       109\n",
            "\n",
            "    accuracy                           0.96      9254\n",
            "   macro avg       0.59      0.84      0.64      9254\n",
            "weighted avg       0.99      0.96      0.97      9254\n",
            "\n"
          ]
        },
        {
          "output_type": "display_data",
          "data": {
            "text/plain": [
              "<Figure size 432x288 with 2 Axes>"
            ],
            "image/png": "[encoded data removed]"
          },
          "metadata": {
            "needs_background": "light"
          }
        }
      ]
    },
    {
      "cell_type": "markdown",
      "source": [
        "## GridSearchCV\n",
        "\n",
        "GridSearchCV  è una classe inclusa in Scikit-learn che accetta dei range di possibili valori da testare come hyper-parameter e addestra più modelli su combinazioni dei possibili valori inseriti per determinare la miglior combinazine."
      ],
      "metadata": {
        "id": "o7C_NuFnfhzk"
      }
    },
    {
      "cell_type": "code",
      "source": [
        "param_grid = {\n",
        "    \"max_depth\": [5, 10],\n",
        "    \"learning_rate\": [0.1, 0.05],\n",
        "    \"gamma\": [0, 1],\n",
        "    \"reg_lambda\": [0, 10],\n",
        "    \"scale_pos_weight\": [1, 5],\n",
        "    \"subsample\": [0.8],\n",
        "    \"colsample_bytree\": [0.5, 0.9],\n",
        "}"
      ],
      "metadata": {
        "id": "gZdxfTPzgMxq"
      },
      "execution_count": null,
      "outputs": []
    },
    {
      "cell_type": "code",
      "source": [
        "xgb_cl = xgb.XGBClassifier(objective=\"binary:logistic\")\n",
        "\n",
        "grid_cv = GridSearchCV(xgb_cl, param_grid, n_jobs=-1, cv=3, scoring=\"roc_auc\", verbose=3)\n",
        "\n",
        "_ = grid_cv.fit(x, y)"
      ],
      "metadata": {
        "colab": {
          "base_uri": "https://localhost:8080/"
        },
        "id": "HDBVMN_Yggrt",
        "outputId": "69c4a503-a76e-4e55-bb12-66f973c64b8b"
      },
      "execution_count": null,
      "outputs": [
        {
          "output_type": "stream",
          "name": "stdout",
          "text": [
            "Fitting 3 folds for each of 64 candidates, totalling 192 fits\n"
          ]
        }
      ]
    },
    {
      "cell_type": "code",
      "source": [
        "print(grid_cv.best_score_)\n",
        "print(grid_cv.best_params_)"
      ],
      "metadata": {
        "id": "jNOR1GYphcxa",
        "colab": {
          "base_uri": "https://localhost:8080/"
        },
        "outputId": "c39add6d-ae00-440b-a1a2-490bfd3d0d6d"
      },
      "execution_count": null,
      "outputs": [
        {
          "output_type": "stream",
          "name": "stdout",
          "text": [
            "0.9268145160217172\n",
            "{'colsample_bytree': 0.5, 'gamma': 0, 'learning_rate': 0.1, 'max_depth': 5, 'reg_lambda': 10, 'scale_pos_weight': 1, 'subsample': 0.8}\n"
          ]
        }
      ]
    },
    {
      "cell_type": "markdown",
      "source": [
        "## Modello finale con i best params"
      ],
      "metadata": {
        "id": "GG970Pd_toUt"
      }
    },
    {
      "cell_type": "code",
      "source": [
        "best_params = {\n",
        "    'colsample_bytree': 0.5, \n",
        "    'gamma': 0, \n",
        "    'learning_rate': 0.1, \n",
        "    'max_depth': 5, \n",
        "    'reg_lambda': 10, \n",
        "    'scale_pos_weight': 1, \n",
        "    'subsample': 0.8\n",
        " }\n",
        "\n",
        "final_cl = xgb.XGBClassifier(\n",
        "    **best_params,\n",
        "    objective = \"binary:logistic\"\n",
        ")"
      ],
      "metadata": {
        "id": "sxxdGlvstvtB"
      },
      "execution_count": 13,
      "outputs": []
    },
    {
      "cell_type": "code",
      "source": [
        "_ = final_cl.fit(x_train, y_train)\n",
        "\n",
        "preds = final_cl.predict(x_test)\n",
        "print_classification_report_n_mconfusion(preds, y_test)"
      ],
      "metadata": {
        "id": "dlhYjY72p2Rw",
        "colab": {
          "base_uri": "https://localhost:8080/",
          "height": 453
        },
        "outputId": "ada6b437-b14e-4309-99d7-f3d5bd990c0f"
      },
      "execution_count": 14,
      "outputs": [
        {
          "output_type": "stream",
          "name": "stdout",
          "text": [
            "              precision    recall  f1-score   support\n",
            "\n",
            "           0       0.99      0.96      0.98      9120\n",
            "           1       0.19      0.59      0.29       134\n",
            "\n",
            "    accuracy                           0.96      9254\n",
            "   macro avg       0.59      0.78      0.63      9254\n",
            "weighted avg       0.98      0.96      0.97      9254\n",
            "\n"
          ]
        },
        {
          "output_type": "display_data",
          "data": {
            "text/plain": [
              "<Figure size 432x288 with 2 Axes>"
            ],
            "image/png": "[encoded data removed]"
          },
          "metadata": {
            "needs_background": "light"
          }
        },
        {
          "output_type": "stream",
          "name": "stdout",
          "text": [
            "> Roc auc score: 0.592\n"
          ]
        }
      ]
    },
    {
      "cell_type": "markdown",
      "source": [
        "# RISULTATI SPERIMENTALI MODELLI \n",
        "\n",
        "Di seguito sono riportati 2 grafici che mettono a confronto le metriche di 'accuracy' e 'roc-auc' per i seguenti modelli:\n",
        "\n",
        "1.   Random Forest 1000 estimators\n",
        "2.   XGBoost\n",
        "3.   RBF nuSVM\n",
        "4.   ANN basic autoencoder\n",
        "\n",
        "\n"
      ],
      "metadata": {
        "id": "zGF45xyHzmj4"
      }
    },
    {
      "cell_type": "code",
      "source": [
        "sns.set_theme(style=\"ticks\")\n",
        "models = [\"RF\", \"XGBoost\", \"RBF\", \"ANN\"]\n",
        "\n",
        "modelData = {\n",
        "  \"dataAccuracy\": [0.96, 0.96, 0.36, 0.08],\n",
        "  \"dataRocAuc\": [0.61, 0.59, 0.51, 0.54],\n",
        "  \"modelsName\": [\"RF\", \"XGBoost\", \"RBF\", \"ANN\"]\n",
        "}\n",
        "\n",
        "\n",
        "modelDf = pd.DataFrame(modelData)\n",
        "modelDf.head()\n",
        "\n",
        "\n",
        "#dataAccuracy = [0.96, 0.96, 0.36, 0.08]\n",
        "#dataRocAuc = [0.61, 0.59, 0.51, 0.54]\n",
        "\n",
        "g = sns.catplot(x='modelsName', y='dataAccuracy', kind=\"bar\", data=modelDf)\n",
        "f = sns.catplot(x='modelsName', y='dataRocAuc', kind=\"bar\", data=modelDf)\n",
        "plt.show()"
      ],
      "metadata": {
        "id": "_XvGZ9s80Zie",
        "colab": {
          "base_uri": "https://localhost:8080/",
          "height": 713
        },
        "outputId": "87ea6b47-7dab-4176-8f59-0ee782d51c7e"
      },
      "execution_count": 42,
      "outputs": [
        {
          "output_type": "display_data",
          "data": {
            "text/plain": [
              "<Figure size 360x360 with 1 Axes>"
            ],
            "image/png": "[encoded data removed]"
          },
          "metadata": {}
        },
        {
          "output_type": "display_data",
          "data": {
            "text/plain": [
              "<Figure size 360x360 with 1 Axes>"
            ],
            "image/png": "[encoded data removed]"
          },
          "metadata": {}
        }
      ]
    },
    {
      "cell_type": "markdown",
      "source": [
        "# SMOTE + Random undersampling on XGBoost"
      ],
      "metadata": {
        "id": "EyLjRA-Qn1hU"
      }
    },
    {
      "cell_type": "code",
      "source": [
        "# grid search k value for SMOTE oversampling for imbalanced classification\n",
        "from numpy import mean\n",
        "from sklearn.model_selection import cross_val_score\n",
        "from sklearn.model_selection import RepeatedStratifiedKFold\n",
        "from imblearn.pipeline import Pipeline\n",
        "from imblearn.over_sampling import SMOTE\n",
        "from imblearn.under_sampling import RandomUnderSampler\n",
        "\n",
        "# values to evaluate\n",
        "# k_values = [1, 2, 3, 4, 5, 6, 7]\n",
        "# for k in k_values:\n",
        "# 1 is the best\n",
        "# define pipeline\n",
        "model = final_cl\n",
        "over = SMOTE(sampling_strategy=0.1, k_neighbors=1)\n",
        "under = RandomUnderSampler(sampling_strategy=0.5)\n",
        "steps = [('over', over), ('under', under), ('model', model)]\n",
        "pipeline = Pipeline(steps=steps)\n",
        "# evaluate pipeline\n",
        "cv = RepeatedStratifiedKFold(n_splits=10, n_repeats=3, random_state=1)\n",
        "scores = cross_val_score(pipeline, x, y, scoring='roc_auc', cv=cv, n_jobs=-1)\n",
        "score = mean(scores)\n",
        "print('> k=%d, Mean Roc-auc: %.3f' %(1, score))"
      ],
      "metadata": {
        "id": "9ezvTiLPn-1k",
        "colab": {
          "base_uri": "https://localhost:8080/",
          "height": 450
        },
        "outputId": "20e76589-2475-4d42-f140-84b8982420f6"
      },
      "execution_count": null,
      "outputs": [
        {
          "output_type": "error",
          "ename": "ValueError",
          "evalue": "ignored",
          "traceback": [
            "\u001b[0;31m---------------------------------------------------------------------------\u001b[0m",
            "\u001b[0;31mKeyError\u001b[0m                                  Traceback (most recent call last)",
            "\u001b[0;32m/usr/local/lib/python3.7/dist-packages/sklearn/metrics/_scorer.py\u001b[0m in \u001b[0;36mget_scorer\u001b[0;34m(scoring)\u001b[0m\n\u001b[1;32m    403\u001b[0m         \u001b[0;32mtry\u001b[0m\u001b[0;34m:\u001b[0m\u001b[0;34m\u001b[0m\u001b[0;34m\u001b[0m\u001b[0m\n\u001b[0;32m--> 404\u001b[0;31m             \u001b[0mscorer\u001b[0m \u001b[0;34m=\u001b[0m \u001b[0mSCORERS\u001b[0m\u001b[0;34m[\u001b[0m\u001b[0mscoring\u001b[0m\u001b[0;34m]\u001b[0m\u001b[0;34m\u001b[0m\u001b[0;34m\u001b[0m\u001b[0m\n\u001b[0m\u001b[1;32m    405\u001b[0m         \u001b[0;32mexcept\u001b[0m \u001b[0mKeyError\u001b[0m\u001b[0;34m:\u001b[0m\u001b[0;34m\u001b[0m\u001b[0;34m\u001b[0m\u001b[0m\n",
            "\u001b[0;31mKeyError\u001b[0m: 'confusion_matrix_scorer'",
            "\nDuring handling of the above exception, another exception occurred:\n",
            "\u001b[0;31mValueError\u001b[0m                                Traceback (most recent call last)",
            "\u001b[0;32m<ipython-input-12-c08368316fb7>\u001b[0m in \u001b[0;36m<module>\u001b[0;34m\u001b[0m\n\u001b[1;32m     21\u001b[0m \u001b[0;31m# scores = cross_val_score(pipeline, x, y, scoring='roc_auc', cv=cv, n_jobs=-1)\u001b[0m\u001b[0;34m\u001b[0m\u001b[0;34m\u001b[0m\u001b[0;34m\u001b[0m\u001b[0m\n\u001b[1;32m     22\u001b[0m \u001b[0;31m# score = mean(scores)\u001b[0m\u001b[0;34m\u001b[0m\u001b[0;34m\u001b[0m\u001b[0;34m\u001b[0m\u001b[0m\n\u001b[0;32m---> 23\u001b[0;31m \u001b[0mmatrix_scores\u001b[0m \u001b[0;34m=\u001b[0m \u001b[0mcross_val_score\u001b[0m\u001b[0;34m(\u001b[0m\u001b[0mpipeline\u001b[0m\u001b[0;34m,\u001b[0m \u001b[0mx\u001b[0m\u001b[0;34m,\u001b[0m \u001b[0my\u001b[0m\u001b[0;34m,\u001b[0m \u001b[0mscoring\u001b[0m\u001b[0;34m=\u001b[0m\u001b[0;34m'confusion_matrix_scorer'\u001b[0m\u001b[0;34m,\u001b[0m \u001b[0mcv\u001b[0m\u001b[0;34m=\u001b[0m\u001b[0mcv\u001b[0m\u001b[0;34m,\u001b[0m \u001b[0mn_jobs\u001b[0m\u001b[0;34m=\u001b[0m\u001b[0;34m-\u001b[0m\u001b[0;36m1\u001b[0m\u001b[0;34m)\u001b[0m\u001b[0;34m\u001b[0m\u001b[0;34m\u001b[0m\u001b[0m\n\u001b[0m\u001b[1;32m     24\u001b[0m \u001b[0mprint\u001b[0m\u001b[0;34m(\u001b[0m\u001b[0mConfusionMatrixDisplay\u001b[0m\u001b[0;34m(\u001b[0m\u001b[0mconfusion_matrix\u001b[0m\u001b[0;34m=\u001b[0m\u001b[0mmatrix_scores\u001b[0m\u001b[0;34m)\u001b[0m\u001b[0;34m)\u001b[0m\u001b[0;34m\u001b[0m\u001b[0;34m\u001b[0m\u001b[0m\n\u001b[1;32m     25\u001b[0m \u001b[0;31m# print('> k=%d, Mean Roc-auc: %.3f' %(1, score))\u001b[0m\u001b[0;34m\u001b[0m\u001b[0;34m\u001b[0m\u001b[0;34m\u001b[0m\u001b[0m\n",
            "\u001b[0;32m/usr/local/lib/python3.7/dist-packages/sklearn/model_selection/_validation.py\u001b[0m in \u001b[0;36mcross_val_score\u001b[0;34m(estimator, X, y, groups, scoring, cv, n_jobs, verbose, fit_params, pre_dispatch, error_score)\u001b[0m\n\u001b[1;32m    505\u001b[0m     \"\"\"\n\u001b[1;32m    506\u001b[0m     \u001b[0;31m# To ensure multimetric format is not supported\u001b[0m\u001b[0;34m\u001b[0m\u001b[0;34m\u001b[0m\u001b[0;34m\u001b[0m\u001b[0m\n\u001b[0;32m--> 507\u001b[0;31m     \u001b[0mscorer\u001b[0m \u001b[0;34m=\u001b[0m \u001b[0mcheck_scoring\u001b[0m\u001b[0;34m(\u001b[0m\u001b[0mestimator\u001b[0m\u001b[0;34m,\u001b[0m \u001b[0mscoring\u001b[0m\u001b[0;34m=\u001b[0m\u001b[0mscoring\u001b[0m\u001b[0;34m)\u001b[0m\u001b[0;34m\u001b[0m\u001b[0;34m\u001b[0m\u001b[0m\n\u001b[0m\u001b[1;32m    508\u001b[0m \u001b[0;34m\u001b[0m\u001b[0m\n\u001b[1;32m    509\u001b[0m     cv_results = cross_validate(\n",
            "\u001b[0;32m/usr/local/lib/python3.7/dist-packages/sklearn/metrics/_scorer.py\u001b[0m in \u001b[0;36mcheck_scoring\u001b[0;34m(estimator, scoring, allow_none)\u001b[0m\n\u001b[1;32m    451\u001b[0m         )\n\u001b[1;32m    452\u001b[0m     \u001b[0;32mif\u001b[0m \u001b[0misinstance\u001b[0m\u001b[0;34m(\u001b[0m\u001b[0mscoring\u001b[0m\u001b[0;34m,\u001b[0m \u001b[0mstr\u001b[0m\u001b[0;34m)\u001b[0m\u001b[0;34m:\u001b[0m\u001b[0;34m\u001b[0m\u001b[0;34m\u001b[0m\u001b[0m\n\u001b[0;32m--> 453\u001b[0;31m         \u001b[0;32mreturn\u001b[0m \u001b[0mget_scorer\u001b[0m\u001b[0;34m(\u001b[0m\u001b[0mscoring\u001b[0m\u001b[0;34m)\u001b[0m\u001b[0;34m\u001b[0m\u001b[0;34m\u001b[0m\u001b[0m\n\u001b[0m\u001b[1;32m    454\u001b[0m     \u001b[0;32melif\u001b[0m \u001b[0mcallable\u001b[0m\u001b[0;34m(\u001b[0m\u001b[0mscoring\u001b[0m\u001b[0;34m)\u001b[0m\u001b[0;34m:\u001b[0m\u001b[0;34m\u001b[0m\u001b[0;34m\u001b[0m\u001b[0m\n\u001b[1;32m    455\u001b[0m         \u001b[0;31m# Heuristic to ensure user has not passed a metric\u001b[0m\u001b[0;34m\u001b[0m\u001b[0;34m\u001b[0m\u001b[0;34m\u001b[0m\u001b[0m\n",
            "\u001b[0;32m/usr/local/lib/python3.7/dist-packages/sklearn/metrics/_scorer.py\u001b[0m in \u001b[0;36mget_scorer\u001b[0;34m(scoring)\u001b[0m\n\u001b[1;32m    407\u001b[0m                 \u001b[0;34m\"%r is not a valid scoring value. \"\u001b[0m\u001b[0;34m\u001b[0m\u001b[0;34m\u001b[0m\u001b[0m\n\u001b[1;32m    408\u001b[0m                 \u001b[0;34m\"Use sorted(sklearn.metrics.SCORERS.keys()) \"\u001b[0m\u001b[0;34m\u001b[0m\u001b[0;34m\u001b[0m\u001b[0m\n\u001b[0;32m--> 409\u001b[0;31m                 \u001b[0;34m\"to get valid options.\"\u001b[0m \u001b[0;34m%\u001b[0m \u001b[0mscoring\u001b[0m\u001b[0;34m\u001b[0m\u001b[0;34m\u001b[0m\u001b[0m\n\u001b[0m\u001b[1;32m    410\u001b[0m             )\n\u001b[1;32m    411\u001b[0m     \u001b[0;32melse\u001b[0m\u001b[0;34m:\u001b[0m\u001b[0;34m\u001b[0m\u001b[0;34m\u001b[0m\u001b[0m\n",
            "\u001b[0;31mValueError\u001b[0m: 'confusion_matrix_scorer' is not a valid scoring value. Use sorted(sklearn.metrics.SCORERS.keys()) to get valid options."
          ]
        }
      ]
    },
    {
      "cell_type": "markdown",
      "source": [
        "# Just undersampling"
      ],
      "metadata": {
        "id": "OIUI_U-n_Bog"
      }
    },
    {
      "cell_type": "code",
      "source": [
        "models = [final_cl, rf]\n",
        "for _model in models:\n",
        "    model = _model\n",
        "    under = RandomUnderSampler(sampling_strategy='majority')\n",
        "    steps = [('under', under), ('model', model)]\n",
        "    pipeline = Pipeline(steps=steps)\n",
        "    # evaluate pipeline\n",
        "    cv = RepeatedStratifiedKFold(n_splits=10, n_repeats=3, random_state=1)\n",
        "    scores = cross_val_score(pipeline, x, y, scoring='roc_auc', cv=cv, n_jobs=-1)\n",
        "    score = mean(scores)\n",
        "    print('> Mean ROC AUC: %.3f' %(score))\n",
        "\n"
      ],
      "metadata": {
        "colab": {
          "base_uri": "https://localhost:8080/"
        },
        "id": "bDOsPMGr_MN1",
        "outputId": "b92df869-6463-40c4-af33-cf42b178af20"
      },
      "execution_count": null,
      "outputs": [
        {
          "output_type": "stream",
          "name": "stdout",
          "text": [
            "> Mean ROC AUC: 0.926\n",
            "> Mean ROC AUC: 0.921\n"
          ]
        }
      ]
    },
    {
      "cell_type": "code",
      "source": [
        "undersample = RandomUnderSampler(sampling_strategy=0.25)\n",
        "# fit and apply the transform\n",
        "X_over, y_over = undersample.fit_resample(x, y)\n",
        "x_train, x_test, y_train, y_test = sklearn.model_selection.train_test_split(X_over, y_over, stratify=y_over, test_size=0.3)\n",
        "print(\"X train size: \" + str(x_train.shape))\n",
        "print(\"Y train size: \" + str(y_train.shape))\n",
        "print(\"X test size: \" + str(x_test.shape))\n",
        "print(\"Y test size: \" + str(y_test.shape))\n",
        "\n",
        "best_params = {\n",
        "    'colsample_bytree': 0.5, \n",
        "    'gamma': 0, \n",
        "    'learning_rate': 0.1, \n",
        "    'max_depth': 5, \n",
        "    'reg_lambda': 10, \n",
        "    'scale_pos_weight': 1, \n",
        "    'subsample': 0.8\n",
        " }\n",
        "\n",
        "final_cl = xgb.XGBClassifier(\n",
        "    **best_params,\n",
        "    objective = \"binary:logistic\"\n",
        ")\n",
        "_ = final_cl.fit(x_train, y_train)\n",
        "\n",
        "preds_1 = final_cl.predict(x_test)\n",
        "\n",
        "rf_under = RandomForestClassifier(n_estimators = 1000, criterion=\"entropy\", n_jobs=-1, verbose=2, random_state = 42, max_features=312)\n",
        "rf_under.fit(x_train, y_train);\n",
        "preds_2 = rf.predict(x_test)"
      ],
      "metadata": {
        "colab": {
          "base_uri": "https://localhost:8080/"
        },
        "id": "Z23FlZdPH5iY",
        "outputId": "b3fa02f6-25ff-445a-e7cc-c7d706983634"
      },
      "execution_count": 46,
      "outputs": [
        {
          "output_type": "stream",
          "name": "stdout",
          "text": [
            "X train size: (9681, 312)\n",
            "Y train size: (9681,)\n",
            "X test size: (4149, 312)\n",
            "Y test size: (4149,)\n"
          ]
        },
        {
          "output_type": "stream",
          "name": "stderr",
          "text": [
            "[Parallel(n_jobs=-1)]: Using backend ThreadingBackend with 2 concurrent workers.\n"
          ]
        },
        {
          "output_type": "stream",
          "name": "stdout",
          "text": [
            "building tree 1 of 1000\n",
            "building tree 2 of 1000\n",
            "building tree 3 of 1000\n",
            "building tree 4 of 1000\n",
            "building tree 5 of 1000\n",
            "building tree 6 of 1000\n",
            "building tree 7 of 1000\n",
            "building tree 8 of 1000\n",
            "building tree 9 of 1000\n",
            "building tree 10 of 1000\n",
            "building tree 11 of 1000\n",
            "building tree 12 of 1000\n",
            "building tree 13 of 1000\n",
            "building tree 14 of 1000\n",
            "building tree 15 of 1000\n",
            "building tree 16 of 1000\n",
            "building tree 17 of 1000\n",
            "building tree 18 of 1000\n",
            "building tree 19 of 1000\n",
            "building tree 20 of 1000\n",
            "building tree 21 of 1000\n",
            "building tree 22 of 1000\n",
            "building tree 23 of 1000\n",
            "building tree 24 of 1000\n",
            "building tree 25 of 1000\n",
            "building tree 26 of 1000\n",
            "building tree 27 of 1000\n",
            "building tree 28 of 1000\n",
            "building tree 29 of 1000\n",
            "building tree 30 of 1000\n",
            "building tree 31 of 1000\n",
            "building tree 32 of 1000\n",
            "building tree 33 of 1000\n",
            "building tree 34 of 1000\n",
            "building tree 35 of 1000\n",
            "building tree 36 of 1000\n",
            "building tree 37 of 1000\n",
            "building tree 38 of 1000\n"
          ]
        },
        {
          "output_type": "stream",
          "name": "stderr",
          "text": [
            "[Parallel(n_jobs=-1)]: Done  37 tasks      | elapsed:    5.5s\n"
          ]
        },
        {
          "output_type": "stream",
          "name": "stdout",
          "text": [
            "building tree 39 of 1000\n",
            "building tree 40 of 1000\n",
            "building tree 41 of 1000\n",
            "building tree 42 of 1000\n",
            "building tree 43 of 1000\n",
            "building tree 44 of 1000\n",
            "building tree 45 of 1000\n",
            "building tree 46 of 1000\n",
            "building tree 47 of 1000\n",
            "building tree 48 of 1000\n",
            "building tree 49 of 1000\n",
            "building tree 50 of 1000\n",
            "building tree 51 of 1000\n",
            "building tree 52 of 1000\n",
            "building tree 53 of 1000\n",
            "building tree 54 of 1000\n",
            "building tree 55 of 1000\n",
            "building tree 56 of 1000\n",
            "building tree 57 of 1000\n",
            "building tree 58 of 1000\n",
            "building tree 59 of 1000\n",
            "building tree 60 of 1000\n",
            "building tree 61 of 1000\n",
            "building tree 62 of 1000\n",
            "building tree 63 of 1000\n",
            "building tree 64 of 1000\n",
            "building tree 65 of 1000\n",
            "building tree 66 of 1000\n",
            "building tree 67 of 1000\n",
            "building tree 68 of 1000\n",
            "building tree 69 of 1000\n",
            "building tree 70 of 1000\n",
            "building tree 71 of 1000\n",
            "building tree 72 of 1000\n",
            "building tree 73 of 1000\n",
            "building tree 74 of 1000\n",
            "building tree 75 of 1000\n",
            "building tree 76 of 1000\n",
            "building tree 77 of 1000\n",
            "building tree 78 of 1000\n",
            "building tree 79 of 1000\n",
            "building tree 80 of 1000\n",
            "building tree 81 of 1000\n",
            "building tree 82 of 1000\n",
            "building tree 83 of 1000\n",
            "building tree 84 of 1000\n",
            "building tree 85 of 1000\n",
            "building tree 86 of 1000\n",
            "building tree 87 of 1000\n",
            "building tree 88 of 1000\n",
            "building tree 89 of 1000\n",
            "building tree 90 of 1000\n",
            "building tree 91 of 1000\n",
            "building tree 92 of 1000\n",
            "building tree 93 of 1000\n",
            "building tree 94 of 1000\n",
            "building tree 95 of 1000\n",
            "building tree 96 of 1000\n",
            "building tree 97 of 1000\n",
            "building tree 98 of 1000\n",
            "building tree 99 of 1000\n",
            "building tree 100 of 1000\n",
            "building tree 101 of 1000\n",
            "building tree 102 of 1000\n",
            "building tree 103 of 1000\n",
            "building tree 104 of 1000\n",
            "building tree 105 of 1000\n",
            "building tree 106 of 1000\n",
            "building tree 107 of 1000\n",
            "building tree 108 of 1000\n",
            "building tree 109 of 1000\n",
            "building tree 110 of 1000\n",
            "building tree 111 of 1000\n",
            "building tree 112 of 1000\n",
            "building tree 113 of 1000\n",
            "building tree 114 of 1000\n",
            "building tree 115 of 1000\n",
            "building tree 116 of 1000\n",
            "building tree 117 of 1000\n",
            "building tree 118 of 1000building tree 119 of 1000\n",
            "\n",
            "building tree 120 of 1000\n",
            "building tree 121 of 1000\n",
            "building tree 122 of 1000\n",
            "building tree 123 of 1000\n",
            "building tree 124 of 1000\n",
            "building tree 125 of 1000\n",
            "building tree 126 of 1000\n",
            "building tree 127 of 1000\n",
            "building tree 128 of 1000\n",
            "building tree 129 of 1000\n",
            "building tree 130 of 1000\n",
            "building tree 131 of 1000\n",
            "building tree 132 of 1000\n",
            "building tree 133 of 1000\n",
            "building tree 134 of 1000\n",
            "building tree 135 of 1000\n",
            "building tree 136 of 1000\n",
            "building tree 137 of 1000\n",
            "building tree 138 of 1000\n",
            "building tree 139 of 1000\n",
            "building tree 140 of 1000\n",
            "building tree 141 of 1000\n",
            "building tree 142 of 1000\n",
            "building tree 143 of 1000\n",
            "building tree 144 of 1000\n",
            "building tree 145 of 1000\n",
            "building tree 146 of 1000\n",
            "building tree 147 of 1000\n",
            "building tree 148 of 1000\n",
            "building tree 149 of 1000\n",
            "building tree 150 of 1000\n",
            "building tree 151 of 1000\n",
            "building tree 152 of 1000\n",
            "building tree 153 of 1000\n",
            "building tree 154 of 1000\n",
            "building tree 155 of 1000\n",
            "building tree 156 of 1000\n",
            "building tree 157 of 1000\n",
            "building tree 158 of 1000\n",
            "building tree 159 of 1000\n"
          ]
        },
        {
          "output_type": "stream",
          "name": "stderr",
          "text": [
            "[Parallel(n_jobs=-1)]: Done 158 tasks      | elapsed:   22.8s\n"
          ]
        },
        {
          "output_type": "stream",
          "name": "stdout",
          "text": [
            "building tree 160 of 1000\n",
            "building tree 161 of 1000\n",
            "building tree 162 of 1000\n",
            "building tree 163 of 1000\n",
            "building tree 164 of 1000\n",
            "building tree 165 of 1000\n",
            "building tree 166 of 1000\n",
            "building tree 167 of 1000\n",
            "building tree 168 of 1000\n",
            "building tree 169 of 1000\n",
            "building tree 170 of 1000\n",
            "building tree 171 of 1000\n",
            "building tree 172 of 1000\n",
            "building tree 173 of 1000\n",
            "building tree 174 of 1000\n",
            "building tree 175 of 1000\n",
            "building tree 176 of 1000\n",
            "building tree 177 of 1000\n",
            "building tree 178 of 1000\n",
            "building tree 179 of 1000\n",
            "building tree 180 of 1000\n",
            "building tree 181 of 1000\n",
            "building tree 182 of 1000\n",
            "building tree 183 of 1000\n",
            "building tree 184 of 1000\n",
            "building tree 185 of 1000\n",
            "building tree 186 of 1000\n",
            "building tree 187 of 1000\n",
            "building tree 188 of 1000\n",
            "building tree 189 of 1000\n",
            "building tree 190 of 1000\n",
            "building tree 191 of 1000\n",
            "building tree 192 of 1000\n",
            "building tree 193 of 1000\n",
            "building tree 194 of 1000\n",
            "building tree 195 of 1000\n",
            "building tree 196 of 1000\n",
            "building tree 197 of 1000\n",
            "building tree 198 of 1000\n",
            "building tree 199 of 1000\n",
            "building tree 200 of 1000\n",
            "building tree 201 of 1000\n",
            "building tree 202 of 1000\n",
            "building tree 203 of 1000\n",
            "building tree 204 of 1000\n",
            "building tree 205 of 1000\n",
            "building tree 206 of 1000\n",
            "building tree 207 of 1000\n",
            "building tree 208 of 1000\n",
            "building tree 209 of 1000\n",
            "building tree 210 of 1000\n",
            "building tree 211 of 1000\n",
            "building tree 212 of 1000\n",
            "building tree 213 of 1000\n",
            "building tree 214 of 1000\n",
            "building tree 215 of 1000\n",
            "building tree 216 of 1000\n",
            "building tree 217 of 1000\n",
            "building tree 218 of 1000\n",
            "building tree 219 of 1000building tree 220 of 1000\n",
            "\n",
            "building tree 221 of 1000\n",
            "building tree 222 of 1000\n",
            "building tree 223 of 1000\n",
            "building tree 224 of 1000\n",
            "building tree 225 of 1000\n",
            "building tree 226 of 1000\n",
            "building tree 227 of 1000\n",
            "building tree 228 of 1000\n",
            "building tree 229 of 1000\n",
            "building tree 230 of 1000\n",
            "building tree 231 of 1000\n",
            "building tree 232 of 1000\n",
            "building tree 233 of 1000\n",
            "building tree 234 of 1000\n",
            "building tree 235 of 1000\n",
            "building tree 236 of 1000\n",
            "building tree 237 of 1000\n",
            "building tree 238 of 1000\n",
            "building tree 239 of 1000\n",
            "building tree 240 of 1000\n",
            "building tree 241 of 1000\n",
            "building tree 242 of 1000\n",
            "building tree 243 of 1000\n",
            "building tree 244 of 1000\n",
            "building tree 245 of 1000\n",
            "building tree 246 of 1000\n",
            "building tree 247 of 1000\n",
            "building tree 248 of 1000\n",
            "building tree 249 of 1000\n",
            "building tree 250 of 1000\n",
            "building tree 251 of 1000\n",
            "building tree 252 of 1000\n",
            "building tree 253 of 1000\n",
            "building tree 254 of 1000\n",
            "building tree 255 of 1000\n",
            "building tree 256 of 1000\n",
            "building tree 257 of 1000\n",
            "building tree 258 of 1000\n",
            "building tree 259 of 1000\n",
            "building tree 260 of 1000\n",
            "building tree 261 of 1000\n",
            "building tree 262 of 1000\n",
            "building tree 263 of 1000\n",
            "building tree 264 of 1000\n",
            "building tree 265 of 1000\n",
            "building tree 266 of 1000\n",
            "building tree 267 of 1000\n",
            "building tree 268 of 1000\n",
            "building tree 269 of 1000\n",
            "building tree 270 of 1000\n",
            "building tree 271 of 1000\n",
            "building tree 272 of 1000\n",
            "building tree 273 of 1000\n",
            "building tree 274 of 1000\n",
            "building tree 275 of 1000\n",
            "building tree 276 of 1000\n",
            "building tree 277 of 1000\n",
            "building tree 278 of 1000\n",
            "building tree 279 of 1000\n",
            "building tree 280 of 1000\n",
            "building tree 281 of 1000\n",
            "building tree 282 of 1000\n",
            "building tree 283 of 1000\n",
            "building tree 284 of 1000\n",
            "building tree 285 of 1000\n",
            "building tree 286 of 1000\n",
            "building tree 287 of 1000\n",
            "building tree 288 of 1000\n",
            "building tree 289 of 1000\n",
            "building tree 290 of 1000\n",
            "building tree 291 of 1000\n",
            "building tree 292 of 1000\n",
            "building tree 293 of 1000\n",
            "building tree 294 of 1000\n",
            "building tree 295 of 1000\n",
            "building tree 296 of 1000\n",
            "building tree 297 of 1000\n",
            "building tree 298 of 1000\n",
            "building tree 299 of 1000\n",
            "building tree 300 of 1000\n",
            "building tree 301 of 1000\n",
            "building tree 302 of 1000\n",
            "building tree 303 of 1000\n",
            "building tree 304 of 1000\n",
            "building tree 305 of 1000\n",
            "building tree 306 of 1000\n",
            "building tree 307 of 1000\n",
            "building tree 308 of 1000\n",
            "building tree 309 of 1000\n",
            "building tree 310 of 1000\n",
            "building tree 311 of 1000\n",
            "building tree 312 of 1000\n",
            "building tree 313 of 1000\n",
            "building tree 314 of 1000\n",
            "building tree 315 of 1000\n",
            "building tree 316 of 1000\n",
            "building tree 317 of 1000\n",
            "building tree 318 of 1000\n",
            "building tree 319 of 1000\n",
            "building tree 320 of 1000\n",
            "building tree 321 of 1000\n",
            "building tree 322 of 1000\n",
            "building tree 323 of 1000\n",
            "building tree 324 of 1000\n",
            "building tree 325 of 1000\n",
            "building tree 326 of 1000\n",
            "building tree 327 of 1000\n",
            "building tree 328 of 1000\n",
            "building tree 329 of 1000\n",
            "building tree 330 of 1000\n",
            "building tree 331 of 1000\n",
            "building tree 332 of 1000\n",
            "building tree 333 of 1000\n",
            "building tree 334 of 1000\n",
            "building tree 335 of 1000\n",
            "building tree 336 of 1000\n",
            "building tree 337 of 1000\n",
            "building tree 338 of 1000\n",
            "building tree 339 of 1000\n",
            "building tree 340 of 1000\n",
            "building tree 341 of 1000\n",
            "building tree 342 of 1000\n",
            "building tree 343 of 1000\n",
            "building tree 344 of 1000\n",
            "building tree 345 of 1000\n",
            "building tree 346 of 1000\n",
            "building tree 347 of 1000\n",
            "building tree 348 of 1000\n",
            "building tree 349 of 1000building tree 350 of 1000\n",
            "\n",
            "building tree 351 of 1000\n",
            "building tree 352 of 1000\n",
            "building tree 353 of 1000\n",
            "building tree 354 of 1000\n",
            "building tree 355 of 1000\n",
            "building tree 356 of 1000\n",
            "building tree 357 of 1000\n",
            "building tree 358 of 1000\n",
            "building tree 359 of 1000\n",
            "building tree 360 of 1000\n",
            "building tree 361 of 1000\n",
            "building tree 362 of 1000\n"
          ]
        },
        {
          "output_type": "stream",
          "name": "stderr",
          "text": [
            "[Parallel(n_jobs=-1)]: Done 361 tasks      | elapsed:   53.9s\n"
          ]
        },
        {
          "output_type": "stream",
          "name": "stdout",
          "text": [
            "building tree 363 of 1000\n",
            "building tree 364 of 1000\n",
            "building tree 365 of 1000\n",
            "building tree 366 of 1000\n",
            "building tree 367 of 1000\n",
            "building tree 368 of 1000\n",
            "building tree 369 of 1000\n",
            "building tree 370 of 1000\n",
            "building tree 371 of 1000\n",
            "building tree 372 of 1000\n",
            "building tree 373 of 1000\n",
            "building tree 374 of 1000\n",
            "building tree 375 of 1000\n",
            "building tree 376 of 1000\n",
            "building tree 377 of 1000\n",
            "building tree 378 of 1000\n",
            "building tree 379 of 1000\n",
            "building tree 380 of 1000\n",
            "building tree 381 of 1000\n",
            "building tree 382 of 1000\n",
            "building tree 383 of 1000\n",
            "building tree 384 of 1000\n",
            "building tree 385 of 1000\n",
            "building tree 386 of 1000\n",
            "building tree 387 of 1000\n",
            "building tree 388 of 1000\n",
            "building tree 389 of 1000\n",
            "building tree 390 of 1000\n",
            "building tree 391 of 1000\n",
            "building tree 392 of 1000\n",
            "building tree 393 of 1000\n",
            "building tree 394 of 1000\n",
            "building tree 395 of 1000\n",
            "building tree 396 of 1000\n",
            "building tree 397 of 1000\n",
            "building tree 398 of 1000\n",
            "building tree 399 of 1000\n",
            "building tree 400 of 1000\n",
            "building tree 401 of 1000\n",
            "building tree 402 of 1000\n",
            "building tree 403 of 1000\n",
            "building tree 404 of 1000\n",
            "building tree 405 of 1000\n",
            "building tree 406 of 1000\n",
            "building tree 407 of 1000\n",
            "building tree 408 of 1000\n",
            "building tree 409 of 1000\n",
            "building tree 410 of 1000\n",
            "building tree 411 of 1000\n",
            "building tree 412 of 1000\n",
            "building tree 413 of 1000\n",
            "building tree 414 of 1000\n",
            "building tree 415 of 1000\n",
            "building tree 416 of 1000\n",
            "building tree 417 of 1000\n",
            "building tree 418 of 1000\n",
            "building tree 419 of 1000\n",
            "building tree 420 of 1000\n",
            "building tree 421 of 1000\n",
            "building tree 422 of 1000\n",
            "building tree 423 of 1000\n",
            "building tree 424 of 1000\n",
            "building tree 425 of 1000\n",
            "building tree 426 of 1000\n",
            "building tree 427 of 1000\n",
            "building tree 428 of 1000\n",
            "building tree 429 of 1000\n",
            "building tree 430 of 1000\n",
            "building tree 431 of 1000\n",
            "building tree 432 of 1000\n",
            "building tree 433 of 1000\n",
            "building tree 434 of 1000\n",
            "building tree 435 of 1000\n",
            "building tree 436 of 1000\n",
            "building tree 437 of 1000\n",
            "building tree 438 of 1000\n",
            "building tree 439 of 1000\n",
            "building tree 440 of 1000building tree 441 of 1000\n",
            "\n",
            "building tree 442 of 1000\n",
            "building tree 443 of 1000\n",
            "building tree 444 of 1000\n",
            "building tree 445 of 1000\n",
            "building tree 446 of 1000\n",
            "building tree 447 of 1000\n",
            "building tree 448 of 1000\n",
            "building tree 449 of 1000\n",
            "building tree 450 of 1000\n",
            "building tree 451 of 1000\n",
            "building tree 452 of 1000\n",
            "building tree 453 of 1000\n",
            "building tree 454 of 1000\n",
            "building tree 455 of 1000\n",
            "building tree 456 of 1000\n",
            "building tree 457 of 1000\n",
            "building tree 458 of 1000\n",
            "building tree 459 of 1000\n",
            "building tree 460 of 1000\n",
            "building tree 461 of 1000\n",
            "building tree 462 of 1000\n",
            "building tree 463 of 1000\n",
            "building tree 464 of 1000\n",
            "building tree 465 of 1000\n",
            "building tree 466 of 1000\n",
            "building tree 467 of 1000\n",
            "building tree 468 of 1000\n",
            "building tree 469 of 1000\n",
            "building tree 470 of 1000\n",
            "building tree 471 of 1000\n",
            "building tree 472 of 1000\n",
            "building tree 473 of 1000\n",
            "building tree 474 of 1000\n",
            "building tree 475 of 1000\n",
            "building tree 476 of 1000\n",
            "building tree 477 of 1000\n",
            "building tree 478 of 1000\n",
            "building tree 479 of 1000\n",
            "building tree 480 of 1000\n",
            "building tree 481 of 1000\n",
            "building tree 482 of 1000\n",
            "building tree 483 of 1000\n",
            "building tree 484 of 1000\n",
            "building tree 485 of 1000\n",
            "building tree 486 of 1000\n",
            "building tree 487 of 1000\n",
            "building tree 488 of 1000\n",
            "building tree 489 of 1000\n",
            "building tree 490 of 1000\n",
            "building tree 491 of 1000\n",
            "building tree 492 of 1000\n",
            "building tree 493 of 1000\n",
            "building tree 494 of 1000\n",
            "building tree 495 of 1000\n",
            "building tree 496 of 1000\n",
            "building tree 497 of 1000\n",
            "building tree 498 of 1000\n",
            "building tree 499 of 1000\n",
            "building tree 500 of 1000\n",
            "building tree 501 of 1000\n",
            "building tree 502 of 1000\n",
            "building tree 503 of 1000\n",
            "building tree 504 of 1000\n",
            "building tree 505 of 1000\n",
            "building tree 506 of 1000\n",
            "building tree 507 of 1000\n",
            "building tree 508 of 1000\n",
            "building tree 509 of 1000\n",
            "building tree 510 of 1000\n",
            "building tree 511 of 1000\n",
            "building tree 512 of 1000\n",
            "building tree 513 of 1000\n",
            "building tree 514 of 1000\n",
            "building tree 515 of 1000\n",
            "building tree 516 of 1000\n",
            "building tree 517 of 1000\n",
            "building tree 518 of 1000\n",
            "building tree 519 of 1000\n",
            "building tree 520 of 1000\n",
            "building tree 521 of 1000\n",
            "building tree 522 of 1000\n",
            "building tree 523 of 1000\n",
            "building tree 524 of 1000\n",
            "building tree 525 of 1000\n",
            "building tree 526 of 1000\n",
            "building tree 527 of 1000\n",
            "building tree 528 of 1000\n",
            "building tree 529 of 1000\n",
            "building tree 530 of 1000\n",
            "building tree 531 of 1000\n",
            "building tree 532 of 1000\n",
            "building tree 533 of 1000\n",
            "building tree 534 of 1000\n",
            "building tree 535 of 1000\n",
            "building tree 536 of 1000\n",
            "building tree 537 of 1000\n",
            "building tree 538 of 1000\n",
            "building tree 539 of 1000\n",
            "building tree 540 of 1000\n",
            "building tree 541 of 1000\n",
            "building tree 542 of 1000\n",
            "building tree 543 of 1000\n",
            "building tree 544 of 1000\n",
            "building tree 545 of 1000\n",
            "building tree 546 of 1000\n",
            "building tree 547 of 1000\n",
            "building tree 548 of 1000\n",
            "building tree 549 of 1000\n",
            "building tree 550 of 1000\n",
            "building tree 551 of 1000\n",
            "building tree 552 of 1000\n",
            "building tree 553 of 1000\n",
            "building tree 554 of 1000\n",
            "building tree 555 of 1000\n",
            "building tree 556 of 1000\n",
            "building tree 557 of 1000\n",
            "building tree 558 of 1000\n",
            "building tree 559 of 1000\n",
            "building tree 560 of 1000\n",
            "building tree 561 of 1000\n",
            "building tree 562 of 1000\n",
            "building tree 563 of 1000\n",
            "building tree 564 of 1000\n",
            "building tree 565 of 1000\n",
            "building tree 566 of 1000\n",
            "building tree 567 of 1000\n",
            "building tree 568 of 1000\n",
            "building tree 569 of 1000\n",
            "building tree 570 of 1000\n",
            "building tree 571 of 1000\n",
            "building tree 572 of 1000\n",
            "building tree 573 of 1000\n",
            "building tree 574 of 1000\n",
            "building tree 575 of 1000\n",
            "building tree 576 of 1000\n",
            "building tree 577 of 1000\n",
            "building tree 578 of 1000\n",
            "building tree 579 of 1000\n",
            "building tree 580 of 1000\n",
            "building tree 581 of 1000\n",
            "building tree 582 of 1000\n",
            "building tree 583 of 1000\n",
            "building tree 584 of 1000\n",
            "building tree 585 of 1000\n",
            "building tree 586 of 1000\n",
            "building tree 587 of 1000\n",
            "building tree 588 of 1000\n",
            "building tree 589 of 1000\n",
            "building tree 590 of 1000\n",
            "building tree 591 of 1000\n",
            "building tree 592 of 1000\n",
            "building tree 593 of 1000\n",
            "building tree 594 of 1000\n",
            "building tree 595 of 1000\n",
            "building tree 596 of 1000\n",
            "building tree 597 of 1000\n",
            "building tree 598 of 1000\n",
            "building tree 599 of 1000\n",
            "building tree 600 of 1000\n",
            "building tree 601 of 1000\n",
            "building tree 602 of 1000\n",
            "building tree 603 of 1000\n",
            "building tree 604 of 1000\n",
            "building tree 605 of 1000\n",
            "building tree 606 of 1000\n",
            "building tree 607 of 1000\n",
            "building tree 608 of 1000\n",
            "building tree 609 of 1000\n",
            "building tree 610 of 1000\n",
            "building tree 611 of 1000\n",
            "building tree 612 of 1000\n",
            "building tree 613 of 1000\n",
            "building tree 614 of 1000\n",
            "building tree 615 of 1000\n",
            "building tree 616 of 1000\n",
            "building tree 617 of 1000\n",
            "building tree 618 of 1000\n",
            "building tree 619 of 1000\n",
            "building tree 620 of 1000\n",
            "building tree 621 of 1000\n",
            "building tree 622 of 1000\n",
            "building tree 623 of 1000\n",
            "building tree 624 of 1000\n",
            "building tree 625 of 1000\n",
            "building tree 626 of 1000\n",
            "building tree 627 of 1000\n",
            "building tree 628 of 1000\n",
            "building tree 629 of 1000\n",
            "building tree 630 of 1000\n",
            "building tree 631 of 1000\n",
            "building tree 632 of 1000\n",
            "building tree 633 of 1000\n",
            "building tree 634 of 1000\n",
            "building tree 635 of 1000\n",
            "building tree 636 of 1000\n",
            "building tree 637 of 1000\n",
            "building tree 638 of 1000\n",
            "building tree 639 of 1000\n",
            "building tree 640 of 1000\n",
            "building tree 641 of 1000\n",
            "building tree 642 of 1000\n",
            "building tree 643 of 1000\n",
            "building tree 644 of 1000\n",
            "building tree 645 of 1000\n"
          ]
        },
        {
          "output_type": "stream",
          "name": "stderr",
          "text": [
            "[Parallel(n_jobs=-1)]: Done 644 tasks      | elapsed:  1.6min\n"
          ]
        },
        {
          "output_type": "stream",
          "name": "stdout",
          "text": [
            "building tree 646 of 1000\n",
            "building tree 647 of 1000\n",
            "building tree 648 of 1000\n",
            "building tree 649 of 1000\n",
            "building tree 650 of 1000\n",
            "building tree 651 of 1000\n",
            "building tree 652 of 1000\n",
            "building tree 653 of 1000\n",
            "building tree 654 of 1000\n",
            "building tree 655 of 1000\n",
            "building tree 656 of 1000\n",
            "building tree 657 of 1000\n",
            "building tree 658 of 1000\n",
            "building tree 659 of 1000\n",
            "building tree 660 of 1000\n",
            "building tree 661 of 1000\n",
            "building tree 662 of 1000\n",
            "building tree 663 of 1000\n",
            "building tree 664 of 1000\n",
            "building tree 665 of 1000\n",
            "building tree 666 of 1000\n",
            "building tree 667 of 1000\n",
            "building tree 668 of 1000\n",
            "building tree 669 of 1000\n",
            "building tree 670 of 1000\n",
            "building tree 671 of 1000\n",
            "building tree 672 of 1000\n",
            "building tree 673 of 1000\n",
            "building tree 674 of 1000\n",
            "building tree 675 of 1000\n",
            "building tree 676 of 1000\n",
            "building tree 677 of 1000\n",
            "building tree 678 of 1000\n",
            "building tree 679 of 1000\n",
            "building tree 680 of 1000\n",
            "building tree 681 of 1000\n",
            "building tree 682 of 1000\n",
            "building tree 683 of 1000\n",
            "building tree 684 of 1000\n",
            "building tree 685 of 1000\n",
            "building tree 686 of 1000\n",
            "building tree 687 of 1000\n",
            "building tree 688 of 1000\n",
            "building tree 689 of 1000\n",
            "building tree 690 of 1000\n",
            "building tree 691 of 1000\n",
            "building tree 692 of 1000\n",
            "building tree 693 of 1000\n",
            "building tree 694 of 1000\n",
            "building tree 695 of 1000\n",
            "building tree 696 of 1000\n",
            "building tree 697 of 1000\n",
            "building tree 698 of 1000\n",
            "building tree 699 of 1000\n",
            "building tree 700 of 1000\n",
            "building tree 701 of 1000\n",
            "building tree 702 of 1000\n",
            "building tree 703 of 1000\n",
            "building tree 704 of 1000\n",
            "building tree 705 of 1000\n",
            "building tree 706 of 1000\n",
            "building tree 707 of 1000\n",
            "building tree 708 of 1000\n",
            "building tree 709 of 1000\n",
            "building tree 710 of 1000\n",
            "building tree 711 of 1000\n",
            "building tree 712 of 1000\n",
            "building tree 713 of 1000\n",
            "building tree 714 of 1000\n",
            "building tree 715 of 1000\n",
            "building tree 716 of 1000\n",
            "building tree 717 of 1000\n",
            "building tree 718 of 1000\n",
            "building tree 719 of 1000\n",
            "building tree 720 of 1000\n",
            "building tree 721 of 1000\n",
            "building tree 722 of 1000\n",
            "building tree 723 of 1000\n",
            "building tree 724 of 1000\n",
            "building tree 725 of 1000\n",
            "building tree 726 of 1000\n",
            "building tree 727 of 1000\n",
            "building tree 728 of 1000\n",
            "building tree 729 of 1000\n",
            "building tree 730 of 1000\n",
            "building tree 731 of 1000\n",
            "building tree 732 of 1000\n",
            "building tree 733 of 1000\n",
            "building tree 734 of 1000\n",
            "building tree 735 of 1000\n",
            "building tree 736 of 1000\n",
            "building tree 737 of 1000\n",
            "building tree 738 of 1000\n",
            "building tree 739 of 1000\n",
            "building tree 740 of 1000\n",
            "building tree 741 of 1000\n",
            "building tree 742 of 1000\n",
            "building tree 743 of 1000\n",
            "building tree 744 of 1000\n",
            "building tree 745 of 1000\n",
            "building tree 746 of 1000\n",
            "building tree 747 of 1000\n",
            "building tree 748 of 1000\n",
            "building tree 749 of 1000\n",
            "building tree 750 of 1000\n",
            "building tree 751 of 1000\n",
            "building tree 752 of 1000\n",
            "building tree 753 of 1000\n",
            "building tree 754 of 1000\n",
            "building tree 755 of 1000\n",
            "building tree 756 of 1000\n",
            "building tree 757 of 1000\n",
            "building tree 758 of 1000\n",
            "building tree 759 of 1000\n",
            "building tree 760 of 1000\n",
            "building tree 761 of 1000\n",
            "building tree 762 of 1000\n",
            "building tree 763 of 1000\n",
            "building tree 764 of 1000\n",
            "building tree 765 of 1000\n",
            "building tree 766 of 1000\n",
            "building tree 767 of 1000\n",
            "building tree 768 of 1000\n",
            "building tree 769 of 1000\n",
            "building tree 770 of 1000\n",
            "building tree 771 of 1000\n",
            "building tree 772 of 1000\n",
            "building tree 773 of 1000\n",
            "building tree 774 of 1000\n",
            "building tree 775 of 1000\n",
            "building tree 776 of 1000\n",
            "building tree 777 of 1000\n",
            "building tree 778 of 1000\n",
            "building tree 779 of 1000\n",
            "building tree 780 of 1000\n",
            "building tree 781 of 1000\n",
            "building tree 782 of 1000\n",
            "building tree 783 of 1000\n",
            "building tree 784 of 1000building tree 785 of 1000\n",
            "\n",
            "building tree 786 of 1000\n",
            "building tree 787 of 1000\n",
            "building tree 788 of 1000\n",
            "building tree 789 of 1000\n",
            "building tree 790 of 1000\n",
            "building tree 791 of 1000\n",
            "building tree 792 of 1000\n",
            "building tree 793 of 1000\n",
            "building tree 794 of 1000\n",
            "building tree 795 of 1000\n",
            "building tree 796 of 1000\n",
            "building tree 797 of 1000\n",
            "building tree 798 of 1000\n",
            "building tree 799 of 1000\n",
            "building tree 800 of 1000\n",
            "building tree 801 of 1000\n",
            "building tree 802 of 1000\n",
            "building tree 803 of 1000\n",
            "building tree 804 of 1000\n",
            "building tree 805 of 1000\n",
            "building tree 806 of 1000\n",
            "building tree 807 of 1000\n",
            "building tree 808 of 1000\n",
            "building tree 809 of 1000\n",
            "building tree 810 of 1000\n",
            "building tree 811 of 1000\n",
            "building tree 812 of 1000\n",
            "building tree 813 of 1000\n",
            "building tree 814 of 1000\n",
            "building tree 815 of 1000\n",
            "building tree 816 of 1000\n",
            "building tree 817 of 1000\n",
            "building tree 818 of 1000\n",
            "building tree 819 of 1000\n",
            "building tree 820 of 1000\n",
            "building tree 821 of 1000\n",
            "building tree 822 of 1000\n",
            "building tree 823 of 1000\n",
            "building tree 824 of 1000\n",
            "building tree 825 of 1000\n",
            "building tree 826 of 1000\n",
            "building tree 827 of 1000\n",
            "building tree 828 of 1000\n",
            "building tree 829 of 1000\n",
            "building tree 830 of 1000\n",
            "building tree 831 of 1000\n",
            "building tree 832 of 1000\n",
            "building tree 833 of 1000\n",
            "building tree 834 of 1000\n",
            "building tree 835 of 1000\n",
            "building tree 836 of 1000\n",
            "building tree 837 of 1000\n",
            "building tree 838 of 1000\n",
            "building tree 839 of 1000\n",
            "building tree 840 of 1000\n",
            "building tree 841 of 1000\n",
            "building tree 842 of 1000\n",
            "building tree 843 of 1000\n",
            "building tree 844 of 1000\n",
            "building tree 845 of 1000\n",
            "building tree 846 of 1000\n",
            "building tree 847 of 1000\n",
            "building tree 848 of 1000\n",
            "building tree 849 of 1000\n",
            "building tree 850 of 1000\n",
            "building tree 851 of 1000\n",
            "building tree 852 of 1000\n",
            "building tree 853 of 1000\n",
            "building tree 854 of 1000\n",
            "building tree 855 of 1000\n",
            "building tree 856 of 1000\n",
            "building tree 857 of 1000\n",
            "building tree 858 of 1000\n",
            "building tree 859 of 1000\n",
            "building tree 860 of 1000\n",
            "building tree 861 of 1000\n",
            "building tree 862 of 1000\n",
            "building tree 863 of 1000\n",
            "building tree 864 of 1000\n",
            "building tree 865 of 1000\n",
            "building tree 866 of 1000\n",
            "building tree 867 of 1000\n",
            "building tree 868 of 1000\n",
            "building tree 869 of 1000\n",
            "building tree 870 of 1000\n",
            "building tree 871 of 1000\n",
            "building tree 872 of 1000\n",
            "building tree 873 of 1000\n",
            "building tree 874 of 1000\n",
            "building tree 875 of 1000\n",
            "building tree 876 of 1000\n",
            "building tree 877 of 1000\n",
            "building tree 878 of 1000\n",
            "building tree 879 of 1000\n",
            "building tree 880 of 1000\n",
            "building tree 881 of 1000\n",
            "building tree 882 of 1000\n",
            "building tree 883 of 1000\n",
            "building tree 884 of 1000\n",
            "building tree 885 of 1000\n",
            "building tree 886 of 1000\n",
            "building tree 887 of 1000\n",
            "building tree 888 of 1000\n",
            "building tree 889 of 1000\n",
            "building tree 890 of 1000\n",
            "building tree 891 of 1000\n",
            "building tree 892 of 1000\n",
            "building tree 893 of 1000\n",
            "building tree 894 of 1000\n",
            "building tree 895 of 1000\n",
            "building tree 896 of 1000\n",
            "building tree 897 of 1000\n",
            "building tree 898 of 1000\n",
            "building tree 899 of 1000\n",
            "building tree 900 of 1000\n",
            "building tree 901 of 1000\n",
            "building tree 902 of 1000\n",
            "building tree 903 of 1000\n",
            "building tree 904 of 1000\n",
            "building tree 905 of 1000building tree 906 of 1000\n",
            "\n",
            "building tree 907 of 1000\n",
            "building tree 908 of 1000\n",
            "building tree 909 of 1000\n",
            "building tree 910 of 1000\n",
            "building tree 911 of 1000\n",
            "building tree 912 of 1000\n",
            "building tree 913 of 1000\n",
            "building tree 914 of 1000\n",
            "building tree 915 of 1000\n",
            "building tree 916 of 1000\n",
            "building tree 917 of 1000\n",
            "building tree 918 of 1000\n",
            "building tree 919 of 1000\n",
            "building tree 920 of 1000\n",
            "building tree 921 of 1000\n",
            "building tree 922 of 1000\n",
            "building tree 923 of 1000\n",
            "building tree 924 of 1000\n",
            "building tree 925 of 1000\n",
            "building tree 926 of 1000\n",
            "building tree 927 of 1000\n",
            "building tree 928 of 1000\n",
            "building tree 929 of 1000\n",
            "building tree 930 of 1000\n",
            "building tree 931 of 1000\n",
            "building tree 932 of 1000\n",
            "building tree 933 of 1000\n",
            "building tree 934 of 1000\n",
            "building tree 935 of 1000\n",
            "building tree 936 of 1000\n",
            "building tree 937 of 1000\n",
            "building tree 938 of 1000\n",
            "building tree 939 of 1000\n",
            "building tree 940 of 1000\n",
            "building tree 941 of 1000\n",
            "building tree 942 of 1000\n",
            "building tree 943 of 1000\n",
            "building tree 944 of 1000\n",
            "building tree 945 of 1000\n",
            "building tree 946 of 1000\n",
            "building tree 947 of 1000\n",
            "building tree 948 of 1000\n",
            "building tree 949 of 1000\n",
            "building tree 950 of 1000\n",
            "building tree 951 of 1000\n",
            "building tree 952 of 1000\n",
            "building tree 953 of 1000\n",
            "building tree 954 of 1000\n",
            "building tree 955 of 1000\n",
            "building tree 956 of 1000\n",
            "building tree 957 of 1000\n",
            "building tree 958 of 1000\n",
            "building tree 959 of 1000\n",
            "building tree 960 of 1000\n",
            "building tree 961 of 1000\n",
            "building tree 962 of 1000\n",
            "building tree 963 of 1000\n",
            "building tree 964 of 1000\n",
            "building tree 965 of 1000\n",
            "building tree 966 of 1000\n",
            "building tree 967 of 1000\n",
            "building tree 968 of 1000\n",
            "building tree 969 of 1000\n",
            "building tree 970 of 1000\n",
            "building tree 971 of 1000\n",
            "building tree 972 of 1000\n",
            "building tree 973 of 1000\n",
            "building tree 974 of 1000\n",
            "building tree 975 of 1000\n",
            "building tree 976 of 1000\n",
            "building tree 977 of 1000\n",
            "building tree 978 of 1000\n",
            "building tree 979 of 1000\n",
            "building tree 980 of 1000\n",
            "building tree 981 of 1000\n",
            "building tree 982 of 1000\n",
            "building tree 983 of 1000\n",
            "building tree 984 of 1000\n",
            "building tree 985 of 1000\n",
            "building tree 986 of 1000\n",
            "building tree 987 of 1000\n",
            "building tree 988 of 1000\n",
            "building tree 989 of 1000\n",
            "building tree 990 of 1000\n",
            "building tree 991 of 1000\n",
            "building tree 992 of 1000\n",
            "building tree 993 of 1000\n",
            "building tree 994 of 1000\n",
            "building tree 995 of 1000building tree 996 of 1000\n",
            "\n",
            "building tree 997 of 1000\n",
            "building tree 998 of 1000\n",
            "building tree 999 of 1000\n",
            "building tree 1000 of 1000\n"
          ]
        },
        {
          "output_type": "stream",
          "name": "stderr",
          "text": [
            "[Parallel(n_jobs=-1)]: Done 1000 out of 1000 | elapsed:  2.4min finished\n",
            "[Parallel(n_jobs=2)]: Using backend ThreadingBackend with 2 concurrent workers.\n",
            "[Parallel(n_jobs=2)]: Done  37 tasks      | elapsed:    0.0s\n",
            "[Parallel(n_jobs=2)]: Done 158 tasks      | elapsed:    0.2s\n",
            "[Parallel(n_jobs=2)]: Done 361 tasks      | elapsed:    0.5s\n",
            "[Parallel(n_jobs=2)]: Done 644 tasks      | elapsed:    0.8s\n",
            "[Parallel(n_jobs=2)]: Done 1000 out of 1000 | elapsed:    1.2s finished\n"
          ]
        }
      ]
    },
    {
      "cell_type": "code",
      "source": [
        "print_classification_report_n_mconfusion(preds_1, y_test)"
      ],
      "metadata": {
        "colab": {
          "base_uri": "https://localhost:8080/",
          "height": 459
        },
        "id": "vvjAX_CkIL57",
        "outputId": "fad870e4-1b9c-481a-b468-225b9ce5baff"
      },
      "execution_count": 47,
      "outputs": [
        {
          "output_type": "stream",
          "name": "stdout",
          "text": [
            "              precision    recall  f1-score   support\n",
            "\n",
            "           0       0.94      0.92      0.93      3395\n",
            "           1       0.67      0.73      0.70       754\n",
            "\n",
            "    accuracy                           0.89      4149\n",
            "   macro avg       0.80      0.83      0.81      4149\n",
            "weighted avg       0.89      0.89      0.89      4149\n",
            "\n"
          ]
        },
        {
          "output_type": "display_data",
          "data": {
            "text/plain": [
              "<Figure size 432x288 with 2 Axes>"
            ],
            "image/png": "[encoded data removed]"
          },
          "metadata": {}
        },
        {
          "output_type": "stream",
          "name": "stdout",
          "text": [
            "> Roc auc score: 0.804\n"
          ]
        }
      ]
    },
    {
      "cell_type": "code",
      "source": [
        "print_classification_report_n_mconfusion(preds_2, y_test)"
      ],
      "metadata": {
        "colab": {
          "base_uri": "https://localhost:8080/",
          "height": 459
        },
        "id": "5NdyYsgpbrbd",
        "outputId": "723f1d2a-54f9-4eee-cb39-58d2fd1bcacf"
      },
      "execution_count": 48,
      "outputs": [
        {
          "output_type": "stream",
          "name": "stdout",
          "text": [
            "              precision    recall  f1-score   support\n",
            "\n",
            "           0       1.00      0.97      0.99      3402\n",
            "           1       0.89      0.99      0.94       747\n",
            "\n",
            "    accuracy                           0.98      4149\n",
            "   macro avg       0.95      0.98      0.96      4149\n",
            "weighted avg       0.98      0.98      0.98      4149\n",
            "\n"
          ]
        },
        {
          "output_type": "display_data",
          "data": {
            "text/plain": [
              "<Figure size 432x288 with 2 Axes>"
            ],
            "image/png": "[encoded data removed]"
          },
          "metadata": {}
        },
        {
          "output_type": "stream",
          "name": "stdout",
          "text": [
            "> Roc auc score: 0.946\n"
          ]
        }
      ]
    },
    {
      "cell_type": "markdown",
      "source": [
        "# ROBE DA METTERE\n",
        "1 - visualizzazione \"z scores for different classes al variare dell'encoding dell'autoencoder\n",
        "\n",
        "2 - riportare il fatto che sono stati effettuati svariati test per effettuare l'hyperparameter optimization\n",
        "# IDEE\n",
        "1 - usare l'autoencoder come PCA ed usare l'encoder come input di SVM oppure OSVM oppure NN\n",
        "2 - utilizzare nell'addestramento dell'autoencoder i dati senza dropout\n",
        "3 - (2 + 1)\n",
        "4 - Cambia metrica di performance\n"
      ],
      "metadata": {
        "id": "W8t0b6kKLqUm"
      }
    },
    {
      "cell_type": "code",
      "source": [],
      "metadata": {
        "id": "nSdgq7CZLS3h"
      },
      "execution_count": null,
      "outputs": []
    }
  ]
}