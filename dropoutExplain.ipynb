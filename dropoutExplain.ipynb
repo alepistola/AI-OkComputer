{
  "nbformat": 4,
  "nbformat_minor": 0,
  "metadata": {
    "colab": {
      "provenance": [],
      "collapsed_sections": [
        "XIs6n04l1mi0"
      ],
      "toc_visible": true
    },
    "kernelspec": {
      "name": "python3",
      "display_name": "Python 3"
    },
    "language_info": {
      "name": "python"
    }
  },
  "cells": [
    {
      "cell_type": "markdown",
      "source": [
        "## Import e funzioni utili"
      ],
      "metadata": {
        "id": "XWgw_m5rkF4o"
      }
    },
    {
      "cell_type": "code",
      "source": [
        "import pandas as pd\n",
        "import numpy as np\n",
        "import matplotlib\n",
        "import matplotlib.pyplot as plt\n",
        "import seaborn as sns\n",
        "from google.colab import drive\n",
        "from sklearn.preprocessing import MinMaxScaler\n",
        "import sklearn\n",
        "from sklearn import svm\n",
        "from sklearn.svm import NuSVC\n",
        "from sklearn import metrics\n",
        "from sklearn.metrics import classification_report, confusion_matrix, ConfusionMatrixDisplay\n",
        "from sklearn.metrics import precision_score, recall_score, f1_score, roc_curve, auc, roc_auc_score, precision_recall_curve, average_precision_score, cohen_kappa_score, classification_report, accuracy_score\n",
        "from sklearn.model_selection import GridSearchCV\n",
        "from sklearn.ensemble import RandomForestClassifier\n",
        "import joblib\n",
        "%tensorflow_version 2.x\n",
        "import tensorflow as tf\n",
        "from tensorflow.keras.callbacks import EarlyStopping, ModelCheckpoint\n",
        "from tensorflow.keras.models import Sequential, Model\n",
        "from tensorflow.keras.layers import Dense, Activation, Input, Dropout\n",
        "from tensorflow.keras.models import load_model\n",
        "import xgboost as xgb"
      ],
      "metadata": {
        "id": "9EcOy6JBkA12",
        "colab": {
          "base_uri": "https://localhost:8080/"
        },
        "outputId": "17fac488-a63f-46e8-9b3b-2a092a8753d3"
      },
      "execution_count": 1,
      "outputs": [
        {
          "output_type": "stream",
          "name": "stdout",
          "text": [
            "Colab only includes TensorFlow 2.x; %tensorflow_version has no effect.\n"
          ]
        }
      ]
    },
    {
      "cell_type": "code",
      "source": [
        "local = False\n",
        "\n",
        "LOCAL_URL = \"dropoutData/\"\n",
        "CLOUD_URL = \"/content/drive/My Drive/dataset/Dropout/\"\n",
        "\n",
        "base_url = \"\"\n",
        "\n",
        "if(local):\n",
        "  base_url = LOCAL_URL\n",
        "else:\n",
        "  base_url = CLOUD_URL\n",
        "\n",
        "\n",
        "def print_missing_values(dt):\n",
        "  pd.options.mode.use_inf_as_na = True\n",
        "  for col in dt.columns:\n",
        "    na = int(dt[col].isna().sum())\n",
        "    print(\"Column '\" + col + \"' has \" + str(na) + \" missing values\")\n",
        "\n",
        "def print_columns_len(dt):\n",
        "  for col in dt.columns:\n",
        "    print(\"column '\" + col + \"' has \" + str(len(dt[col])) + \" values\")\n",
        "\n",
        "def joblib_save_model(model, filename):\n",
        "  joblib.dump(model, base_url + filename)\n",
        "\n",
        "def joblib_load_model(filename):\n",
        "  return joblib.load(base_url + filename)\n",
        "\n",
        "def keras_load_model(filename):\n",
        "  return load_model(base_url + filename)\n",
        "\n",
        "def print_classification_report_n_mconfusion(y_pred, y_true):\n",
        "  print(classification_report(y_pred, y_true))\n",
        "  cm = confusion_matrix(y_test, y_pred) \n",
        "  disp = ConfusionMatrixDisplay(confusion_matrix=cm)\n",
        "  disp.plot()\n",
        "  plt.show()\n",
        "  rocAucScore = roc_auc_score(y_true, y_pred)\n",
        "  print('> Roc auc score: %.3f' %(rocAucScore))\n",
        "\n",
        "def SquareErrorDataPoints(_input, _output):\n",
        "    #input = np.squeeze(_input, axis=0)\n",
        "    #output = np.squeeze(_output, axis=0)\n",
        "    # Caculate error\n",
        "    error = np.square(_input - _output)\n",
        "    #error = np.sum(error)\n",
        "    return error\n",
        "\n",
        "# nr. of standard deviation times the sample is far from the std\n",
        "def Z_Score(_error):\n",
        "    mu = np.nanmean(_error)\n",
        "    gamma = np.nanstd(_error)\n",
        "    zscore = (_error - mu)/gamma\n",
        "    return zscore\n",
        "\n",
        "def CreateLabelBasedOnZscore(_zscore, _threshold, _sign=False):\n",
        "    label = np.full(_zscore.shape[0], 1)\n",
        "    if not _sign:\n",
        "        label[_zscore > _threshold] = -1\n",
        "        label[_zscore < -_threshold] = -1\n",
        "    else:\n",
        "        label[_zscore > _threshold] = -1\n",
        "    # label[abs(_zscore) > abs(_threshold)] = -1\n",
        "    return label\n",
        "\n",
        "def CalculatePrecisionRecallF1Metrics(_abnormal_label, _y_pred):\n",
        "    precision = precision_score(_abnormal_label, _y_pred)\n",
        "    recall = recall_score(_abnormal_label, _y_pred)\n",
        "    f1 = f1_score(_abnormal_label, _y_pred)\n",
        "    return precision, recall, f1\n",
        "\n",
        "def CalculateROCAUCMetrics(_abnormal_label, _score):\n",
        "    fpr, tpr, _ = roc_curve(_abnormal_label, _score)\n",
        "    roc_auc = auc(np.nan_to_num(fpr), np.nan_to_num(tpr))\n",
        "    if roc_auc < 0.5:\n",
        "        roc_auc = 1 - roc_auc\n",
        "    return fpr, tpr, roc_auc\n",
        "\n",
        "def CalculatePrecisionRecallCurve(_abnormal_label, _score):\n",
        "    precision_curve, recall_curve, _ = precision_recall_curve(_abnormal_label, _score)\n",
        "    average_precision = average_precision_score(_abnormal_label, _score)\n",
        "    if average_precision < 0.5:\n",
        "        average_precision = 1 - average_precision\n",
        "    return precision_curve, recall_curve, average_precision\n",
        "\n",
        "def PlotROCAUC(_fpr, _tpr, _roc_auc):\n",
        "    plt.figure(1)\n",
        "    lw = 1.5\n",
        "    plt.plot(_fpr, _tpr, color='darkorange', lw=lw, label='ROC curve (area = %0.2f)' % _roc_auc)\n",
        "    plt.plot([0, 1], [0, 1], color='navy', lw=lw, linestyle='--')\n",
        "    plt.xlim([0.0, 1.0])\n",
        "    plt.ylim([0.0, 1.05])\n",
        "    plt.xlabel('False Positive Rate')\n",
        "    plt.ylabel('True Positive Rate')\n",
        "    plt.title('Receiver Operating Characteristic')\n",
        "    plt.legend(loc=\"lower right\")\n",
        "    plt.show()\n",
        "\n",
        "\n",
        "def PlotPrecisionRecallCurve(_precision, _recall, _average_precision, _baseline):\n",
        "    plt.figure(2)\n",
        "    lw = 2\n",
        "    plt.step(_recall, _precision, color='darkorange', lw=lw, alpha=1, where='post', label='PR curve (area = %0.2f)' % _average_precision)\n",
        "    # plt.fill_between(_recall, _precision, step='post', alpha=0.2, color='b')\n",
        "    plt.plot([0, 1], [_baseline, _baseline], color='navy', lw=lw, linestyle='--')\n",
        "    plt.xlabel('Recall')\n",
        "    plt.ylabel('Precision')\n",
        "    plt.title('Precision-Recall Curve')\n",
        "    plt.ylim([0, 1.05])\n",
        "    plt.xlim([0, 1])\n",
        "    # plt.legend('AP={0:0.2f}'.format(_average_precision))\n",
        "    plt.legend(loc=\"upper right\")\n",
        "    plt.show()\n",
        "\n",
        "def PlotResult(_values):\n",
        "    plt.plot(_values)\n",
        "    plt.show()"
      ],
      "metadata": {
        "id": "j8pMVVvr8rn7"
      },
      "execution_count": 5,
      "outputs": []
    },
    {
      "cell_type": "markdown",
      "source": [
        "# DATA PREPROCESSING"
      ],
      "metadata": {
        "id": "XIs6n04l1mi0"
      }
    },
    {
      "cell_type": "markdown",
      "source": [
        "## Acquisizione dati"
      ],
      "metadata": {
        "id": "jc9FfbFEkfJH"
      }
    },
    {
      "cell_type": "code",
      "source": [
        "if(not local):\n",
        "  drive.mount('/content/drive')\n",
        "\n",
        "df = pd.read_excel(base_url + 'stud_2016_2018.xlsx')\n",
        "df_esami = pd.read_excel(base_url + 'esami_2016_2018.xlsx')\n",
        "df.head()"
      ],
      "metadata": {
        "id": "YBzEcU7ekQeU"
      },
      "execution_count": null,
      "outputs": []
    },
    {
      "cell_type": "markdown",
      "source": [
        "## Missing values"
      ],
      "metadata": {
        "id": "XwcS44K7mi3b"
      }
    },
    {
      "cell_type": "markdown",
      "source": [
        "FILLING SU VALORI MANCANTI DI voto_scuola_superiore\n",
        "\n",
        "\n",
        "Per ogni studente senza voto, calcolo la mediana del voto tra l'insieme di studenti che hanno in comune area_geografica_scuola_superiore e Diploma_scuola_superiore"
      ],
      "metadata": {
        "id": "lEtc6pwVmwU6"
      }
    },
    {
      "cell_type": "code",
      "source": [
        "voto_scuola_superiore_mean = round(df['voto_scuola_superiore'].mean(), 2)\n",
        "\n",
        "def calculate_mean_vote_with_similar_area_n_diploma(dt, area_scuola, area_residenza, diploma):\n",
        "    if(diploma == 9):\n",
        "        return voto_scuola_superiore_mean\n",
        "    similar_student = dt.loc[(dt['Diploma_scuola_superiore'] == diploma) & ((dt['area_geografica_residenza'] == area_residenza) | (dt['area_geografica_scuolasuperiore'] == area_scuola))]#(dt['area_geografica_residenza'] == area_residenza | dt['area_geografica_scuolasuperiore'] == area_scuola)]\n",
        "    return round(similar_student['voto_scuola_superiore'].mean(), 2)\n",
        "    \n",
        "cacheMap = {\"11\": 81}\n",
        "\n",
        "students_without_vote = df.loc[df['voto_scuola_superiore'].isna()]\n",
        "\n",
        "print(students_without_vote.shape)\n",
        "\n",
        "\n",
        "for index, row in students_without_vote.iterrows():\n",
        "    key = str(row.area_geografica_scuolasuperiore) + str(row.Diploma_scuola_superiore)\n",
        "    if key in cacheMap:\n",
        "        df.loc[index, 'voto_scuola_superiore'] =  cacheMap[key]\n",
        "    else:\n",
        "        median_vote = calculate_mean_vote_with_similar_area_n_diploma(df, row.area_geografica_scuolasuperiore, row.area_geografica_residenza,row.Diploma_scuola_superiore)\n",
        "        df.loc[index, 'voto_scuola_superiore'] = median_vote\n",
        "        cacheMap[key] = median_vote\n",
        "\n",
        "#pd.options.mode.use_inf_as_na = True\n",
        "print(df['voto_scuola_superiore'].isna().sum())"
      ],
      "metadata": {
        "id": "b7dUS5XimkNh"
      },
      "execution_count": null,
      "outputs": []
    },
    {
      "cell_type": "markdown",
      "source": [
        "## Data trasformation"
      ],
      "metadata": {
        "id": "aOGHkPXSn1oO"
      }
    },
    {
      "cell_type": "markdown",
      "source": [
        "Trasformazioni da effettuare nel dataset:\n",
        "\n",
        "\n",
        "*   modifica data di nascita in anno di nascita (int64)\n",
        "*   one hot-econding su (coorte, Diploma_scuola_superiore, area_geografica_scuolasuperiore, area_geografica_residenza)\n",
        "*   filling su voto_scuola_superiore (utilizzando la mediana dei valori dell'intorno calcolato su area_geografica_scuola_superiore e Diploma_scuola_superiore)\n",
        "*   filling Merito_ISEE (la classe_ISEE in questo caso agisce come indicatore di reddito famigliare) a questo punto, si\n",
        "      si potrebbe procedere creando una feature continua, la contribuzione_tasse, che indichi la contribuzione delle tasse,\n",
        "      quindi tutti gli studenti con classe_ISEE (0, 1) avranno contribuzione_tasse pari a 0. L'implementazione sarà congrua\n",
        "      con gli scaglioni delle tasse di unibo nel 2016/2017 - 2017/2018 - 2018/2019\n",
        "*   modifica il tipo di corso con durata_corso -> L: 3, LM: 2, LMCU: 5\n",
        "\n",
        "\n",
        "A questo punto Classe_ISEE è un buon indicatore del reddito familiare e contribuzione_tasse del contributo pagato"
      ],
      "metadata": {
        "id": "OhvNU4Oln6su"
      }
    },
    {
      "cell_type": "code",
      "source": [
        "# ESTRAPOLAZIONE ANNO DI NASCITA - DURATA CORSO - GENERE\n",
        "def get_year(date):\n",
        "    return date.year\n",
        "\n",
        "def get_duration(course_type):\n",
        "    if(course_type == \"L\"):\n",
        "        return 3\n",
        "    elif(course_type == \"LM\"):\n",
        "        return 2\n",
        "    elif(course_type == \"LMCU\"):\n",
        "        return 5\n",
        "    \n",
        "def get_genre(genre):\n",
        "    if(genre == 1):\n",
        "        return 0\n",
        "    else:\n",
        "        return 1\n",
        "\n",
        "df['AnnoNascita'] = df['DataNascita'].apply(get_year)\n",
        "df.drop('DataNascita', axis=1, inplace=True)\n",
        "\n",
        "df['DurataCorso'] = df['TipoCorso'].apply(get_duration)\n",
        "df.drop('TipoCorso', axis=1, inplace=True)\n",
        "\n",
        "df['Genere'] = df['Genere'].apply(get_genre)\n",
        "\n",
        "\n",
        "# FILLING Merito_ISEE\n",
        "                \n",
        "def calculate_contribuzione_tasse(dt):\n",
        "    nrows = dt.shape[0]\n",
        "    for i in range(nrows):\n",
        "        current = dt.iloc[i]\n",
        "        if(current['Coorte'] == 2016):\n",
        "            if(current['Classe_ISEE'] == 0 or current['Classe_ISEE'] == 1) : dt.loc[i, \"Contribuzione_tasse\"] = 1\n",
        "            elif(current['Merito_ISEE'] <= 23000) : dt.loc[i, \"Contribuzione_tasse\"] = 0\n",
        "            elif(current['Merito_ISEE'] <= 28880.63) : dt.loc[i, \"Contribuzione_tasse\"] = 0.5\n",
        "            elif(current['Merito_ISEE'] <= 33371.84) : dt.loc[i, \"Contribuzione_tasse\"] = 0.6\n",
        "            elif(current['Merito_ISEE'] <= 38506.71) : dt.loc[i, \"Contribuzione_tasse\"] = 0.7\n",
        "            elif(current['Merito_ISEE'] <= 44922.89) : dt.loc[i, \"Contribuzione_tasse\"] = 0.8\n",
        "            elif(current['Merito_ISEE'] <= 51337.89) : dt.loc[i, \"Contribuzione_tasse\"] = 0.9\n",
        "            elif(current['Merito_ISEE'] >= 51337.90) : dt.loc[i, \"Contribuzione_tasse\"] = 1\n",
        "        else:\n",
        "            if(current['Classe_ISEE'] == 0 or current['Classe_ISEE'] == 1) : dt.loc[i, \"Contribuzione_tasse\"] = 1\n",
        "            elif(current['Merito_ISEE'] <= 23000) : dt.loc[i, \"Contribuzione_tasse\"] = 0\n",
        "            elif(current['Merito_ISEE'] <= 33000) : dt.loc[i, \"Contribuzione_tasse\"] = 0.5\n",
        "            elif(current['Merito_ISEE'] <= 45000) : dt.loc[i, \"Contribuzione_tasse\"] = 0.7\n",
        "            elif(current['Merito_ISEE'] <= 60000) : dt.loc[i, \"Contribuzione_tasse\"] = 0.8\n",
        "            elif(current['Merito_ISEE'] <= 70000) : dt.loc[i, \"Contribuzione_tasse\"] = 0.9\n",
        "            elif(current['Merito_ISEE'] >= 70001) : dt.loc[i, \"Contribuzione_tasse\"] = 1\n",
        "                \n",
        "calculate_contribuzione_tasse(df)\n",
        "df.drop('Merito_ISEE', axis=1, inplace=True)\n",
        "df.info()"
      ],
      "metadata": {
        "id": "XT9Hz1iUn5O3"
      },
      "execution_count": null,
      "outputs": []
    },
    {
      "cell_type": "markdown",
      "source": [
        "### One-hot-encode"
      ],
      "metadata": {
        "id": "yyinrXCzrY5E"
      }
    },
    {
      "cell_type": "code",
      "source": [
        "def one_hot_encode_n_merge(dt, column, prefix = None):\n",
        "    name = prefix if prefix is not None else column\n",
        "    encoded = pd.get_dummies(dt[column], prefix=name)\n",
        "    return pd.concat([dt, encoded], axis=1)\n",
        "    \n",
        "# ONE HOT ENCODING Coorte\n",
        "df = one_hot_encode_n_merge(df, 'Coorte')\n",
        "df.drop('Coorte', axis=1, inplace=True)\n",
        "\n",
        "# ONE HOT ENCODING Diploma_scuola_superiore\n",
        "df = one_hot_encode_n_merge(df, 'Diploma_scuola_superiore', 'Diploma')\n",
        "df.drop('Diploma_scuola_superiore', axis=1, inplace=True)\n",
        "\n",
        "# ONE HOT ENCODING area_geografica_scuolasuperiore\n",
        "df = one_hot_encode_n_merge(df, 'area_geografica_scuolasuperiore')\n",
        "df.drop('area_geografica_scuolasuperiore', axis=1, inplace=True)\n",
        "\n",
        "# ONE HOT ENCODING area_geografica_residenza\n",
        "df = one_hot_encode_n_merge(df, 'area_geografica_residenza')\n",
        "df.drop('area_geografica_residenza', axis=1, inplace=True)\n",
        "\n",
        "# ONE HOT ENCODING CdS\n",
        "df = one_hot_encode_n_merge(df, 'CdS')\n",
        "df.drop('CdS', axis=1, inplace=True)\n",
        "\n",
        "# ONE HOT ENCODING Ambito\n",
        "df = one_hot_encode_n_merge(df, 'Ambito')\n",
        "df.drop('Ambito', axis=1, inplace=True)\n",
        "\n",
        "# DROP Sede\n",
        "df.drop('Sede', axis=1, inplace=True)\n",
        "\n",
        "# ONE HOT ENCODING Campus\n",
        "df = one_hot_encode_n_merge(df, 'Campus')\n",
        "df.drop('Campus', axis=1, inplace=True)\n",
        "\n",
        "df.info()"
      ],
      "metadata": {
        "id": "BlNlUG5Cq-kl"
      },
      "execution_count": null,
      "outputs": []
    },
    {
      "cell_type": "markdown",
      "source": [
        "## Aggiunta informazioni degli esami al dataset\n",
        "Verranno estrapolate le seguenti informazioni per poi essere aggiunte al dataset degli studenti:\n",
        "- Numero di cfu conseguiti da ogni studente\n",
        "- Media dei voti degli esami\n",
        "\n",
        "Ci sono 910 studenti senza media (oltre i 5587 che non hanno neanche cfu conseguiti, che vengono rimossi), si è optato per riempire la colonna della media voti con la media di tutti gli studenti così da non influire statisticamente"
      ],
      "metadata": {
        "id": "ejJnNaYnsgjg"
      }
    },
    {
      "cell_type": "code",
      "source": [
        "df_esami.info()"
      ],
      "metadata": {
        "id": "SvR4HjcRr4XY"
      },
      "execution_count": null,
      "outputs": []
    },
    {
      "cell_type": "code",
      "source": [
        "media_voti = df_esami.groupby(['ID_Studente']).mean()['Voto_se_numerico']\n",
        "cfu_superati = df_esami.groupby(['ID_Studente']).sum()['CFUsuperati']\n",
        "\n",
        "media_voti = media_voti.fillna(media_voti.mean())\n",
        "\n",
        "dt = pd.merge(df, media_voti, left_on = 'ID_Studente', right_on = 'ID_Studente', how = 'left')\n",
        "dt = pd.merge(dt, cfu_superati, left_on = 'ID_Studente', right_on = 'ID_Studente', how = 'left')\n",
        "dt = dt.rename(columns={\"Voto_se_numerico\": \"media_voto\", \"CFUsuperati\": \"cfu_superati\"})\n",
        "\n",
        "dt.dropna(subset=['media_voto', 'cfu_superati'], axis=0, inplace=True)\n",
        "\n",
        "print_missing_values(dt)\n",
        "print(\"\\n#######################################################\\n\")\n",
        "print_columns_len(dt)"
      ],
      "metadata": {
        "id": "CnOnETTps9n-"
      },
      "execution_count": null,
      "outputs": []
    },
    {
      "cell_type": "markdown",
      "source": [
        "## Normalizzazione dati\n",
        "Scrivi perchè normalizzare e non standardizzare"
      ],
      "metadata": {
        "id": "eeDrK9sIgOuH"
      }
    },
    {
      "cell_type": "code",
      "source": [
        "mmscaler = MinMaxScaler()\n",
        "\n",
        "def scale_n_add_to_dt(dataset, column):\n",
        "  #print(column.shape)]\n",
        "  toScale = dataset[column].to_numpy().reshape(-1, 1)\n",
        "  #print(column.shape)\n",
        "  scaled_column = mmscaler.fit_transform(toScale).squeeze()\n",
        "  #print(scaled_column.shape)\n",
        "  dataset.drop(column, axis=1, inplace=True)\n",
        "  dataset[column] = scaled_column\n",
        "  #.squeeze()\n",
        "  return dataset\n",
        "  #return pd.concat([dataset, pd.Series(scaled_column)], axis=1)\n",
        "\n",
        "dt = scale_n_add_to_dt(dt, 'voto_scuola_superiore')\n",
        "dt = scale_n_add_to_dt(dt, 'media_voto')\n",
        "dt = scale_n_add_to_dt(dt, 'cfu_superati')\n",
        "dt = scale_n_add_to_dt(dt, 'AnnoNascita')\n",
        "dt = scale_n_add_to_dt(dt, 'DurataCorso')\n",
        "dt = scale_n_add_to_dt(dt, 'Classe_ISEE')\n",
        "\n",
        "print_columns_len(dt)\n",
        "dt.info()"
      ],
      "metadata": {
        "id": "pT2yBKd-gYoH"
      },
      "execution_count": null,
      "outputs": []
    },
    {
      "cell_type": "markdown",
      "source": [
        "## Salvataggio su file excel\n"
      ],
      "metadata": {
        "id": "icFB5cpK1BbA"
      }
    },
    {
      "cell_type": "code",
      "source": [
        "dt.to_excel(base_url + 'final_dataset.xlsx')"
      ],
      "metadata": {
        "id": "J5OFap5X0Mm7"
      },
      "execution_count": null,
      "outputs": []
    },
    {
      "cell_type": "markdown",
      "source": [
        "# DATA ACQUISITION"
      ],
      "metadata": {
        "id": "PCfZwIpUVnMv"
      }
    },
    {
      "cell_type": "code",
      "source": [
        "if(not local):\n",
        "  drive.mount('/content/drive')\n",
        "\n",
        "dt = pd.read_excel(base_url + 'final_dataset.xlsx')\n",
        "\n",
        "dropout_ids = dt.loc[(dt['Abbandoni'] > 0)][\"ID_Studente\"]\n",
        "\n",
        "y = dt['Abbandoni']\n",
        "x = dt.drop('Abbandoni', axis=1)\n",
        "\n",
        "x_train, x_test, y_train, y_test = sklearn.model_selection.train_test_split(x, y, stratify=y, test_size=0.15)\n",
        "print(\"X train size: \" + str(x_train.shape))\n",
        "print(\"Y train size: \" + str(y_train.shape))\n",
        "print(\"X test size: \" + str(x_test.shape))\n",
        "print(\"Y test size: \" + str(y_test.shape))"
      ],
      "metadata": {
        "colab": {
          "base_uri": "https://localhost:8080/"
        },
        "id": "b9Fzt6hbVs5D",
        "outputId": "cb324c63-9bea-450e-ae39-3482dab73b8d"
      },
      "execution_count": 13,
      "outputs": [
        {
          "output_type": "stream",
          "name": "stdout",
          "text": [
            "Drive already mounted at /content/drive; to attempt to forcibly remount, call drive.mount(\"/content/drive\", force_remount=True).\n",
            "X train size: (52439, 312)\n",
            "Y train size: (52439,)\n",
            "X test size: (9254, 312)\n",
            "Y test size: (9254,)\n"
          ]
        }
      ]
    },
    {
      "cell_type": "markdown",
      "source": [
        "# SVM"
      ],
      "metadata": {
        "id": "UYNUndvQdp-l"
      }
    },
    {
      "cell_type": "markdown",
      "source": [
        "## Linear SVM"
      ],
      "metadata": {
        "id": "ri2zK7B7dvaU"
      }
    },
    {
      "cell_type": "code",
      "source": [
        "linear_svm_filename = 'linear_svm.sav'\n",
        "use_pretrained = True\n",
        "\n",
        "if(use_pretrained):\n",
        "  _svm = joblib_load_model(linear_svm_filename)\n",
        "else:\n",
        "  _svm = svm.SVC(kernel='linear')\n",
        "  _svm.fit(x_train, y_train)\n",
        "  joblib_save_model(_svm, linear_svm_filename)\n",
        "\n",
        "y_predict = _svm.predict(x_test)"
      ],
      "metadata": {
        "id": "5pmp6JlrZs-G"
      },
      "execution_count": null,
      "outputs": []
    },
    {
      "cell_type": "markdown",
      "source": [
        "### Metriche di performance"
      ],
      "metadata": {
        "id": "BoBnB3a3elZh"
      }
    },
    {
      "cell_type": "code",
      "source": [
        "print_classification_report_n_mconfusion(y_predict, y_test)"
      ],
      "metadata": {
        "colab": {
          "base_uri": "https://localhost:8080/",
          "height": 435
        },
        "id": "k9k5ppq0fu4v",
        "outputId": "d95d1d66-914f-4a75-a8cf-1a0aca21884e"
      },
      "execution_count": null,
      "outputs": [
        {
          "output_type": "stream",
          "name": "stdout",
          "text": [
            "              precision    recall  f1-score   support\n",
            "\n",
            "           0       0.99      0.96      0.97      9141\n",
            "           1       0.02      0.08      0.03       113\n",
            "\n",
            "    accuracy                           0.94      9254\n",
            "   macro avg       0.50      0.52      0.50      9254\n",
            "weighted avg       0.98      0.94      0.96      9254\n",
            "\n"
          ]
        },
        {
          "output_type": "display_data",
          "data": {
            "text/plain": [
              "<Figure size 432x288 with 2 Axes>"
            ],
            "image/png": "[encoded data removed]"
          },
          "metadata": {
            "needs_background": "light"
          }
        }
      ]
    },
    {
      "cell_type": "markdown",
      "source": [
        "## RBF nuSVM"
      ],
      "metadata": {
        "id": "19ZijHKBvY7m"
      }
    },
    {
      "cell_type": "code",
      "source": [
        "linear_svm_filename = 'rbf_svm.sav'\n",
        "use_pretrained = True\n",
        "\n",
        "if(use_pretrained):\n",
        "  _svm = joblib_load_model(linear_svm_filename)\n",
        "else:\n",
        "  _svm = NuSVC(nu=0.001)\n",
        "  _svm.fit(x_train, y_train)\n",
        "  joblib_save_model(_svm, linear_svm_filename)\n",
        "\n",
        "y_predict = _svm.predict(x_test)"
      ],
      "metadata": {
        "id": "nrVBf_9mvY7n"
      },
      "execution_count": null,
      "outputs": []
    },
    {
      "cell_type": "markdown",
      "source": [
        "### Metriche di performance"
      ],
      "metadata": {
        "id": "Xb29b0KgvY7p"
      }
    },
    {
      "cell_type": "code",
      "source": [
        "print_classification_report_n_mconfusion(y_predict, y_test)"
      ],
      "metadata": {
        "colab": {
          "base_uri": "https://localhost:8080/",
          "height": 435
        },
        "outputId": "a09e3c30-128e-41eb-c389-cb457fe03a1b",
        "id": "A402XDlovY7p"
      },
      "execution_count": null,
      "outputs": [
        {
          "output_type": "stream",
          "name": "stdout",
          "text": [
            "              precision    recall  f1-score   support\n",
            "\n",
            "           0       0.36      0.96      0.52      3277\n",
            "           1       0.67      0.05      0.09      5977\n",
            "\n",
            "    accuracy                           0.37      9254\n",
            "   macro avg       0.51      0.50      0.30      9254\n",
            "weighted avg       0.56      0.37      0.24      9254\n",
            "\n"
          ]
        },
        {
          "output_type": "display_data",
          "data": {
            "text/plain": [
              "<Figure size 432x288 with 2 Axes>"
            ],
            "image/png": "[encoded data removed]"
          },
          "metadata": {
            "needs_background": "light"
          }
        }
      ]
    },
    {
      "cell_type": "markdown",
      "source": [
        "## Weighted Class Linear SVM\n",
        "Viene aumentato il peso della classe 1 (aumentando il focus sulle istanze di tale classe -> ovvero gli abbandoni)"
      ],
      "metadata": {
        "id": "qTSIlXQjonwl"
      }
    },
    {
      "cell_type": "code",
      "source": [
        "filename = 'weighted_class_linear_svm.sav'\n",
        "use_pretrained = True\n",
        "\n",
        "if(use_pretrained):\n",
        "  _svm = joblib_load_model(filename)\n",
        "else:\n",
        "  _svm = svm.SVC(kernel='linear', class_weight={1: 10})\n",
        "  _svm.fit(x_train, y_train)\n",
        "  joblib_save_model(_svm, filename)\n",
        "\n",
        "y_predict = _svm.predict(x_test)"
      ],
      "metadata": {
        "id": "cZmdWVp2or0E"
      },
      "execution_count": 14,
      "outputs": []
    },
    {
      "cell_type": "markdown",
      "source": [
        "### Metriche di performance"
      ],
      "metadata": {
        "id": "6qoMfilNpgbX"
      }
    },
    {
      "cell_type": "code",
      "source": [
        "print_classification_report_n_mconfusion(y_predict, y_test)"
      ],
      "metadata": {
        "colab": {
          "base_uri": "https://localhost:8080/",
          "height": 453
        },
        "id": "HeEtWItPph_Q",
        "outputId": "b4c7b335-1c67-4e9d-bdf8-abdd377f9d4f"
      },
      "execution_count": 15,
      "outputs": [
        {
          "output_type": "stream",
          "name": "stdout",
          "text": [
            "              precision    recall  f1-score   support\n",
            "\n",
            "           0       0.96      0.96      0.96      8888\n",
            "           1       0.05      0.05      0.05       366\n",
            "\n",
            "    accuracy                           0.92      9254\n",
            "   macro avg       0.50      0.50      0.50      9254\n",
            "weighted avg       0.92      0.92      0.92      9254\n",
            "\n"
          ]
        },
        {
          "output_type": "display_data",
          "data": {
            "text/plain": [
              "<Figure size 432x288 with 2 Axes>"
            ],
            "image/png": "[encoded data removed]"
          },
          "metadata": {
            "needs_background": "light"
          }
        },
        {
          "output_type": "stream",
          "name": "stdout",
          "text": [
            "> Roc auc score: 0.503\n"
          ]
        }
      ]
    },
    {
      "cell_type": "markdown",
      "source": [
        "## Weighted Samples Linear SVM\n",
        "Vengono pesate maggiormente le singole istanze (vanno quindi prima trovate)"
      ],
      "metadata": {
        "id": "zgj4YFTIJYd4"
      }
    },
    {
      "cell_type": "code",
      "source": [
        "sample_weight = np.ones(len(x_train))\n",
        "for id in dropout_ids:\n",
        "  try:\n",
        "    if(x_train.iloc[id - 1] is not None):\n",
        "      sample_weight[id - 1] = 50\n",
        "  except:\n",
        "      pass\n",
        "    #print(\"Id: \" + str(id) + \" not in train test\")\n",
        "    \n",
        "\n",
        "weighted_samples_linear_svm_filename = 'weighted_samples_linear_svm.sav'\n",
        "use_pretrained = True\n",
        "\n",
        "if(use_pretrained):\n",
        "  _svm = joblib_load_model(weighted_samples_linear_svm_filename)\n",
        "else:\n",
        "  _svm = svm.SVC(kernel='linear')\n",
        "  _svm.fit(x_train, y_train, sample_weight=sample_weight)\n",
        "  joblib_save_model(_svm, weighted_samples_linear_svm_filename)\n",
        "\n",
        "y_predict = _svm.predict(x_test)"
      ],
      "metadata": {
        "id": "aVV3WJHlJkyZ"
      },
      "execution_count": null,
      "outputs": []
    },
    {
      "cell_type": "markdown",
      "source": [
        "\n",
        "\n",
        "### Metriche di performance"
      ],
      "metadata": {
        "id": "ge2UwVlPho35"
      }
    },
    {
      "cell_type": "code",
      "source": [
        "print_classification_report_n_mconfusion(y_predict, y_test)"
      ],
      "metadata": {
        "id": "UfScWCrtPH52",
        "colab": {
          "base_uri": "https://localhost:8080/",
          "height": 435
        },
        "outputId": "4d4a3b85-93a2-44a1-aa09-3063732ceceb"
      },
      "execution_count": null,
      "outputs": [
        {
          "output_type": "stream",
          "name": "stdout",
          "text": [
            "              precision    recall  f1-score   support\n",
            "\n",
            "           0       0.99      0.96      0.97      9131\n",
            "           1       0.02      0.07      0.03       123\n",
            "\n",
            "    accuracy                           0.94      9254\n",
            "   macro avg       0.50      0.51      0.50      9254\n",
            "weighted avg       0.97      0.94      0.96      9254\n",
            "\n"
          ]
        },
        {
          "output_type": "display_data",
          "data": {
            "text/plain": [
              "<Figure size 432x288 with 2 Axes>"
            ],
            "image/png": "[encoded data removed]"
          },
          "metadata": {
            "needs_background": "light"
          }
        }
      ]
    },
    {
      "cell_type": "markdown",
      "source": [
        "# Random Forest"
      ],
      "metadata": {
        "id": "gS9sdSazY1-X"
      }
    },
    {
      "cell_type": "markdown",
      "source": [
        "## Random forest with 1000 estimators"
      ],
      "metadata": {
        "id": "gfHEh4eAY49G"
      }
    },
    {
      "cell_type": "code",
      "source": [
        "filename = 'randomForest_1000.sav'\n",
        "use_pretrained = True\n",
        "\n",
        "if(use_pretrained):\n",
        "  rf = joblib_load_model(filename)\n",
        "else:\n",
        "  rf = RandomForestClassifier(n_estimators = 1000, criterion=\"entropy\", n_jobs=-1, verbose=2, random_state = 42, max_features=312)\n",
        "  rf.fit(x_train, y_train);\n",
        "  joblib_save_model(rf, filename)\n",
        "\n",
        "preds = rf.predict(x_test)"
      ],
      "metadata": {
        "colab": {
          "base_uri": "https://localhost:8080/"
        },
        "id": "s3Yl8pKEZAJw",
        "outputId": "05372d0b-5994-4100-a799-e57c950effb6"
      },
      "execution_count": 28,
      "outputs": [
        {
          "output_type": "stream",
          "name": "stderr",
          "text": [
            "[Parallel(n_jobs=2)]: Using backend ThreadingBackend with 2 concurrent workers.\n",
            "[Parallel(n_jobs=2)]: Done  37 tasks      | elapsed:    0.1s\n",
            "[Parallel(n_jobs=2)]: Done 158 tasks      | elapsed:    0.3s\n",
            "[Parallel(n_jobs=2)]: Done 361 tasks      | elapsed:    0.7s\n",
            "[Parallel(n_jobs=2)]: Done 644 tasks      | elapsed:    1.1s\n",
            "[Parallel(n_jobs=2)]: Done 1000 out of 1000 | elapsed:    1.7s finished\n"
          ]
        }
      ]
    },
    {
      "cell_type": "markdown",
      "source": [
        "### Metriche di performance"
      ],
      "metadata": {
        "id": "6dq8bZ-7jU3Z"
      }
    },
    {
      "cell_type": "code",
      "source": [
        "print_classification_report_n_mconfusion(preds, y_test)"
      ],
      "metadata": {
        "colab": {
          "base_uri": "https://localhost:8080/",
          "height": 453
        },
        "id": "_WunwuT6ZKU0",
        "outputId": "6e351297-2df0-440c-d8fe-e61ec476ca53"
      },
      "execution_count": 29,
      "outputs": [
        {
          "output_type": "stream",
          "name": "stdout",
          "text": [
            "              precision    recall  f1-score   support\n",
            "\n",
            "           0       0.99      0.97      0.98      9069\n",
            "           1       0.26      0.59      0.36       185\n",
            "\n",
            "    accuracy                           0.96      9254\n",
            "   macro avg       0.63      0.78      0.67      9254\n",
            "weighted avg       0.98      0.96      0.97      9254\n",
            "\n"
          ]
        },
        {
          "output_type": "display_data",
          "data": {
            "text/plain": [
              "<Figure size 432x288 with 2 Axes>"
            ],
            "image/png": "[encoded data removed]"
          },
          "metadata": {
            "needs_background": "light"
          }
        },
        {
          "output_type": "stream",
          "name": "stdout",
          "text": [
            "> Roc auc score: 0.627\n"
          ]
        }
      ]
    },
    {
      "cell_type": "markdown",
      "source": [
        "# ANN Basic autoencoder"
      ],
      "metadata": {
        "id": "sMUrvA_RH-X8"
      }
    },
    {
      "cell_type": "markdown",
      "source": [
        "## Costruzione modello\n",
        "\n",
        "Per la realizzazione del modello si è scelto di utilizzare la libreria [Keras](https://keras.io/api/), essendo sviluppata logicamente sopra Tensorflow, ovvero Keras utlizza Tensorflow come back-end engine, è di facile utilizzo così da non rendere la curva di apprendimento del framework esageratamente alta ed infine essendo il framework numero uno per quanto riguarda l'ambito machine learning presenta una vasta comunity e un'API ben documentata.\n",
        "\n",
        "Keras espone un'API di alto livello con cui è possibile costruire reti neurali arbitrariamente complesse senza dover conoscere a fondo i meccanismi di funzionamento e le strutture dati adoperate da Tensorflow.\n",
        "\n",
        "Il modello è composto da 2 hidden layers composti da 1024 neuroni. Il primo layer ha come funzione di attivazione la funzione ReLU mentre il secondo la funzione sigmoid (sigmoide).\n",
        "\n",
        "Attraverso la funzione Sequential() si crea un modello in grado di raggruppare una sequenza lineare di layer.\n",
        "Con il metodo add() si possono aggiungere diversi tipi di layer, in questo caso tutti i layer sono di tipo *Dense* ovvero fortemente connessi con il layer inferiore e superiore.\n",
        "\n"
      ],
      "metadata": {
        "id": "wQU-dMwnIEpL"
      }
    },
    {
      "cell_type": "code",
      "source": [
        "input_n_output_dim = x_train.shape[1] #312\n",
        "\n",
        "# nr. di neuroni nell'encoding layer\n",
        "encoding_dim = 64\n",
        "encoding_dim_1 = 128\n",
        "encoding_dim_2 = 256\n",
        "\n",
        "# modern way of declaring the model\n",
        "autoencoder = Sequential()\n",
        "autoencoder.add(Input(shape=(input_n_output_dim,)))\n",
        "autoencoder.add(Dense(encoding_dim_2, activation='relu'))\n",
        "autoencoder.add(Dense(encoding_dim_1, activation='relu'))\n",
        "#autoencoder.add(Dense(encoding_dim, activation='relu'))\n",
        "#autoencoder.add(Dense(32, activation='relu'))\n",
        "#autoencoder.add(Dropout(0.02))\n",
        "#autoencoder.add(Dense(encoding_dim_1, activation='relu'))\n",
        "#autoencoder.add(Dropout(0.15))\n",
        "autoencoder.add(Dense(encoding_dim_2, activation='relu'))\n",
        "#autoencoder.add(Dropout(0.10))\n",
        "autoencoder.add(Dense(input_n_output_dim, activation='relu'))\n",
        "\n",
        "autoencoder.summary()"
      ],
      "metadata": {
        "id": "1QJw42ujhrJ3",
        "colab": {
          "base_uri": "https://localhost:8080/"
        },
        "outputId": "58795236-2954-430a-bcfd-6e28896c52e6"
      },
      "execution_count": null,
      "outputs": [
        {
          "output_type": "stream",
          "name": "stdout",
          "text": [
            "Model: \"sequential\"\n",
            "_________________________________________________________________\n",
            " Layer (type)                Output Shape              Param #   \n",
            "=================================================================\n",
            " dense (Dense)               (None, 256)               80128     \n",
            "                                                                 \n",
            " dense_1 (Dense)             (None, 128)               32896     \n",
            "                                                                 \n",
            " dense_2 (Dense)             (None, 256)               33024     \n",
            "                                                                 \n",
            " dense_3 (Dense)             (None, 312)               80184     \n",
            "                                                                 \n",
            "=================================================================\n",
            "Total params: 226,232\n",
            "Trainable params: 226,232\n",
            "Non-trainable params: 0\n",
            "_________________________________________________________________\n"
          ]
        }
      ]
    },
    {
      "cell_type": "markdown",
      "source": [
        "## Addestramento\n",
        "\n",
        "Il modello viene addestrato usando come funzione di costo la *mse* (mean squared error) e come ottimizzatore si è scelto di utilizzare Adam (Adaptive moment estimation).\n",
        "Il numero delle epoche è 30 e come batch size si è scelto 256"
      ],
      "metadata": {
        "id": "ANiCiFDeObsp"
      }
    },
    {
      "cell_type": "code",
      "source": [
        "opt = tf.keras.optimizers.Adam(learning_rate=0.0079)\n",
        "autoencoder.compile(optimizer=opt, loss='mse') #(adam, RMSprop, Adamax) - mse"
      ],
      "metadata": {
        "id": "SaOT85jPOH5N"
      },
      "execution_count": null,
      "outputs": []
    },
    {
      "cell_type": "markdown",
      "source": [
        "Il primo parametro rappresenta l'input del modello mentre il secondo il target, specificando i primi due paramentri (x e y) uguali, si forza il modello a cercare di ricostruire i valori in ingresso.\n",
        "Viene inoltre specificato un validation_split dell'1% così da poter monitorare la validation loss durante la fase di training"
      ],
      "metadata": {
        "id": "ery0mpr3OkHl"
      }
    },
    {
      "cell_type": "code",
      "source": [
        "autoencoder_filename = 'autoencoder.h5'\n",
        "use_pretrained = True\n",
        "\n",
        "if(use_pretrained):\n",
        "  autoencoder = keras_load_model(autoencoder_filename)\n",
        "else:\n",
        "  early_stop = EarlyStopping(monitor='val_loss', mode='min', verbose=1, patience=20)\n",
        "  mc = ModelCheckpoint(base_url + autoencoder_filename, monitor='val_loss', mode='min', save_best_only=True)\n",
        "\n",
        "  autoencoder.fit(\n",
        "          x_train,\n",
        "          x_train,\n",
        "          epochs = 150,\n",
        "          batch_size = 1024,\n",
        "          validation_data = (x_test, x_test),\n",
        "          callbacks=[early_stop, mc],\n",
        "  )\n",
        "  losses = pd.DataFrame(autoencoder.history.history)\n",
        "  losses[['loss']].plot()\n",
        "  losses[['loss','val_loss']].plot()\n",
        "\n"
      ],
      "metadata": {
        "id": "Vfl-R-sTOkvG"
      },
      "execution_count": null,
      "outputs": []
    },
    {
      "cell_type": "markdown",
      "source": [
        "## Validazione modello"
      ],
      "metadata": {
        "id": "j-wddqE2Z2Y6"
      }
    },
    {
      "cell_type": "code",
      "source": [
        "prediction_errors = []\n",
        "\n",
        "reconstructed = autoencoder.predict(x_test)\n",
        "\n",
        "mse = np.sum(np.power(x_test - reconstructed, 2), axis=1)\n",
        "z_scores = Z_Score(mse)"
      ],
      "metadata": {
        "id": "iPKzPnIB_XMr"
      },
      "execution_count": null,
      "outputs": []
    },
    {
      "cell_type": "code",
      "source": [
        "threshold_fixed = 2\n",
        "error_df_test = pd.DataFrame({'Z_score': z_scores,\n",
        "                        'True_class': y_test})\n",
        "groups = error_df_test.groupby('True_class')\n",
        "fig, ax = plt.subplots()\n",
        "for name, group in groups:\n",
        "    ax.plot(group.index, group.Z_score, marker='o', ms=3.5, linestyle='',\n",
        "            label= \"Dropout\" if name == 1 else \"Normal\")\n",
        "ax.hlines(threshold_fixed, ax.get_xlim()[0], ax.get_xlim()[1], colors=\"r\", zorder=100, label='Threshold')\n",
        "ax.legend()\n",
        "plt.title(\"Z score for different classes\")\n",
        "plt.ylabel(\"z-score\")\n",
        "plt.xlabel(\"Data point index\")\n",
        "plt.show();"
      ],
      "metadata": {
        "colab": {
          "base_uri": "https://localhost:8080/",
          "height": 295
        },
        "id": "VHb6fM2OaaRC",
        "outputId": "b3e3aa3a-c2c1-4ec9-c4c7-91e99039529d"
      },
      "execution_count": null,
      "outputs": [
        {
          "output_type": "display_data",
          "data": {
            "text/plain": [
              "<Figure size 432x288 with 1 Axes>"
            ],
            "image/png": "[encoded data removed]"
          },
          "metadata": {
            "needs_background": "light"
          }
        }
      ]
    },
    {
      "cell_type": "code",
      "source": [
        "pred_y = [1 if e > threshold_fixed else 0 for e in error_df_test.Z_score.values]\n",
        "conf_matrix = confusion_matrix(error_df_test.True_class, pred_y)\n",
        "plt.figure(figsize=(6, 6))\n",
        "sns.heatmap(conf_matrix, xticklabels=[\"Normal\",\"Dropout\"], yticklabels=[\"Normal\", \"Dropout\"], annot=True, fmt=\"d\");\n",
        "plt.title(\"Confusion matrix\")\n",
        "plt.ylabel('True class')\n",
        "plt.xlabel('Predicted class')\n",
        "plt.show()"
      ],
      "metadata": {
        "colab": {
          "base_uri": "https://localhost:8080/",
          "height": 404
        },
        "id": "KZurCheTabQT",
        "outputId": "4a9188cc-4a6a-4090-b0d8-740702eef875"
      },
      "execution_count": null,
      "outputs": [
        {
          "output_type": "display_data",
          "data": {
            "text/plain": [
              "<Figure size 432x432 with 2 Axes>"
            ],
            "image/png": "[encoded data removed]"
          },
          "metadata": {
            "needs_background": "light"
          }
        }
      ]
    },
    {
      "cell_type": "code",
      "source": [
        "y_pred = CreateLabelBasedOnZscore(z_scores, threshold_fixed)\n",
        "s = pd.Series(y_test)\n",
        "s.replace(0, -1, inplace=True)\n",
        "\n",
        "precision, recall, f1 = CalculatePrecisionRecallF1Metrics(s, y_pred)\n",
        "fpr, tpr, roc_auc = CalculateROCAUCMetrics(y_test, z_scores)\n",
        "precision_curve, recall_curve, average_precision = CalculatePrecisionRecallCurve(y_test, z_scores)\n",
        "n_normal = np.sum(y_test > 0)\n",
        "n_dropout = len(y_test) - n_normal\n",
        "baseline = n_dropout / len(y_test)\n",
        "\n",
        "PlotPrecisionRecallCurve(precision, recall, average_precision, baseline)\n",
        "PlotROCAUC(fpr, tpr, roc_auc)\n",
        "print(classification_report(y_test, y_pred))\n",
        "print(\"Precision: \", precision)"
      ],
      "metadata": {
        "colab": {
          "base_uri": "https://localhost:8080/",
          "height": 972
        },
        "id": "Fcq9VmpoqkLl",
        "outputId": "cc7f0088-26e9-401c-ef6d-6af27d41e992"
      },
      "execution_count": null,
      "outputs": [
        {
          "output_type": "stream",
          "name": "stdout",
          "text": [
            "<class 'pandas.core.series.Series'>\n",
            "55283   -1\n",
            "58454   -1\n",
            "56729   -1\n",
            "37978   -1\n",
            "37330   -1\n",
            "        ..\n",
            "20570   -1\n",
            "9266    -1\n",
            "8616    -1\n",
            "24936    1\n",
            "34332   -1\n",
            "Name: Abbandoni, Length: 9254, dtype: int64\n"
          ]
        },
        {
          "output_type": "display_data",
          "data": {
            "text/plain": [
              "<Figure size 432x288 with 1 Axes>"
            ],
            "image/png": "[encoded data removed]"
          },
          "metadata": {
            "needs_background": "light"
          }
        },
        {
          "output_type": "display_data",
          "data": {
            "text/plain": [
              "<Figure size 432x288 with 1 Axes>"
            ],
            "image/png": "[encoded data removed]"
          },
          "metadata": {
            "needs_background": "light"
          }
        },
        {
          "output_type": "stream",
          "name": "stdout",
          "text": [
            "              precision    recall  f1-score   support\n",
            "\n",
            "          -1       0.97      0.04      0.08      8839\n",
            "           1       0.05      0.97      0.09       415\n",
            "\n",
            "    accuracy                           0.08      9254\n",
            "   macro avg       0.51      0.51      0.08      9254\n",
            "weighted avg       0.93      0.08      0.08      9254\n",
            "\n",
            "Precision:  0.045351985559566786\n"
          ]
        }
      ]
    },
    {
      "cell_type": "markdown",
      "source": [
        "# SVM with z scores"
      ],
      "metadata": {
        "id": "GM91NGIEWqOB"
      }
    },
    {
      "cell_type": "code",
      "source": [
        "## Z-score for SVM\n",
        "y_test.replace(-1, 0, inplace=True)\n",
        "reconstructed_4z = autoencoder.predict(x_train)\n",
        "\n",
        "mse_4z = np.sum(np.power(x_train - reconstructed_4z, 2), axis=1)\n",
        "z_scores_4z = Z_Score(mse_4z)"
      ],
      "metadata": {
        "id": "oLf6TJDCa5gh"
      },
      "execution_count": null,
      "outputs": []
    },
    {
      "cell_type": "code",
      "source": [
        "from sklearn.svm import LinearSVC\n",
        "\n",
        "linear_svm_zscore_filename = 'linear_svm_zscore.sav'\n",
        "use_pretrained = False\n",
        "\n",
        "if(use_pretrained):\n",
        "  _svmz = joblib_load_model(linear_svm_zscore_filename)\n",
        "else:\n",
        "  _svmz = LinearSVC(random_state=0, tol=1e-5)\n",
        "  #_svmz = svm.SVC(gamma='auto')\n",
        "  _svmz.fit(np.array(z_scores_4z).reshape(-1, 1), y_train)\n",
        "  joblib_save_model(_svmz, linear_svm_zscore_filename)\n",
        "\n",
        "y_predict_z = _svmz.predict(np.array(z_scores).reshape(-1, 1))\n"
      ],
      "metadata": {
        "id": "T4LwtFsfWrV-"
      },
      "execution_count": null,
      "outputs": []
    },
    {
      "cell_type": "code",
      "source": [
        "print_classification_report_n_mconfusion(y_predict_z, y_test)\n",
        "print(y_predict_z[(y_predict_z > 0) == True].size)"
      ],
      "metadata": {
        "colab": {
          "base_uri": "https://localhost:8080/",
          "height": 577
        },
        "id": "8Yinm5s-YSKN",
        "outputId": "2fff171f-94cc-4711-9de6-4b3241db7c6b"
      },
      "execution_count": null,
      "outputs": [
        {
          "output_type": "stream",
          "name": "stderr",
          "text": [
            "/usr/local/lib/python3.7/dist-packages/sklearn/metrics/_classification.py:1318: UndefinedMetricWarning: Recall and F-score are ill-defined and being set to 0.0 in labels with no true samples. Use `zero_division` parameter to control this behavior.\n",
            "  _warn_prf(average, modifier, msg_start, len(result))\n",
            "/usr/local/lib/python3.7/dist-packages/sklearn/metrics/_classification.py:1318: UndefinedMetricWarning: Recall and F-score are ill-defined and being set to 0.0 in labels with no true samples. Use `zero_division` parameter to control this behavior.\n",
            "  _warn_prf(average, modifier, msg_start, len(result))\n",
            "/usr/local/lib/python3.7/dist-packages/sklearn/metrics/_classification.py:1318: UndefinedMetricWarning: Recall and F-score are ill-defined and being set to 0.0 in labels with no true samples. Use `zero_division` parameter to control this behavior.\n",
            "  _warn_prf(average, modifier, msg_start, len(result))\n"
          ]
        },
        {
          "output_type": "stream",
          "name": "stdout",
          "text": [
            "              precision    recall  f1-score   support\n",
            "\n",
            "           0       1.00      0.96      0.98      9254\n",
            "           1       0.00      0.00      0.00         0\n",
            "\n",
            "    accuracy                           0.96      9254\n",
            "   macro avg       0.50      0.48      0.49      9254\n",
            "weighted avg       1.00      0.96      0.98      9254\n",
            "\n"
          ]
        },
        {
          "output_type": "display_data",
          "data": {
            "text/plain": [
              "<Figure size 432x288 with 2 Axes>"
            ],
            "image/png": "[encoded data removed]"
          },
          "metadata": {
            "needs_background": "light"
          }
        },
        {
          "output_type": "stream",
          "name": "stdout",
          "text": [
            "0\n"
          ]
        }
      ]
    },
    {
      "cell_type": "markdown",
      "source": [
        "# XGBoost"
      ],
      "metadata": {
        "id": "3gaJvG9iPCAP"
      }
    },
    {
      "cell_type": "code",
      "source": [
        "xgb_cl = xgb.XGBClassifier()\n",
        "xgb_cl.fit(x_train, y_train)"
      ],
      "metadata": {
        "colab": {
          "base_uri": "https://localhost:8080/"
        },
        "id": "pl5o5VXMPK8-",
        "outputId": "e00dc87f-fd26-43c7-9655-5a173d4dd746"
      },
      "execution_count": null,
      "outputs": [
        {
          "output_type": "execute_result",
          "data": {
            "text/plain": [
              "XGBClassifier()"
            ]
          },
          "metadata": {},
          "execution_count": 27
        }
      ]
    },
    {
      "cell_type": "code",
      "source": [
        "preds = xgb_cl.predict(x_test)\n",
        "print_classification_report_n_mconfusion(preds, y_test)"
      ],
      "metadata": {
        "colab": {
          "base_uri": "https://localhost:8080/",
          "height": 435
        },
        "id": "FX34yk8iaZIJ",
        "outputId": "90e8cad6-eca0-4e0a-db20-670129dff800"
      },
      "execution_count": null,
      "outputs": [
        {
          "output_type": "stream",
          "name": "stdout",
          "text": [
            "              precision    recall  f1-score   support\n",
            "\n",
            "           0       1.00      0.96      0.98      9145\n",
            "           1       0.19      0.72      0.30       109\n",
            "\n",
            "    accuracy                           0.96      9254\n",
            "   macro avg       0.59      0.84      0.64      9254\n",
            "weighted avg       0.99      0.96      0.97      9254\n",
            "\n"
          ]
        },
        {
          "output_type": "display_data",
          "data": {
            "text/plain": [
              "<Figure size 432x288 with 2 Axes>"
            ],
            "image/png": "[encoded data removed]"
          },
          "metadata": {
            "needs_background": "light"
          }
        }
      ]
    },
    {
      "cell_type": "markdown",
      "source": [
        "## GridSearchCV\n",
        "\n",
        "GridSearchCV  è una classe inclusa in Scikit-learn che accetta dei range di possibili valori da testare come hyper-parameter e addestra più modelli su combinazioni dei possibili valori inseriti per determinare la miglior combinazine."
      ],
      "metadata": {
        "id": "o7C_NuFnfhzk"
      }
    },
    {
      "cell_type": "code",
      "source": [
        "param_grid = {\n",
        "    \"max_depth\": [5, 10],\n",
        "    \"learning_rate\": [0.1, 0.05],\n",
        "    \"gamma\": [0, 1],\n",
        "    \"reg_lambda\": [0, 10],\n",
        "    \"scale_pos_weight\": [1, 5],\n",
        "    \"subsample\": [0.8],\n",
        "    \"colsample_bytree\": [0.5, 0.9],\n",
        "}"
      ],
      "metadata": {
        "id": "gZdxfTPzgMxq"
      },
      "execution_count": null,
      "outputs": []
    },
    {
      "cell_type": "code",
      "source": [
        "xgb_cl = xgb.XGBClassifier(objective=\"binary:logistic\")\n",
        "\n",
        "grid_cv = GridSearchCV(xgb_cl, param_grid, n_jobs=-1, cv=3, scoring=\"roc_auc\", verbose=3)\n",
        "\n",
        "_ = grid_cv.fit(x, y)"
      ],
      "metadata": {
        "colab": {
          "base_uri": "https://localhost:8080/"
        },
        "id": "HDBVMN_Yggrt",
        "outputId": "69c4a503-a76e-4e55-bb12-66f973c64b8b"
      },
      "execution_count": null,
      "outputs": [
        {
          "output_type": "stream",
          "name": "stdout",
          "text": [
            "Fitting 3 folds for each of 64 candidates, totalling 192 fits\n"
          ]
        }
      ]
    },
    {
      "cell_type": "code",
      "source": [
        "print(grid_cv.best_score_)\n",
        "print(grid_cv.best_params_)"
      ],
      "metadata": {
        "id": "jNOR1GYphcxa",
        "colab": {
          "base_uri": "https://localhost:8080/"
        },
        "outputId": "c39add6d-ae00-440b-a1a2-490bfd3d0d6d"
      },
      "execution_count": null,
      "outputs": [
        {
          "output_type": "stream",
          "name": "stdout",
          "text": [
            "0.9268145160217172\n",
            "{'colsample_bytree': 0.5, 'gamma': 0, 'learning_rate': 0.1, 'max_depth': 5, 'reg_lambda': 10, 'scale_pos_weight': 1, 'subsample': 0.8}\n"
          ]
        }
      ]
    },
    {
      "cell_type": "markdown",
      "source": [
        "## Modello finale con i best params"
      ],
      "metadata": {
        "id": "GG970Pd_toUt"
      }
    },
    {
      "cell_type": "code",
      "source": [
        "best_params = {\n",
        "    'colsample_bytree': 0.5, \n",
        "    'gamma': 0, \n",
        "    'learning_rate': 0.1, \n",
        "    'max_depth': 5, \n",
        "    'reg_lambda': 10, \n",
        "    'scale_pos_weight': 1, \n",
        "    'subsample': 0.8\n",
        " }\n",
        "\n",
        "final_cl = xgb.XGBClassifier(\n",
        "    **best_params,\n",
        "    objective = \"binary:logistic\"\n",
        ")"
      ],
      "metadata": {
        "id": "sxxdGlvstvtB"
      },
      "execution_count": 10,
      "outputs": []
    },
    {
      "cell_type": "code",
      "source": [
        "_ = final_cl.fit(x_train, y_train)\n",
        "\n",
        "preds = final_cl.predict(x_test)\n",
        "print_classification_report_n_mconfusion(preds, y_test)"
      ],
      "metadata": {
        "id": "dlhYjY72p2Rw",
        "colab": {
          "base_uri": "https://localhost:8080/",
          "height": 453
        },
        "outputId": "6876ac60-a68f-4083-f513-808a8aa6eb02"
      },
      "execution_count": 11,
      "outputs": [
        {
          "output_type": "stream",
          "name": "stdout",
          "text": [
            "              precision    recall  f1-score   support\n",
            "\n",
            "           0       1.00      0.96      0.98      9132\n",
            "           1       0.19      0.66      0.30       122\n",
            "\n",
            "    accuracy                           0.96      9254\n",
            "   macro avg       0.59      0.81      0.64      9254\n",
            "weighted avg       0.98      0.96      0.97      9254\n",
            "\n"
          ]
        },
        {
          "output_type": "display_data",
          "data": {
            "text/plain": [
              "<Figure size 432x288 with 2 Axes>"
            ],
            "image/png": "[encoded data removed]"
          },
          "metadata": {
            "needs_background": "light"
          }
        },
        {
          "output_type": "stream",
          "name": "stdout",
          "text": [
            "> Roc auc score: 0.594\n"
          ]
        }
      ]
    },
    {
      "cell_type": "markdown",
      "source": [
        "# SMOTE + Random undersampling on XGBoost"
      ],
      "metadata": {
        "id": "EyLjRA-Qn1hU"
      }
    },
    {
      "cell_type": "code",
      "source": [
        "# grid search k value for SMOTE oversampling for imbalanced classification\n",
        "from numpy import mean\n",
        "from sklearn.model_selection import cross_val_score\n",
        "from sklearn.model_selection import RepeatedStratifiedKFold\n",
        "from imblearn.pipeline import Pipeline\n",
        "from imblearn.over_sampling import SMOTE\n",
        "from imblearn.under_sampling import RandomUnderSampler\n",
        "\n",
        "# values to evaluate\n",
        "# k_values = [1, 2, 3, 4, 5, 6, 7]\n",
        "# for k in k_values:\n",
        "# 1 is the best\n",
        "# define pipeline\n",
        "model = final_cl\n",
        "over = SMOTE(sampling_strategy=0.1, k_neighbors=1)\n",
        "under = RandomUnderSampler(sampling_strategy=0.5)\n",
        "steps = [('over', over), ('under', under), ('model', model)]\n",
        "pipeline = Pipeline(steps=steps)\n",
        "# evaluate pipeline\n",
        "cv = RepeatedStratifiedKFold(n_splits=10, n_repeats=3, random_state=1)\n",
        "scores = cross_val_score(pipeline, x, y, scoring='accuracy', cv=cv, n_jobs=-1)\n",
        "score = mean(scores)\n",
        "print('> k=%d, Mean Accuracy: %.3f' %(1, score))"
      ],
      "metadata": {
        "id": "9ezvTiLPn-1k",
        "colab": {
          "base_uri": "https://localhost:8080/"
        },
        "outputId": "0142f37f-c82f-4fc1-f4da-9dd030114632"
      },
      "execution_count": 30,
      "outputs": [
        {
          "output_type": "stream",
          "name": "stdout",
          "text": [
            "> k=1, Mean Accuracy: 0.927\n"
          ]
        }
      ]
    },
    {
      "cell_type": "code",
      "source": [
        "print('> Mean Accuracy: %.3f' % (score))"
      ],
      "metadata": {
        "colab": {
          "base_uri": "https://localhost:8080/"
        },
        "id": "lvJFPN136EsU",
        "outputId": "15d9fc4a-20f0-4cef-ec19-33872db7fbb3"
      },
      "execution_count": null,
      "outputs": [
        {
          "output_type": "stream",
          "name": "stdout",
          "text": [
            "> Mean Accuracy: 0.927\n"
          ]
        }
      ]
    },
    {
      "cell_type": "markdown",
      "source": [
        "# Just undersampling"
      ],
      "metadata": {
        "id": "OIUI_U-n_Bog"
      }
    },
    {
      "cell_type": "code",
      "source": [
        "models = [final_cl, rf]\n",
        "for _model in models:\n",
        "    model = _model\n",
        "    under = RandomUnderSampler(sampling_strategy='majority')\n",
        "    steps = [('under', under), ('model', model)]\n",
        "    pipeline = Pipeline(steps=steps)\n",
        "    # evaluate pipeline\n",
        "    cv = RepeatedStratifiedKFold(n_splits=10, n_repeats=3, random_state=1)\n",
        "    scores = cross_val_score(pipeline, x, y, scoring='roc_auc', cv=cv, n_jobs=-1)\n",
        "    score = mean(scores)\n",
        "    print('> Mean ROC AUC: %.3f' %(score))\n"
      ],
      "metadata": {
        "colab": {
          "base_uri": "https://localhost:8080/"
        },
        "id": "bDOsPMGr_MN1",
        "outputId": "b92df869-6463-40c4-af33-cf42b178af20"
      },
      "execution_count": null,
      "outputs": [
        {
          "output_type": "stream",
          "name": "stdout",
          "text": [
            "> Mean ROC AUC: 0.926\n",
            "> Mean ROC AUC: 0.921\n"
          ]
        }
      ]
    },
    {
      "cell_type": "markdown",
      "source": [
        "# ROBE DA METTERE\n",
        "1 - visualizzazione \"z scores for different classes al variare dell'encoding dell'autoencoder\n",
        "\n",
        "2 - riportare il fatto che sono stati effettuati svariati test per effettuare l'hyperparameter optimization\n",
        "# IDEE\n",
        "1 - usare l'autoencoder come PCA ed usare l'encoder come input di SVM oppure OSVM oppure NN\n",
        "2 - utilizzare nell'addestramento dell'autoencoder i dati senza dropout\n",
        "3 - (2 + 1)\n",
        "4 - Cambia metrica di performance\n"
      ],
      "metadata": {
        "id": "W8t0b6kKLqUm"
      }
    },
    {
      "cell_type": "code",
      "source": [],
      "metadata": {
        "id": "nSdgq7CZLS3h"
      },
      "execution_count": null,
      "outputs": []
    }
  ]
}