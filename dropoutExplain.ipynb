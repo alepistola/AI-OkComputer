{
  "nbformat": 4,
  "nbformat_minor": 0,
  "metadata": {
    "colab": {
      "name": "dropoutExplain.ipynb",
      "provenance": [],
      "collapsed_sections": [
        "XIs6n04l1mi0"
      ],
      "toc_visible": true
    },
    "kernelspec": {
      "name": "python3",
      "display_name": "Python 3"
    },
    "language_info": {
      "name": "python"
    }
  },
  "cells": [
    {
      "cell_type": "markdown",
      "source": [
        "## Import e funzioni utili"
      ],
      "metadata": {
        "id": "XWgw_m5rkF4o"
      }
    },
    {
      "cell_type": "code",
      "source": [
        "import pandas as pd\n",
        "import numpy as np\n",
        "import matplotlib\n",
        "import matplotlib.pyplot as plt\n",
        "import seaborn as sns\n",
        "from google.colab import drive\n",
        "from sklearn.preprocessing import MinMaxScaler\n",
        "import sklearn\n",
        "from sklearn import svm\n",
        "from sklearn import metrics\n",
        "from sklearn.metrics import classification_report, confusion_matrix, ConfusionMatrixDisplay\n",
        "from sklearn.metrics import precision_score, recall_score, f1_score, roc_curve, auc, roc_auc_score, precision_recall_curve, average_precision_score, cohen_kappa_score, classification_report\n",
        "import joblib\n",
        "%tensorflow_version 2.x\n",
        "import tensorflow as tf\n",
        "from tensorflow.keras.callbacks import EarlyStopping, ModelCheckpoint\n",
        "from tensorflow.keras.models import Sequential, Model\n",
        "from tensorflow.keras.layers import Dense, Activation, Input, Dropout\n",
        "from tensorflow.keras.models import load_model"
      ],
      "metadata": {
        "id": "9EcOy6JBkA12"
      },
      "execution_count": 74,
      "outputs": []
    },
    {
      "cell_type": "code",
      "source": [
        "local = False\n",
        "\n",
        "LOCAL_URL = \"dropoutData/\"\n",
        "CLOUD_URL = \"/content/drive/My Drive/dataset/Dropout/\"\n",
        "\n",
        "base_url = \"\"\n",
        "\n",
        "if(local):\n",
        "  base_url = LOCAL_URL\n",
        "else:\n",
        "  base_url = CLOUD_URL\n",
        "\n",
        "\n",
        "def print_missing_values(dt):\n",
        "  pd.options.mode.use_inf_as_na = True\n",
        "  for col in dt.columns:\n",
        "    na = int(dt[col].isna().sum())\n",
        "    print(\"Column '\" + col + \"' has \" + str(na) + \" missing values\")\n",
        "\n",
        "def print_columns_len(dt):\n",
        "  for col in dt.columns:\n",
        "    print(\"column '\" + col + \"' has \" + str(len(dt[col])) + \" values\")\n",
        "\n",
        "def joblib_save_model(model, filename):\n",
        "  joblib.dump(model, base_url + filename)\n",
        "\n",
        "def joblib_load_model(filename):\n",
        "  return joblib.load(base_url + filename)\n",
        "\n",
        "def keras_load_model(filename):\n",
        "  return load_model(base_url + filename)\n",
        "\n",
        "def print_classification_report_n_mconfusion(y_pred, y_true):\n",
        "  print(classification_report(y_pred, y_true))\n",
        "  cm = confusion_matrix(y_test, y_pred) \n",
        "  disp = ConfusionMatrixDisplay(confusion_matrix=cm)\n",
        "  disp.plot()\n",
        "  plt.show()\n",
        "\n",
        "def SquareErrorDataPoints(_input, _output):\n",
        "    #input = np.squeeze(_input, axis=0)\n",
        "    #output = np.squeeze(_output, axis=0)\n",
        "    # Caculate error\n",
        "    error = np.square(_input - _output)\n",
        "    #error = np.sum(error)\n",
        "    return error\n",
        "\n",
        "# nr. of standard deviation times the sample is far from the std\n",
        "def Z_Score(_error):\n",
        "    mu = np.nanmean(_error)\n",
        "    gamma = np.nanstd(_error)\n",
        "    zscore = (_error - mu)/gamma\n",
        "    return zscore\n",
        "\n",
        "def CreateLabelBasedOnZscore(_zscore, _threshold, _sign=False):\n",
        "    label = np.full(_zscore.shape[0], 1)\n",
        "    if not _sign:\n",
        "        label[_zscore > _threshold] = -1\n",
        "        label[_zscore < -_threshold] = -1\n",
        "    else:\n",
        "        label[_zscore > _threshold] = -1\n",
        "    # label[abs(_zscore) > abs(_threshold)] = -1\n",
        "    return label\n",
        "\n",
        "def CalculatePrecisionRecallF1Metrics(_abnormal_label, _y_pred):\n",
        "    precision = precision_score(_abnormal_label, _y_pred)\n",
        "    recall = recall_score(_abnormal_label, _y_pred)\n",
        "    f1 = f1_score(_abnormal_label, _y_pred)\n",
        "    return precision, recall, f1\n",
        "\n",
        "def CalculateROCAUCMetrics(_abnormal_label, _score):\n",
        "    fpr, tpr, _ = roc_curve(_abnormal_label, _score)\n",
        "    roc_auc = auc(np.nan_to_num(fpr), np.nan_to_num(tpr))\n",
        "    if roc_auc < 0.5:\n",
        "        roc_auc = 1 - roc_auc\n",
        "    return fpr, tpr, roc_auc\n",
        "\n",
        "def CalculatePrecisionRecallCurve(_abnormal_label, _score):\n",
        "    precision_curve, recall_curve, _ = precision_recall_curve(_abnormal_label, _score)\n",
        "    average_precision = average_precision_score(_abnormal_label, _score)\n",
        "    if average_precision < 0.5:\n",
        "        average_precision = 1 - average_precision\n",
        "    return precision_curve, recall_curve, average_precision\n",
        "\n",
        "def PlotROCAUC(_fpr, _tpr, _roc_auc):\n",
        "    plt.figure(1)\n",
        "    lw = 1.5\n",
        "    plt.plot(_fpr, _tpr, color='darkorange', lw=lw, label='ROC curve (area = %0.2f)' % _roc_auc)\n",
        "    plt.plot([0, 1], [0, 1], color='navy', lw=lw, linestyle='--')\n",
        "    plt.xlim([0.0, 1.0])\n",
        "    plt.ylim([0.0, 1.05])\n",
        "    plt.xlabel('False Positive Rate')\n",
        "    plt.ylabel('True Positive Rate')\n",
        "    plt.title('Receiver Operating Characteristic')\n",
        "    plt.legend(loc=\"lower right\")\n",
        "    plt.show()\n",
        "\n",
        "\n",
        "def PlotPrecisionRecallCurve(_precision, _recall, _average_precision, _baseline):\n",
        "    plt.figure(2)\n",
        "    lw = 2\n",
        "    plt.step(_recall, _precision, color='darkorange', lw=lw, alpha=1, where='post', label='PR curve (area = %0.2f)' % _average_precision)\n",
        "    # plt.fill_between(_recall, _precision, step='post', alpha=0.2, color='b')\n",
        "    plt.plot([0, 1], [_baseline, _baseline], color='navy', lw=lw, linestyle='--')\n",
        "    plt.xlabel('Recall')\n",
        "    plt.ylabel('Precision')\n",
        "    plt.title('Precision-Recall Curve')\n",
        "    plt.ylim([0, 1.05])\n",
        "    plt.xlim([0, 1])\n",
        "    # plt.legend('AP={0:0.2f}'.format(_average_precision))\n",
        "    plt.legend(loc=\"upper right\")\n",
        "    plt.show()\n",
        "\n",
        "def PlotResult(_values):\n",
        "    plt.plot(_values)\n",
        "    plt.show()"
      ],
      "metadata": {
        "id": "j8pMVVvr8rn7"
      },
      "execution_count": 75,
      "outputs": []
    },
    {
      "cell_type": "markdown",
      "source": [
        "# DATA PREPROCESSING"
      ],
      "metadata": {
        "id": "XIs6n04l1mi0"
      }
    },
    {
      "cell_type": "markdown",
      "source": [
        "## Acquisizione dati"
      ],
      "metadata": {
        "id": "jc9FfbFEkfJH"
      }
    },
    {
      "cell_type": "code",
      "source": [
        "if(not local):\n",
        "  drive.mount('/content/drive')\n",
        "\n",
        "df = pd.read_excel(base_url + 'stud_2016_2018.xlsx')\n",
        "df_esami = pd.read_excel(base_url + 'esami_2016_2018.xlsx')\n",
        "df.head()"
      ],
      "metadata": {
        "colab": {
          "base_uri": "https://localhost:8080/",
          "height": 235
        },
        "id": "YBzEcU7ekQeU",
        "outputId": "66d2d09d-9537-41bd-ea36-eac4fb224b37"
      },
      "execution_count": null,
      "outputs": [
        {
          "output_type": "error",
          "ename": "NameError",
          "evalue": "ignored",
          "traceback": [
            "\u001b[0;31m---------------------------------------------------------------------------\u001b[0m",
            "\u001b[0;31mNameError\u001b[0m                                 Traceback (most recent call last)",
            "\u001b[0;32m<ipython-input-1-acd3f1b71a5d>\u001b[0m in \u001b[0;36m<module>\u001b[0;34m()\u001b[0m\n\u001b[0;32m----> 1\u001b[0;31m \u001b[0;32mif\u001b[0m\u001b[0;34m(\u001b[0m\u001b[0;32mnot\u001b[0m \u001b[0mlocal\u001b[0m\u001b[0;34m)\u001b[0m\u001b[0;34m:\u001b[0m\u001b[0;34m\u001b[0m\u001b[0;34m\u001b[0m\u001b[0m\n\u001b[0m\u001b[1;32m      2\u001b[0m   \u001b[0mdrive\u001b[0m\u001b[0;34m.\u001b[0m\u001b[0mmount\u001b[0m\u001b[0;34m(\u001b[0m\u001b[0;34m'/content/drive'\u001b[0m\u001b[0;34m)\u001b[0m\u001b[0;34m\u001b[0m\u001b[0;34m\u001b[0m\u001b[0m\n\u001b[1;32m      3\u001b[0m \u001b[0;34m\u001b[0m\u001b[0m\n\u001b[1;32m      4\u001b[0m \u001b[0mdf\u001b[0m \u001b[0;34m=\u001b[0m \u001b[0mpd\u001b[0m\u001b[0;34m.\u001b[0m\u001b[0mread_excel\u001b[0m\u001b[0;34m(\u001b[0m\u001b[0mbase_url\u001b[0m \u001b[0;34m+\u001b[0m \u001b[0;34m'stud_2016_2018.xlsx'\u001b[0m\u001b[0;34m)\u001b[0m\u001b[0;34m\u001b[0m\u001b[0;34m\u001b[0m\u001b[0m\n\u001b[1;32m      5\u001b[0m \u001b[0mdf_esami\u001b[0m \u001b[0;34m=\u001b[0m \u001b[0mpd\u001b[0m\u001b[0;34m.\u001b[0m\u001b[0mread_excel\u001b[0m\u001b[0;34m(\u001b[0m\u001b[0mbase_url\u001b[0m \u001b[0;34m+\u001b[0m \u001b[0;34m'esami_2016_2018.xlsx'\u001b[0m\u001b[0;34m)\u001b[0m\u001b[0;34m\u001b[0m\u001b[0;34m\u001b[0m\u001b[0m\n",
            "\u001b[0;31mNameError\u001b[0m: name 'local' is not defined"
          ]
        }
      ]
    },
    {
      "cell_type": "markdown",
      "source": [
        "## Missing values"
      ],
      "metadata": {
        "id": "XwcS44K7mi3b"
      }
    },
    {
      "cell_type": "markdown",
      "source": [
        "FILLING SU VALORI MANCANTI DI voto_scuola_superiore\n",
        "\n",
        "\n",
        "Per ogni studente senza voto, calcolo la mediana del voto tra l'insieme di studenti che hanno in comune area_geografica_scuola_superiore e Diploma_scuola_superiore"
      ],
      "metadata": {
        "id": "lEtc6pwVmwU6"
      }
    },
    {
      "cell_type": "code",
      "source": [
        "voto_scuola_superiore_mean = round(df['voto_scuola_superiore'].mean(), 2)\n",
        "\n",
        "def calculate_mean_vote_with_similar_area_n_diploma(dt, area_scuola, area_residenza, diploma):\n",
        "    if(diploma == 9):\n",
        "        return voto_scuola_superiore_mean\n",
        "    similar_student = dt.loc[(dt['Diploma_scuola_superiore'] == diploma) & ((dt['area_geografica_residenza'] == area_residenza) | (dt['area_geografica_scuolasuperiore'] == area_scuola))]#(dt['area_geografica_residenza'] == area_residenza | dt['area_geografica_scuolasuperiore'] == area_scuola)]\n",
        "    return round(similar_student['voto_scuola_superiore'].mean(), 2)\n",
        "    \n",
        "cacheMap = {\"11\": 81}\n",
        "\n",
        "students_without_vote = df.loc[df['voto_scuola_superiore'].isna()]\n",
        "\n",
        "print(students_without_vote.shape)\n",
        "\n",
        "\n",
        "for index, row in students_without_vote.iterrows():\n",
        "    key = str(row.area_geografica_scuolasuperiore) + str(row.Diploma_scuola_superiore)\n",
        "    if key in cacheMap:\n",
        "        df.loc[index, 'voto_scuola_superiore'] =  cacheMap[key]\n",
        "    else:\n",
        "        median_vote = calculate_mean_vote_with_similar_area_n_diploma(df, row.area_geografica_scuolasuperiore, row.area_geografica_residenza,row.Diploma_scuola_superiore)\n",
        "        df.loc[index, 'voto_scuola_superiore'] = median_vote\n",
        "        cacheMap[key] = median_vote\n",
        "\n",
        "#pd.options.mode.use_inf_as_na = True\n",
        "print(df['voto_scuola_superiore'].isna().sum())"
      ],
      "metadata": {
        "id": "b7dUS5XimkNh"
      },
      "execution_count": null,
      "outputs": []
    },
    {
      "cell_type": "markdown",
      "source": [
        "## Data trasformation"
      ],
      "metadata": {
        "id": "aOGHkPXSn1oO"
      }
    },
    {
      "cell_type": "markdown",
      "source": [
        "Trasformazioni da effettuare nel dataset:\n",
        "\n",
        "\n",
        "*   modifica data di nascita in anno di nascita (int64)\n",
        "*   one hot-econding su (coorte, Diploma_scuola_superiore, area_geografica_scuolasuperiore, area_geografica_residenza)\n",
        "*   filling su voto_scuola_superiore (utilizzando la mediana dei valori dell'intorno calcolato su area_geografica_scuola_superiore e Diploma_scuola_superiore)\n",
        "*   filling Merito_ISEE (la classe_ISEE in questo caso agisce come indicatore di reddito famigliare) a questo punto, si\n",
        "      si potrebbe procedere creando una feature continua, la contribuzione_tasse, che indichi la contribuzione delle tasse,\n",
        "      quindi tutti gli studenti con classe_ISEE (0, 1) avranno contribuzione_tasse pari a 0. L'implementazione sarà congrua\n",
        "      con gli scaglioni delle tasse di unibo nel 2016/2017 - 2017/2018 - 2018/2019\n",
        "*   modifica il tipo di corso con durata_corso -> L: 3, LM: 2, LMCU: 5\n",
        "\n",
        "\n",
        "A questo punto Classe_ISEE è un buon indicatore del reddito familiare e contribuzione_tasse del contributo pagato"
      ],
      "metadata": {
        "id": "OhvNU4Oln6su"
      }
    },
    {
      "cell_type": "code",
      "source": [
        "# ESTRAPOLAZIONE ANNO DI NASCITA - DURATA CORSO - GENERE\n",
        "def get_year(date):\n",
        "    return date.year\n",
        "\n",
        "def get_duration(course_type):\n",
        "    if(course_type == \"L\"):\n",
        "        return 3\n",
        "    elif(course_type == \"LM\"):\n",
        "        return 2\n",
        "    elif(course_type == \"LMCU\"):\n",
        "        return 5\n",
        "    \n",
        "def get_genre(genre):\n",
        "    if(genre == 1):\n",
        "        return 0\n",
        "    else:\n",
        "        return 1\n",
        "\n",
        "df['AnnoNascita'] = df['DataNascita'].apply(get_year)\n",
        "df.drop('DataNascita', axis=1, inplace=True)\n",
        "\n",
        "df['DurataCorso'] = df['TipoCorso'].apply(get_duration)\n",
        "df.drop('TipoCorso', axis=1, inplace=True)\n",
        "\n",
        "df['Genere'] = df['Genere'].apply(get_genre)\n",
        "\n",
        "\n",
        "# FILLING Merito_ISEE\n",
        "                \n",
        "def calculate_contribuzione_tasse(dt):\n",
        "    nrows = dt.shape[0]\n",
        "    for i in range(nrows):\n",
        "        current = dt.iloc[i]\n",
        "        if(current['Coorte'] == 2016):\n",
        "            if(current['Classe_ISEE'] == 0 or current['Classe_ISEE'] == 1) : dt.loc[i, \"Contribuzione_tasse\"] = 1\n",
        "            elif(current['Merito_ISEE'] <= 23000) : dt.loc[i, \"Contribuzione_tasse\"] = 0\n",
        "            elif(current['Merito_ISEE'] <= 28880.63) : dt.loc[i, \"Contribuzione_tasse\"] = 0.5\n",
        "            elif(current['Merito_ISEE'] <= 33371.84) : dt.loc[i, \"Contribuzione_tasse\"] = 0.6\n",
        "            elif(current['Merito_ISEE'] <= 38506.71) : dt.loc[i, \"Contribuzione_tasse\"] = 0.7\n",
        "            elif(current['Merito_ISEE'] <= 44922.89) : dt.loc[i, \"Contribuzione_tasse\"] = 0.8\n",
        "            elif(current['Merito_ISEE'] <= 51337.89) : dt.loc[i, \"Contribuzione_tasse\"] = 0.9\n",
        "            elif(current['Merito_ISEE'] >= 51337.90) : dt.loc[i, \"Contribuzione_tasse\"] = 1\n",
        "        else:\n",
        "            if(current['Classe_ISEE'] == 0 or current['Classe_ISEE'] == 1) : dt.loc[i, \"Contribuzione_tasse\"] = 1\n",
        "            elif(current['Merito_ISEE'] <= 23000) : dt.loc[i, \"Contribuzione_tasse\"] = 0\n",
        "            elif(current['Merito_ISEE'] <= 33000) : dt.loc[i, \"Contribuzione_tasse\"] = 0.5\n",
        "            elif(current['Merito_ISEE'] <= 45000) : dt.loc[i, \"Contribuzione_tasse\"] = 0.7\n",
        "            elif(current['Merito_ISEE'] <= 60000) : dt.loc[i, \"Contribuzione_tasse\"] = 0.8\n",
        "            elif(current['Merito_ISEE'] <= 70000) : dt.loc[i, \"Contribuzione_tasse\"] = 0.9\n",
        "            elif(current['Merito_ISEE'] >= 70001) : dt.loc[i, \"Contribuzione_tasse\"] = 1\n",
        "                \n",
        "calculate_contribuzione_tasse(df)\n",
        "df.drop('Merito_ISEE', axis=1, inplace=True)\n",
        "df.info()"
      ],
      "metadata": {
        "id": "XT9Hz1iUn5O3"
      },
      "execution_count": null,
      "outputs": []
    },
    {
      "cell_type": "markdown",
      "source": [
        "### One-hot-encode"
      ],
      "metadata": {
        "id": "yyinrXCzrY5E"
      }
    },
    {
      "cell_type": "code",
      "source": [
        "def one_hot_encode_n_merge(dt, column, prefix = None):\n",
        "    name = prefix if prefix is not None else column\n",
        "    encoded = pd.get_dummies(dt[column], prefix=name)\n",
        "    return pd.concat([dt, encoded], axis=1)\n",
        "    \n",
        "# ONE HOT ENCODING Coorte\n",
        "df = one_hot_encode_n_merge(df, 'Coorte')\n",
        "df.drop('Coorte', axis=1, inplace=True)\n",
        "\n",
        "# ONE HOT ENCODING Diploma_scuola_superiore\n",
        "df = one_hot_encode_n_merge(df, 'Diploma_scuola_superiore', 'Diploma')\n",
        "df.drop('Diploma_scuola_superiore', axis=1, inplace=True)\n",
        "\n",
        "# ONE HOT ENCODING area_geografica_scuolasuperiore\n",
        "df = one_hot_encode_n_merge(df, 'area_geografica_scuolasuperiore')\n",
        "df.drop('area_geografica_scuolasuperiore', axis=1, inplace=True)\n",
        "\n",
        "# ONE HOT ENCODING area_geografica_residenza\n",
        "df = one_hot_encode_n_merge(df, 'area_geografica_residenza')\n",
        "df.drop('area_geografica_residenza', axis=1, inplace=True)\n",
        "\n",
        "# ONE HOT ENCODING CdS\n",
        "df = one_hot_encode_n_merge(df, 'CdS')\n",
        "df.drop('CdS', axis=1, inplace=True)\n",
        "\n",
        "# ONE HOT ENCODING Ambito\n",
        "df = one_hot_encode_n_merge(df, 'Ambito')\n",
        "df.drop('Ambito', axis=1, inplace=True)\n",
        "\n",
        "# DROP Sede\n",
        "df.drop('Sede', axis=1, inplace=True)\n",
        "\n",
        "# ONE HOT ENCODING Campus\n",
        "df = one_hot_encode_n_merge(df, 'Campus')\n",
        "df.drop('Campus', axis=1, inplace=True)\n",
        "\n",
        "df.info()"
      ],
      "metadata": {
        "id": "BlNlUG5Cq-kl"
      },
      "execution_count": null,
      "outputs": []
    },
    {
      "cell_type": "markdown",
      "source": [
        "## Aggiunta informazioni degli esami al dataset\n",
        "Verranno estrapolate le seguenti informazioni per poi essere aggiunte al dataset degli studenti:\n",
        "- Numero di cfu conseguiti da ogni studente\n",
        "- Media dei voti degli esami\n",
        "\n",
        "Ci sono 910 studenti senza media (oltre i 5587 che non hanno neanche cfu conseguiti, che vengono rimossi), si è optato per riempire la colonna della media voti con la media di tutti gli studenti così da non influire statisticamente"
      ],
      "metadata": {
        "id": "ejJnNaYnsgjg"
      }
    },
    {
      "cell_type": "code",
      "source": [
        "df_esami.info()"
      ],
      "metadata": {
        "id": "SvR4HjcRr4XY"
      },
      "execution_count": null,
      "outputs": []
    },
    {
      "cell_type": "code",
      "source": [
        "media_voti = df_esami.groupby(['ID_Studente']).mean()['Voto_se_numerico']\n",
        "cfu_superati = df_esami.groupby(['ID_Studente']).sum()['CFUsuperati']\n",
        "\n",
        "media_voti = media_voti.fillna(media_voti.mean())\n",
        "\n",
        "dt = pd.merge(df, media_voti, left_on = 'ID_Studente', right_on = 'ID_Studente', how = 'left')\n",
        "dt = pd.merge(dt, cfu_superati, left_on = 'ID_Studente', right_on = 'ID_Studente', how = 'left')\n",
        "dt = dt.rename(columns={\"Voto_se_numerico\": \"media_voto\", \"CFUsuperati\": \"cfu_superati\"})\n",
        "\n",
        "dt.dropna(subset=['media_voto', 'cfu_superati'], axis=0, inplace=True)\n",
        "\n",
        "print_missing_values(dt)\n",
        "print(\"\\n#######################################################\\n\")\n",
        "print_columns_len(dt)"
      ],
      "metadata": {
        "id": "CnOnETTps9n-"
      },
      "execution_count": null,
      "outputs": []
    },
    {
      "cell_type": "markdown",
      "source": [
        "## Normalizzazione dati\n",
        "Scrivi perchè normalizzare e non standardizzare"
      ],
      "metadata": {
        "id": "eeDrK9sIgOuH"
      }
    },
    {
      "cell_type": "code",
      "source": [
        "mmscaler = MinMaxScaler()\n",
        "\n",
        "def scale_n_add_to_dt(dataset, column):\n",
        "  #print(column.shape)]\n",
        "  toScale = dataset[column].to_numpy().reshape(-1, 1)\n",
        "  #print(column.shape)\n",
        "  scaled_column = mmscaler.fit_transform(toScale).squeeze()\n",
        "  #print(scaled_column.shape)\n",
        "  dataset.drop(column, axis=1, inplace=True)\n",
        "  dataset[column] = scaled_column\n",
        "  #.squeeze()\n",
        "  return dataset\n",
        "  #return pd.concat([dataset, pd.Series(scaled_column)], axis=1)\n",
        "\n",
        "dt = scale_n_add_to_dt(dt, 'voto_scuola_superiore')\n",
        "dt = scale_n_add_to_dt(dt, 'media_voto')\n",
        "dt = scale_n_add_to_dt(dt, 'cfu_superati')\n",
        "dt = scale_n_add_to_dt(dt, 'AnnoNascita')\n",
        "dt = scale_n_add_to_dt(dt, 'DurataCorso')\n",
        "dt = scale_n_add_to_dt(dt, 'Classe_ISEE')\n",
        "\n",
        "print_columns_len(dt)\n",
        "dt.info()"
      ],
      "metadata": {
        "id": "pT2yBKd-gYoH"
      },
      "execution_count": null,
      "outputs": []
    },
    {
      "cell_type": "markdown",
      "source": [
        "## Salvataggio su file excel\n"
      ],
      "metadata": {
        "id": "icFB5cpK1BbA"
      }
    },
    {
      "cell_type": "code",
      "source": [
        "dt.to_excel(base_url + 'final_dataset.xlsx')"
      ],
      "metadata": {
        "id": "J5OFap5X0Mm7"
      },
      "execution_count": null,
      "outputs": []
    },
    {
      "cell_type": "markdown",
      "source": [
        "# DATA ACQUISITION"
      ],
      "metadata": {
        "id": "PCfZwIpUVnMv"
      }
    },
    {
      "cell_type": "code",
      "source": [
        "if(not local):\n",
        "  drive.mount('/content/drive')\n",
        "\n",
        "dt = pd.read_excel(base_url + 'final_dataset.xlsx')\n",
        "\n",
        "dropout_ids = dt.loc[(dt['Abbandoni'] > 0)][\"ID_Studente\"]\n",
        "\n",
        "y = dt['Abbandoni']\n",
        "x = dt.drop('Abbandoni', axis=1)\n",
        "\n",
        "x_train, x_test, y_train, y_test = sklearn.model_selection.train_test_split(x, y, test_size=0.15)\n",
        "print(\"X train size: \" + str(x_train.shape))\n",
        "print(\"Y train size: \" + str(y_train.shape))\n",
        "print(\"X test size: \" + str(x_test.shape))\n",
        "print(\"Y test size: \" + str(y_test.shape))"
      ],
      "metadata": {
        "colab": {
          "base_uri": "https://localhost:8080/"
        },
        "id": "b9Fzt6hbVs5D",
        "outputId": "d826c2d2-b986-40a9-c51a-f54954b32fb4"
      },
      "execution_count": 90,
      "outputs": [
        {
          "output_type": "stream",
          "name": "stdout",
          "text": [
            "Drive already mounted at /content/drive; to attempt to forcibly remount, call drive.mount(\"/content/drive\", force_remount=True).\n",
            "X train size: (52439, 312)\n",
            "Y train size: (52439,)\n",
            "X test size: (9254, 312)\n",
            "Y test size: (9254,)\n"
          ]
        }
      ]
    },
    {
      "cell_type": "markdown",
      "source": [
        "# SVM"
      ],
      "metadata": {
        "id": "UYNUndvQdp-l"
      }
    },
    {
      "cell_type": "markdown",
      "source": [
        "## Linear SVM"
      ],
      "metadata": {
        "id": "ri2zK7B7dvaU"
      }
    },
    {
      "cell_type": "code",
      "source": [
        "linear_svm_filename = 'linear_svm.sav'\n",
        "use_pretrained = True\n",
        "\n",
        "if(use_pretrained):\n",
        "  _svm = joblib_load_model(linear_svm_filename)\n",
        "else:\n",
        "  _svm = svm.SVC(kernel='linear')\n",
        "  _svm.fit(x_train, y_train)\n",
        "  joblib_save_model(_svm, linear_svm_filename)\n",
        "\n",
        "y_predict = _svm.predict(x_test)"
      ],
      "metadata": {
        "id": "5pmp6JlrZs-G"
      },
      "execution_count": null,
      "outputs": []
    },
    {
      "cell_type": "markdown",
      "source": [
        "### Metriche di performance"
      ],
      "metadata": {
        "id": "BoBnB3a3elZh"
      }
    },
    {
      "cell_type": "code",
      "source": [
        "print_classification_report_n_mconfusion(y_predict, y_test)"
      ],
      "metadata": {
        "colab": {
          "base_uri": "https://localhost:8080/",
          "height": 435
        },
        "id": "k9k5ppq0fu4v",
        "outputId": "b946f9bd-e261-4829-a438-2efa9c06c062"
      },
      "execution_count": null,
      "outputs": [
        {
          "output_type": "stream",
          "name": "stdout",
          "text": [
            "              precision    recall  f1-score   support\n",
            "\n",
            "           0       0.99      0.96      0.97      9131\n",
            "           1       0.01      0.04      0.02       123\n",
            "\n",
            "    accuracy                           0.94      9254\n",
            "   macro avg       0.50      0.50      0.49      9254\n",
            "weighted avg       0.97      0.94      0.96      9254\n",
            "\n"
          ]
        },
        {
          "output_type": "display_data",
          "data": {
            "text/plain": [
              "<Figure size 432x288 with 2 Axes>"
            ],
            "image/png": "[encoded data removed]"
          },
          "metadata": {
            "needs_background": "light"
          }
        }
      ]
    },
    {
      "cell_type": "markdown",
      "source": [
        "## Weighted Class Linear SVM\n",
        "Viene aumentato il peso della classe 1 (aumentando il focus sulle istanze di tale classe -> ovvero gli abbandoni)"
      ],
      "metadata": {
        "id": "qTSIlXQjonwl"
      }
    },
    {
      "cell_type": "code",
      "source": [
        "filename = 'weighted_class_linear_svm.sav'\n",
        "use_pretrained = True\n",
        "\n",
        "if(use_pretrained):\n",
        "  _svm = joblib_load_model(filename)\n",
        "else:\n",
        "  _svm = svm.SVC(kernel='linear', class_weight={1: 10})\n",
        "  _svm.fit(x_train, y_train)\n",
        "  joblib_save_model(_svm, filename)\n",
        "\n",
        "y_predict = _svm.predict(x_test)"
      ],
      "metadata": {
        "id": "cZmdWVp2or0E"
      },
      "execution_count": null,
      "outputs": []
    },
    {
      "cell_type": "markdown",
      "source": [
        "### Metriche di performance"
      ],
      "metadata": {
        "id": "6qoMfilNpgbX"
      }
    },
    {
      "cell_type": "code",
      "source": [
        "print_classification_report_n_mconfusion(y_predict, y_test)"
      ],
      "metadata": {
        "colab": {
          "base_uri": "https://localhost:8080/",
          "height": 435
        },
        "id": "HeEtWItPph_Q",
        "outputId": "5697cb0d-0c01-4183-bbb2-16f60527734c"
      },
      "execution_count": null,
      "outputs": [
        {
          "output_type": "stream",
          "name": "stdout",
          "text": [
            "              precision    recall  f1-score   support\n",
            "\n",
            "           0       0.96      0.96      0.96      8861\n",
            "           1       0.03      0.04      0.03       393\n",
            "\n",
            "    accuracy                           0.92      9254\n",
            "   macro avg       0.50      0.50      0.50      9254\n",
            "weighted avg       0.92      0.92      0.92      9254\n",
            "\n"
          ]
        },
        {
          "output_type": "display_data",
          "data": {
            "text/plain": [
              "<Figure size 432x288 with 2 Axes>"
            ],
            "image/png": "[encoded data removed]"
          },
          "metadata": {
            "needs_background": "light"
          }
        }
      ]
    },
    {
      "cell_type": "markdown",
      "source": [
        "## Weighted Samples Linear SVM\n",
        "Vengono pesate maggiormente le singole istanze (vanno quindi prima trovate)"
      ],
      "metadata": {
        "id": "zgj4YFTIJYd4"
      }
    },
    {
      "cell_type": "code",
      "source": [
        "sample_weight = np.ones(len(x_train))\n",
        "for id in dropout_ids:\n",
        "  try:\n",
        "    if(x_train.iloc[id - 1] is not None):\n",
        "      sample_weight[id - 1] = 50\n",
        "  except:\n",
        "      pass\n",
        "    #print(\"Id: \" + str(id) + \" not in train test\")\n",
        "    \n",
        "\n",
        "weighted_samples_linear_svm_filename = 'weighted_samples_linear_svm.sav'\n",
        "use_pretrained = True\n",
        "\n",
        "if(use_pretrained):\n",
        "  _svm = joblib_load_model(weighted_samples_linear_svm_filename)\n",
        "else:\n",
        "  _svm = svm.SVC(kernel='linear')\n",
        "  _svm.fit(x_train, y_train, sample_weight=sample_weight)\n",
        "  joblib_save_model(_svm, weighted_samples_linear_svm_filename)\n",
        "\n",
        "y_predict = _svm.predict(x_test)"
      ],
      "metadata": {
        "id": "aVV3WJHlJkyZ"
      },
      "execution_count": null,
      "outputs": []
    },
    {
      "cell_type": "markdown",
      "source": [
        "### Metriche di performance"
      ],
      "metadata": {
        "id": "ge2UwVlPho35"
      }
    },
    {
      "cell_type": "code",
      "source": [
        "print_classification_report_n_mconfusion(y_predict, y_test)"
      ],
      "metadata": {
        "id": "UfScWCrtPH52",
        "colab": {
          "base_uri": "https://localhost:8080/",
          "height": 435
        },
        "outputId": "42e71eb2-df8c-4d2b-86d6-5ceb893dacd8"
      },
      "execution_count": null,
      "outputs": [
        {
          "output_type": "stream",
          "name": "stdout",
          "text": [
            "              precision    recall  f1-score   support\n",
            "\n",
            "           0       0.99      0.96      0.97      9117\n",
            "           1       0.01      0.04      0.02       137\n",
            "\n",
            "    accuracy                           0.94      9254\n",
            "   macro avg       0.50      0.50      0.50      9254\n",
            "weighted avg       0.97      0.94      0.96      9254\n",
            "\n"
          ]
        },
        {
          "output_type": "display_data",
          "data": {
            "text/plain": [
              "<Figure size 432x288 with 2 Axes>"
            ],
            "image/png": "[encoded data removed]"
          },
          "metadata": {
            "needs_background": "light"
          }
        }
      ]
    },
    {
      "cell_type": "markdown",
      "source": [
        "# ANN Basic autoencoder"
      ],
      "metadata": {
        "id": "sMUrvA_RH-X8"
      }
    },
    {
      "cell_type": "markdown",
      "source": [
        "## Costruzione modello\n",
        "\n",
        "Per la realizzazione del modello si è scelto di utilizzare la libreria [Keras](https://keras.io/api/), essendo sviluppata logicamente sopra Tensorflow, ovvero Keras utlizza Tensorflow come back-end engine, è di facile utilizzo così da non rendere la curva di apprendimento del framework esageratamente alta ed infine essendo il framework numero uno per quanto riguarda l'ambito machine learning presenta una vasta comunity e un'API ben documentata.\n",
        "\n",
        "Keras espone un'API di alto livello con cui è possibile costruire reti neurali arbitrariamente complesse senza dover conoscere a fondo i meccanismi di funzionamento e le strutture dati adoperate da Tensorflow.\n",
        "\n",
        "Il modello è composto da 2 hidden layers composti da 1024 neuroni. Il primo layer ha come funzione di attivazione la funzione ReLU mentre il secondo la funzione sigmoid (sigmoide).\n",
        "\n",
        "Attraverso la funzione Sequential() si crea un modello in grado di raggruppare una sequenza lineare di layer.\n",
        "Con il metodo add() si possono aggiungere diversi tipi di layer, in questo caso tutti i layer sono di tipo *Dense* ovvero fortemente connessi con il layer inferiore e superiore.\n",
        "\n"
      ],
      "metadata": {
        "id": "wQU-dMwnIEpL"
      }
    },
    {
      "cell_type": "code",
      "source": [
        "input_n_output_dim = x_train.shape[1] #312\n",
        "\n",
        "# nr. di neuroni nell'encoding layer\n",
        "encoding_dim = 64\n",
        "encoding_dim_1 = 128\n",
        "encoding_dim_2 = 256\n",
        "\n",
        "# modern way of declaring the model\n",
        "autoencoder = Sequential()\n",
        "autoencoder.add(Input(shape=(input_n_output_dim,)))\n",
        "autoencoder.add(Dense(encoding_dim_2, activation='relu'))\n",
        "autoencoder.add(Dense(encoding_dim_1, activation='relu'))\n",
        "autoencoder.add(Dense(encoding_dim, activation='relu'))\n",
        "#autoencoder.add(Dense(32, activation='relu'))\n",
        "#autoencoder.add(Dropout(0.10))\n",
        "autoencoder.add(Dense(encoding_dim_1, activation='relu'))\n",
        "#autoencoder.add(Dropout(0.15))\n",
        "autoencoder.add(Dense(encoding_dim_2, activation='relu'))\n",
        "#autoencoder.add(Dropout(0.10))\n",
        "autoencoder.add(Dense(input_n_output_dim, activation='relu'))\n",
        "\n",
        "autoencoder.summary()"
      ],
      "metadata": {
        "id": "1QJw42ujhrJ3",
        "colab": {
          "base_uri": "https://localhost:8080/"
        },
        "outputId": "cf7d9eab-0ae7-4ffa-badf-600b059d3245"
      },
      "execution_count": 91,
      "outputs": [
        {
          "output_type": "stream",
          "name": "stdout",
          "text": [
            "Model: \"sequential_12\"\n",
            "_________________________________________________________________\n",
            " Layer (type)                Output Shape              Param #   \n",
            "=================================================================\n",
            " dense_68 (Dense)            (None, 256)               80128     \n",
            "                                                                 \n",
            " dense_69 (Dense)            (None, 128)               32896     \n",
            "                                                                 \n",
            " dense_70 (Dense)            (None, 64)                8256      \n",
            "                                                                 \n",
            " dense_71 (Dense)            (None, 128)               8320      \n",
            "                                                                 \n",
            " dense_72 (Dense)            (None, 256)               33024     \n",
            "                                                                 \n",
            " dense_73 (Dense)            (None, 312)               80184     \n",
            "                                                                 \n",
            "=================================================================\n",
            "Total params: 242,808\n",
            "Trainable params: 242,808\n",
            "Non-trainable params: 0\n",
            "_________________________________________________________________\n"
          ]
        }
      ]
    },
    {
      "cell_type": "markdown",
      "source": [
        "## Addestramento\n",
        "\n",
        "Il modello viene addestrato usando come funzione di costo la *mse* (mean squared error) e come ottimizzatore si è scelto di utilizzare Adam (Adaptive moment estimation).\n",
        "Il numero delle epoche è 30 e come batch size si è scelto 256"
      ],
      "metadata": {
        "id": "ANiCiFDeObsp"
      }
    },
    {
      "cell_type": "code",
      "source": [
        "opt = tf.keras.optimizers.Adam(learning_rate=0.0089)\n",
        "autoencoder.compile(optimizer=opt, loss='mse') #(adam, RMSprop, Adamax) - mse"
      ],
      "metadata": {
        "id": "SaOT85jPOH5N"
      },
      "execution_count": 92,
      "outputs": []
    },
    {
      "cell_type": "markdown",
      "source": [
        "Il primo parametro rappresenta l'input del modello mentre il secondo il target, specificando i primi due paramentri (x e y) uguali, si forza il modello a cercare di ricostruire i valori in ingresso.\n",
        "Viene inoltre specificato un validation_split dell'1% così da poter monitorare la validation loss durante la fase di training"
      ],
      "metadata": {
        "id": "ery0mpr3OkHl"
      }
    },
    {
      "cell_type": "code",
      "source": [
        "autoencoder_filename = 'autoencoder.h5'\n",
        "use_pretrained = True\n",
        "\n",
        "if(use_pretrained):\n",
        "  _autoencoder = keras_load_model(autoencoder_filename)\n",
        "else:\n",
        "  early_stop = EarlyStopping(monitor='val_loss', mode='min', verbose=1, patience=35)\n",
        "  mc = ModelCheckpoint(base_url + autoencoder_filename, monitor='val_loss', mode='min', save_best_only=True)\n",
        "\n",
        "  autoencoder.fit(\n",
        "          x_train,\n",
        "          x_train,\n",
        "          epochs = 150,\n",
        "          batch_size = 1024,\n",
        "          validation_data = (x_test, x_test),\n",
        "          callbacks=[early_stop, mc],\n",
        "  )\n",
        "  losses = pd.DataFrame(autoencoder.history.history)\n",
        "  losses[['loss']].plot()\n",
        "  losses[['loss','val_loss']].plot()\n",
        "\n"
      ],
      "metadata": {
        "colab": {
          "base_uri": "https://localhost:8080/",
          "height": 1000
        },
        "id": "Vfl-R-sTOkvG",
        "outputId": "bba3a305-eda4-498c-9d2f-dda141d33e92"
      },
      "execution_count": 93,
      "outputs": [
        {
          "output_type": "stream",
          "name": "stdout",
          "text": [
            "Epoch 1/150\n",
            "52/52 [==============================] - 3s 49ms/step - loss: 1546005.0000 - val_loss: 2923.0884\n",
            "Epoch 2/150\n",
            "52/52 [==============================] - 2s 42ms/step - loss: 919.2736 - val_loss: 2068.1636\n",
            "Epoch 3/150\n",
            "52/52 [==============================] - 2s 41ms/step - loss: 591.0915 - val_loss: 144.3832\n",
            "Epoch 4/150\n",
            "52/52 [==============================] - 2s 42ms/step - loss: 645.6205 - val_loss: 56.7073\n",
            "Epoch 5/150\n",
            "52/52 [==============================] - 2s 41ms/step - loss: 575.9176 - val_loss: 11.6962\n",
            "Epoch 6/150\n",
            "52/52 [==============================] - 2s 41ms/step - loss: 120.6275 - val_loss: 71.8078\n",
            "Epoch 7/150\n",
            "52/52 [==============================] - 2s 41ms/step - loss: 142.5480 - val_loss: 39.8080\n",
            "Epoch 8/150\n",
            "52/52 [==============================] - 2s 42ms/step - loss: 16.9044 - val_loss: 0.0637\n",
            "Epoch 9/150\n",
            "52/52 [==============================] - 2s 40ms/step - loss: 119.1473 - val_loss: 9.7923\n",
            "Epoch 10/150\n",
            "52/52 [==============================] - 2s 40ms/step - loss: 1.5802 - val_loss: 0.1075\n",
            "Epoch 11/150\n",
            "52/52 [==============================] - 2s 46ms/step - loss: 0.0423 - val_loss: 0.0355\n",
            "Epoch 12/150\n",
            "52/52 [==============================] - 2s 40ms/step - loss: 87.0054 - val_loss: 21.9150\n",
            "Epoch 13/150\n",
            "52/52 [==============================] - 2s 40ms/step - loss: 5.2089 - val_loss: 0.1933\n",
            "Epoch 14/150\n",
            "52/52 [==============================] - 2s 40ms/step - loss: 1.1310 - val_loss: 0.0369\n",
            "Epoch 15/150\n",
            "52/52 [==============================] - 2s 40ms/step - loss: 826.9481 - val_loss: 332.8909\n",
            "Epoch 16/150\n",
            "52/52 [==============================] - 2s 40ms/step - loss: 1856.6956 - val_loss: 92.2192\n",
            "Epoch 17/150\n",
            "52/52 [==============================] - 2s 40ms/step - loss: 2859.7344 - val_loss: 230.1926\n",
            "Epoch 18/150\n",
            "52/52 [==============================] - 2s 40ms/step - loss: 5750.0786 - val_loss: 121.9626\n",
            "Epoch 19/150\n",
            "52/52 [==============================] - 2s 40ms/step - loss: 299.2322 - val_loss: 0.2290\n",
            "Epoch 20/150\n",
            "52/52 [==============================] - 2s 40ms/step - loss: 3483.7068 - val_loss: 183058.3281\n",
            "Epoch 21/150\n",
            "52/52 [==============================] - 2s 40ms/step - loss: 411767.1875 - val_loss: 1521.6963\n",
            "Epoch 22/150\n",
            "52/52 [==============================] - 2s 39ms/step - loss: 3160.6606 - val_loss: 2806.5000\n",
            "Epoch 23/150\n",
            "52/52 [==============================] - 2s 41ms/step - loss: 6132.6431 - val_loss: 2.6974\n",
            "Epoch 24/150\n",
            "52/52 [==============================] - 2s 40ms/step - loss: 28.9343 - val_loss: 1.9476\n",
            "Epoch 25/150\n",
            "52/52 [==============================] - 2s 41ms/step - loss: 0.4065 - val_loss: 0.0843\n",
            "Epoch 26/150\n",
            "52/52 [==============================] - 2s 40ms/step - loss: 2.7775 - val_loss: 15.5784\n",
            "Epoch 27/150\n",
            "52/52 [==============================] - 2s 40ms/step - loss: 13.6180 - val_loss: 0.1448\n",
            "Epoch 28/150\n",
            "52/52 [==============================] - 2s 41ms/step - loss: 0.0872 - val_loss: 0.0819\n",
            "Epoch 29/150\n",
            "52/52 [==============================] - 2s 40ms/step - loss: 0.0802 - val_loss: 0.0809\n",
            "Epoch 30/150\n",
            "52/52 [==============================] - 2s 40ms/step - loss: 0.0798 - val_loss: 0.0811\n",
            "Epoch 31/150\n",
            "52/52 [==============================] - 2s 43ms/step - loss: 0.0792 - val_loss: 0.0797\n",
            "Epoch 32/150\n",
            "52/52 [==============================] - 2s 41ms/step - loss: 0.0785 - val_loss: 0.0789\n",
            "Epoch 33/150\n",
            "52/52 [==============================] - 2s 41ms/step - loss: 0.0776 - val_loss: 0.0782\n",
            "Epoch 34/150\n",
            "52/52 [==============================] - 2s 40ms/step - loss: 0.0770 - val_loss: 0.0786\n",
            "Epoch 35/150\n",
            "52/52 [==============================] - 2s 40ms/step - loss: 1.9545 - val_loss: 0.8207\n",
            "Epoch 36/150\n",
            "52/52 [==============================] - 2s 40ms/step - loss: 0.1882 - val_loss: 0.0822\n",
            "Epoch 37/150\n",
            "52/52 [==============================] - 2s 41ms/step - loss: 0.0771 - val_loss: 0.0770\n",
            "Epoch 38/150\n",
            "52/52 [==============================] - 2s 40ms/step - loss: 0.0754 - val_loss: 0.0758\n",
            "Epoch 39/150\n",
            "52/52 [==============================] - 2s 41ms/step - loss: 0.0752 - val_loss: 0.0766\n",
            "Epoch 40/150\n",
            "52/52 [==============================] - 2s 40ms/step - loss: 0.0739 - val_loss: 0.0750\n",
            "Epoch 41/150\n",
            "52/52 [==============================] - 2s 40ms/step - loss: 0.0735 - val_loss: 0.0742\n",
            "Epoch 42/150\n",
            "52/52 [==============================] - 2s 41ms/step - loss: 0.0727 - val_loss: 0.0731\n",
            "Epoch 43/150\n",
            "52/52 [==============================] - 2s 40ms/step - loss: 0.0721 - val_loss: 0.0723\n",
            "Epoch 44/150\n",
            "52/52 [==============================] - 2s 40ms/step - loss: 0.0712 - val_loss: 0.0718\n",
            "Epoch 45/150\n",
            "52/52 [==============================] - 2s 40ms/step - loss: 0.0705 - val_loss: 0.0705\n",
            "Epoch 46/150\n",
            "52/52 [==============================] - 2s 40ms/step - loss: 0.0702 - val_loss: 0.0698\n",
            "Epoch 46: early stopping\n"
          ]
        },
        {
          "output_type": "display_data",
          "data": {
            "text/plain": [
              "<Figure size 432x288 with 1 Axes>"
            ],
            "image/png": "[encoded data removed]"
          },
          "metadata": {
            "needs_background": "light"
          }
        },
        {
          "output_type": "display_data",
          "data": {
            "text/plain": [
              "<Figure size 432x288 with 1 Axes>"
            ],
            "image/png": "[encoded data removed]"
          },
          "metadata": {
            "needs_background": "light"
          }
        }
      ]
    },
    {
      "cell_type": "markdown",
      "source": [
        "## Validazione modello"
      ],
      "metadata": {
        "id": "j-wddqE2Z2Y6"
      }
    },
    {
      "cell_type": "code",
      "source": [
        "prediction_errors = []\n",
        "\n",
        "reconstructed = autoencoder.predict(x_test)\n",
        "\n",
        "mse = np.sum(np.power(x_test - reconstructed, 2), axis=1)\n",
        "z_scores = Z_Score(mse)"
      ],
      "metadata": {
        "id": "iPKzPnIB_XMr"
      },
      "execution_count": 94,
      "outputs": []
    },
    {
      "cell_type": "code",
      "source": [
        "threshold_fixed = 2.5\n",
        "error_df_test = pd.DataFrame({'Z_score': z_scores,\n",
        "                        'True_class': y_test})\n",
        "groups = error_df_test.groupby('True_class')\n",
        "fig, ax = plt.subplots()\n",
        "for name, group in groups:\n",
        "    ax.plot(group.index, group.Z_score, marker='o', ms=3.5, linestyle='',\n",
        "            label= \"Dropout\" if name == 1 else \"Normal\")\n",
        "ax.hlines(threshold_fixed, ax.get_xlim()[0], ax.get_xlim()[1], colors=\"r\", zorder=100, label='Threshold')\n",
        "ax.legend()\n",
        "plt.title(\"Z score for different classes\")\n",
        "plt.ylabel(\"z-score\")\n",
        "plt.xlabel(\"Data point index\")\n",
        "plt.show();"
      ],
      "metadata": {
        "colab": {
          "base_uri": "https://localhost:8080/",
          "height": 295
        },
        "id": "VHb6fM2OaaRC",
        "outputId": "07f1db6a-4955-4ad8-8ce9-aabe8fe90380"
      },
      "execution_count": 95,
      "outputs": [
        {
          "output_type": "display_data",
          "data": {
            "text/plain": [
              "<Figure size 432x288 with 1 Axes>"
            ],
            "image/png": "[encoded data removed]"
          },
          "metadata": {
            "needs_background": "light"
          }
        }
      ]
    },
    {
      "cell_type": "code",
      "source": [
        "pred_y = [1 if e > threshold_fixed else 0 for e in error_df_test.Z_score.values]\n",
        "conf_matrix = confusion_matrix(error_df_test.True_class, pred_y)\n",
        "plt.figure(figsize=(6, 6))\n",
        "sns.heatmap(conf_matrix, xticklabels=[\"Normal\",\"Dropout\"], yticklabels=[\"Normal\", \"Dropout\"], annot=True, fmt=\"d\");\n",
        "plt.title(\"Confusion matrix\")\n",
        "plt.ylabel('True class')\n",
        "plt.xlabel('Predicted class')\n",
        "plt.show()"
      ],
      "metadata": {
        "colab": {
          "base_uri": "https://localhost:8080/",
          "height": 404
        },
        "id": "KZurCheTabQT",
        "outputId": "7663c02c-a925-4c7c-91ec-030790f8c765"
      },
      "execution_count": 96,
      "outputs": [
        {
          "output_type": "display_data",
          "data": {
            "text/plain": [
              "<Figure size 432x432 with 2 Axes>"
            ],
            "image/png": "[encoded data removed]"
          },
          "metadata": {
            "needs_background": "light"
          }
        }
      ]
    },
    {
      "cell_type": "code",
      "source": [
        "y_pred = CreateLabelBasedOnZscore(z_scores, threshold_fixed)\n",
        "#print(type(y_test))\n",
        "#y_test.replace(0, -1)\n",
        "precision, recall, f1 = CalculatePrecisionRecallF1Metrics(y_test, y_pred)\n",
        "fpr, tpr, roc_auc = CalculateROCAUCMetrics(y_test, z_scores)\n",
        "precision_curve, recall_curve, average_precision = CalculatePrecisionRecallCurve(y_test, z_scores)\n",
        "n_normal = np.sum(y_test > 0)\n",
        "n_dropout = len(y_test) - n_normal\n",
        "baseline = n_dropout / len(y_test)\n",
        "\n",
        "PlotPrecisionRecallCurve(precision, recall, average_precision, baseline)\n",
        "PlotROCAUC(fpr, tpr, roc_auc)\n",
        "print(classification_report(y_test, y_pred))\n",
        "print(\"Precision: \", precision)"
      ],
      "metadata": {
        "colab": {
          "base_uri": "https://localhost:8080/",
          "height": 415
        },
        "id": "Fcq9VmpoqkLl",
        "outputId": "0ba64dd8-8d17-4341-e0f2-77842d075094"
      },
      "execution_count": 97,
      "outputs": [
        {
          "output_type": "error",
          "ename": "ValueError",
          "evalue": "ignored",
          "traceback": [
            "\u001b[0;31m---------------------------------------------------------------------------\u001b[0m",
            "\u001b[0;31mValueError\u001b[0m                                Traceback (most recent call last)",
            "\u001b[0;32m<ipython-input-97-9030f941f07e>\u001b[0m in \u001b[0;36m<module>\u001b[0;34m()\u001b[0m\n\u001b[1;32m      2\u001b[0m \u001b[0;31m#print(type(y_test))\u001b[0m\u001b[0;34m\u001b[0m\u001b[0;34m\u001b[0m\u001b[0;34m\u001b[0m\u001b[0m\n\u001b[1;32m      3\u001b[0m \u001b[0;31m#y_test.replace(0, -1)\u001b[0m\u001b[0;34m\u001b[0m\u001b[0;34m\u001b[0m\u001b[0;34m\u001b[0m\u001b[0m\n\u001b[0;32m----> 4\u001b[0;31m \u001b[0mprecision\u001b[0m\u001b[0;34m,\u001b[0m \u001b[0mrecall\u001b[0m\u001b[0;34m,\u001b[0m \u001b[0mf1\u001b[0m \u001b[0;34m=\u001b[0m \u001b[0mCalculatePrecisionRecallF1Metrics\u001b[0m\u001b[0;34m(\u001b[0m\u001b[0my_test\u001b[0m\u001b[0;34m,\u001b[0m \u001b[0my_pred\u001b[0m\u001b[0;34m)\u001b[0m\u001b[0;34m\u001b[0m\u001b[0;34m\u001b[0m\u001b[0m\n\u001b[0m\u001b[1;32m      5\u001b[0m \u001b[0mfpr\u001b[0m\u001b[0;34m,\u001b[0m \u001b[0mtpr\u001b[0m\u001b[0;34m,\u001b[0m \u001b[0mroc_auc\u001b[0m \u001b[0;34m=\u001b[0m \u001b[0mCalculateROCAUCMetrics\u001b[0m\u001b[0;34m(\u001b[0m\u001b[0my_test\u001b[0m\u001b[0;34m,\u001b[0m \u001b[0mz_scores\u001b[0m\u001b[0;34m)\u001b[0m\u001b[0;34m\u001b[0m\u001b[0;34m\u001b[0m\u001b[0m\n\u001b[1;32m      6\u001b[0m \u001b[0mprecision_curve\u001b[0m\u001b[0;34m,\u001b[0m \u001b[0mrecall_curve\u001b[0m\u001b[0;34m,\u001b[0m \u001b[0maverage_precision\u001b[0m \u001b[0;34m=\u001b[0m \u001b[0mCalculatePrecisionRecallCurve\u001b[0m\u001b[0;34m(\u001b[0m\u001b[0my_test\u001b[0m\u001b[0;34m,\u001b[0m \u001b[0mz_scores\u001b[0m\u001b[0;34m)\u001b[0m\u001b[0;34m\u001b[0m\u001b[0;34m\u001b[0m\u001b[0m\n",
            "\u001b[0;32m<ipython-input-75-e24273698a22>\u001b[0m in \u001b[0;36mCalculatePrecisionRecallF1Metrics\u001b[0;34m(_abnormal_label, _y_pred)\u001b[0m\n\u001b[1;32m     64\u001b[0m \u001b[0;34m\u001b[0m\u001b[0m\n\u001b[1;32m     65\u001b[0m \u001b[0;32mdef\u001b[0m \u001b[0mCalculatePrecisionRecallF1Metrics\u001b[0m\u001b[0;34m(\u001b[0m\u001b[0m_abnormal_label\u001b[0m\u001b[0;34m,\u001b[0m \u001b[0m_y_pred\u001b[0m\u001b[0;34m)\u001b[0m\u001b[0;34m:\u001b[0m\u001b[0;34m\u001b[0m\u001b[0;34m\u001b[0m\u001b[0m\n\u001b[0;32m---> 66\u001b[0;31m     \u001b[0mprecision\u001b[0m \u001b[0;34m=\u001b[0m \u001b[0mprecision_score\u001b[0m\u001b[0;34m(\u001b[0m\u001b[0m_abnormal_label\u001b[0m\u001b[0;34m,\u001b[0m \u001b[0m_y_pred\u001b[0m\u001b[0;34m)\u001b[0m\u001b[0;34m\u001b[0m\u001b[0;34m\u001b[0m\u001b[0m\n\u001b[0m\u001b[1;32m     67\u001b[0m     \u001b[0mrecall\u001b[0m \u001b[0;34m=\u001b[0m \u001b[0mrecall_score\u001b[0m\u001b[0;34m(\u001b[0m\u001b[0m_abnormal_label\u001b[0m\u001b[0;34m,\u001b[0m \u001b[0m_y_pred\u001b[0m\u001b[0;34m)\u001b[0m\u001b[0;34m\u001b[0m\u001b[0;34m\u001b[0m\u001b[0m\n\u001b[1;32m     68\u001b[0m     \u001b[0mf1\u001b[0m \u001b[0;34m=\u001b[0m \u001b[0mf1_score\u001b[0m\u001b[0;34m(\u001b[0m\u001b[0m_abnormal_label\u001b[0m\u001b[0;34m,\u001b[0m \u001b[0m_y_pred\u001b[0m\u001b[0;34m)\u001b[0m\u001b[0;34m\u001b[0m\u001b[0;34m\u001b[0m\u001b[0m\n",
            "\u001b[0;32m/usr/local/lib/python3.7/dist-packages/sklearn/metrics/_classification.py\u001b[0m in \u001b[0;36mprecision_score\u001b[0;34m(y_true, y_pred, labels, pos_label, average, sample_weight, zero_division)\u001b[0m\n\u001b[1;32m   1763\u001b[0m         \u001b[0mwarn_for\u001b[0m\u001b[0;34m=\u001b[0m\u001b[0;34m(\u001b[0m\u001b[0;34m\"precision\"\u001b[0m\u001b[0;34m,\u001b[0m\u001b[0;34m)\u001b[0m\u001b[0;34m,\u001b[0m\u001b[0;34m\u001b[0m\u001b[0;34m\u001b[0m\u001b[0m\n\u001b[1;32m   1764\u001b[0m         \u001b[0msample_weight\u001b[0m\u001b[0;34m=\u001b[0m\u001b[0msample_weight\u001b[0m\u001b[0;34m,\u001b[0m\u001b[0;34m\u001b[0m\u001b[0;34m\u001b[0m\u001b[0m\n\u001b[0;32m-> 1765\u001b[0;31m         \u001b[0mzero_division\u001b[0m\u001b[0;34m=\u001b[0m\u001b[0mzero_division\u001b[0m\u001b[0;34m,\u001b[0m\u001b[0;34m\u001b[0m\u001b[0;34m\u001b[0m\u001b[0m\n\u001b[0m\u001b[1;32m   1766\u001b[0m     )\n\u001b[1;32m   1767\u001b[0m     \u001b[0;32mreturn\u001b[0m \u001b[0mp\u001b[0m\u001b[0;34m\u001b[0m\u001b[0;34m\u001b[0m\u001b[0m\n",
            "\u001b[0;32m/usr/local/lib/python3.7/dist-packages/sklearn/metrics/_classification.py\u001b[0m in \u001b[0;36mprecision_recall_fscore_support\u001b[0;34m(y_true, y_pred, beta, labels, pos_label, average, warn_for, sample_weight, zero_division)\u001b[0m\n\u001b[1;32m   1542\u001b[0m     \u001b[0;32mif\u001b[0m \u001b[0mbeta\u001b[0m \u001b[0;34m<\u001b[0m \u001b[0;36m0\u001b[0m\u001b[0;34m:\u001b[0m\u001b[0;34m\u001b[0m\u001b[0;34m\u001b[0m\u001b[0m\n\u001b[1;32m   1543\u001b[0m         \u001b[0;32mraise\u001b[0m \u001b[0mValueError\u001b[0m\u001b[0;34m(\u001b[0m\u001b[0;34m\"beta should be >=0 in the F-beta score\"\u001b[0m\u001b[0;34m)\u001b[0m\u001b[0;34m\u001b[0m\u001b[0;34m\u001b[0m\u001b[0m\n\u001b[0;32m-> 1544\u001b[0;31m     \u001b[0mlabels\u001b[0m \u001b[0;34m=\u001b[0m \u001b[0m_check_set_wise_labels\u001b[0m\u001b[0;34m(\u001b[0m\u001b[0my_true\u001b[0m\u001b[0;34m,\u001b[0m \u001b[0my_pred\u001b[0m\u001b[0;34m,\u001b[0m \u001b[0maverage\u001b[0m\u001b[0;34m,\u001b[0m \u001b[0mlabels\u001b[0m\u001b[0;34m,\u001b[0m \u001b[0mpos_label\u001b[0m\u001b[0;34m)\u001b[0m\u001b[0;34m\u001b[0m\u001b[0;34m\u001b[0m\u001b[0m\n\u001b[0m\u001b[1;32m   1545\u001b[0m \u001b[0;34m\u001b[0m\u001b[0m\n\u001b[1;32m   1546\u001b[0m     \u001b[0;31m# Calculate tp_sum, pred_sum, true_sum ###\u001b[0m\u001b[0;34m\u001b[0m\u001b[0;34m\u001b[0m\u001b[0;34m\u001b[0m\u001b[0m\n",
            "\u001b[0;32m/usr/local/lib/python3.7/dist-packages/sklearn/metrics/_classification.py\u001b[0m in \u001b[0;36m_check_set_wise_labels\u001b[0;34m(y_true, y_pred, average, labels, pos_label)\u001b[0m\n\u001b[1;32m   1365\u001b[0m             raise ValueError(\n\u001b[1;32m   1366\u001b[0m                 \u001b[0;34m\"Target is %s but average='binary'. Please \"\u001b[0m\u001b[0;34m\u001b[0m\u001b[0;34m\u001b[0m\u001b[0m\n\u001b[0;32m-> 1367\u001b[0;31m                 \u001b[0;34m\"choose another average setting, one of %r.\"\u001b[0m \u001b[0;34m%\u001b[0m \u001b[0;34m(\u001b[0m\u001b[0my_type\u001b[0m\u001b[0;34m,\u001b[0m \u001b[0maverage_options\u001b[0m\u001b[0;34m)\u001b[0m\u001b[0;34m\u001b[0m\u001b[0;34m\u001b[0m\u001b[0m\n\u001b[0m\u001b[1;32m   1368\u001b[0m             )\n\u001b[1;32m   1369\u001b[0m     \u001b[0;32melif\u001b[0m \u001b[0mpos_label\u001b[0m \u001b[0;32mnot\u001b[0m \u001b[0;32min\u001b[0m \u001b[0;34m(\u001b[0m\u001b[0;32mNone\u001b[0m\u001b[0;34m,\u001b[0m \u001b[0;36m1\u001b[0m\u001b[0;34m)\u001b[0m\u001b[0;34m:\u001b[0m\u001b[0;34m\u001b[0m\u001b[0;34m\u001b[0m\u001b[0m\n",
            "\u001b[0;31mValueError\u001b[0m: Target is multiclass but average='binary'. Please choose another average setting, one of [None, 'micro', 'macro', 'weighted']."
          ]
        }
      ]
    },
    {
      "cell_type": "code",
      "source": [
        ""
      ],
      "metadata": {
        "id": "b-16T5z0C3mK"
      },
      "execution_count": null,
      "outputs": []
    }
  ]
}