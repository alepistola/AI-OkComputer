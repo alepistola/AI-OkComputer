{
  "nbformat": 4,
  "nbformat_minor": 0,
  "metadata": {
    "colab": {
      "name": "dropoutExplain.ipynb",
      "provenance": [],
      "collapsed_sections": [
        "XIs6n04l1mi0"
      ],
      "toc_visible": true
    },
    "kernelspec": {
      "name": "python3",
      "display_name": "Python 3"
    },
    "language_info": {
      "name": "python"
    }
  },
  "cells": [
    {
      "cell_type": "markdown",
      "source": [
        "## Import e funzioni utili"
      ],
      "metadata": {
        "id": "XWgw_m5rkF4o"
      }
    },
    {
      "cell_type": "code",
      "source": [
        "!pip uninstall tensorflow\n",
        "!pip install tensorflow==2.7.0"
      ],
      "metadata": {
        "colab": {
          "base_uri": "https://localhost:8080/",
          "height": 1000
        },
        "id": "RsPmLDj0JtaR",
        "outputId": "33454ec8-ab37-472a-f8ed-4ac11a9ae9a1"
      },
      "execution_count": null,
      "outputs": [
        {
          "output_type": "stream",
          "name": "stdout",
          "text": [
            "Found existing installation: tensorflow 2.8.2+zzzcolab20220527125636\n",
            "Uninstalling tensorflow-2.8.2+zzzcolab20220527125636:\n",
            "  Would remove:\n",
            "    /usr/local/bin/estimator_ckpt_converter\n",
            "    /usr/local/bin/import_pb_to_tensorboard\n",
            "    /usr/local/bin/saved_model_cli\n",
            "    /usr/local/bin/tensorboard\n",
            "    /usr/local/bin/tf_upgrade_v2\n",
            "    /usr/local/bin/tflite_convert\n",
            "    /usr/local/bin/toco\n",
            "    /usr/local/bin/toco_from_protos\n",
            "    /usr/local/lib/python3.7/dist-packages/tensorflow-2.8.2+zzzcolab20220527125636.dist-info/*\n",
            "    /usr/local/lib/python3.7/dist-packages/tensorflow/*\n",
            "Proceed (y/n)? y\n",
            "y\n",
            "  Successfully uninstalled tensorflow-2.8.2+zzzcolab20220527125636\n",
            "Looking in indexes: https://pypi.org/simple, https://us-python.pkg.dev/colab-wheels/public/simple/\n",
            "Collecting tensorflow==2.7.0\n",
            "  Downloading https://us-python.pkg.dev/colab-wheels/public/tensorflow/tensorflow-2.7.0%2Bzzzcolab20220506150900-cp37-cp37m-linux_x86_64.whl\n",
            "\u001b[K     / 665.5 MB 69.6 MB/s\n",
            "\u001b[?25hRequirement already satisfied: six>=1.12.0 in /usr/local/lib/python3.7/dist-packages (from tensorflow==2.7.0) (1.15.0)\n",
            "Requirement already satisfied: h5py>=2.9.0 in /usr/local/lib/python3.7/dist-packages (from tensorflow==2.7.0) (3.1.0)\n",
            "Requirement already satisfied: tensorflow-io-gcs-filesystem>=0.21.0 in /usr/local/lib/python3.7/dist-packages (from tensorflow==2.7.0) (0.26.0)\n",
            "Requirement already satisfied: libclang>=9.0.1 in /usr/local/lib/python3.7/dist-packages (from tensorflow==2.7.0) (14.0.1)\n",
            "Requirement already satisfied: google-pasta>=0.1.1 in /usr/local/lib/python3.7/dist-packages (from tensorflow==2.7.0) (0.2.0)\n",
            "Requirement already satisfied: keras-preprocessing>=1.1.1 in /usr/local/lib/python3.7/dist-packages (from tensorflow==2.7.0) (1.1.2)\n",
            "Collecting gast<0.5.0,>=0.2.1\n",
            "  Downloading gast-0.4.0-py3-none-any.whl (9.8 kB)\n",
            "Requirement already satisfied: flatbuffers<3.0,>=1.12 in /usr/local/lib/python3.7/dist-packages (from tensorflow==2.7.0) (2.0)\n",
            "Requirement already satisfied: opt-einsum>=2.3.2 in /usr/local/lib/python3.7/dist-packages (from tensorflow==2.7.0) (3.3.0)\n",
            "Requirement already satisfied: absl-py>=0.4.0 in /usr/local/lib/python3.7/dist-packages (from tensorflow==2.7.0) (1.1.0)\n",
            "Collecting tensorflow-estimator<2.8,~=2.7.0rc0\n",
            "  Downloading tensorflow_estimator-2.7.0-py2.py3-none-any.whl (463 kB)\n",
            "\u001b[K     |████████████████████████████████| 463 kB 8.5 MB/s \n",
            "\u001b[?25hCollecting keras<2.8,>=2.7.0rc0\n",
            "  Downloading keras-2.7.0-py2.py3-none-any.whl (1.3 MB)\n",
            "\u001b[K     |████████████████████████████████| 1.3 MB 47.8 MB/s \n",
            "\u001b[?25hRequirement already satisfied: termcolor>=1.1.0 in /usr/local/lib/python3.7/dist-packages (from tensorflow==2.7.0) (1.1.0)\n",
            "Requirement already satisfied: typing-extensions>=3.6.6 in /usr/local/lib/python3.7/dist-packages (from tensorflow==2.7.0) (4.1.1)\n",
            "Requirement already satisfied: wheel<1.0,>=0.32.0 in /usr/local/lib/python3.7/dist-packages (from tensorflow==2.7.0) (0.37.1)\n",
            "Requirement already satisfied: wrapt>=1.11.0 in /usr/local/lib/python3.7/dist-packages (from tensorflow==2.7.0) (1.14.1)\n",
            "Requirement already satisfied: numpy>=1.14.5 in /usr/local/lib/python3.7/dist-packages (from tensorflow==2.7.0) (1.21.6)\n",
            "Requirement already satisfied: tensorboard~=2.6 in /usr/local/lib/python3.7/dist-packages (from tensorflow==2.7.0) (2.8.0)\n",
            "Requirement already satisfied: protobuf>=3.9.2 in /usr/local/lib/python3.7/dist-packages (from tensorflow==2.7.0) (3.17.3)\n",
            "Requirement already satisfied: grpcio<2.0,>=1.24.3 in /usr/local/lib/python3.7/dist-packages (from tensorflow==2.7.0) (1.46.3)\n",
            "Requirement already satisfied: astunparse>=1.6.0 in /usr/local/lib/python3.7/dist-packages (from tensorflow==2.7.0) (1.6.3)\n",
            "Requirement already satisfied: cached-property in /usr/local/lib/python3.7/dist-packages (from h5py>=2.9.0->tensorflow==2.7.0) (1.5.2)\n",
            "Requirement already satisfied: werkzeug>=0.11.15 in /usr/local/lib/python3.7/dist-packages (from tensorboard~=2.6->tensorflow==2.7.0) (1.0.1)\n",
            "Requirement already satisfied: google-auth-oauthlib<0.5,>=0.4.1 in /usr/local/lib/python3.7/dist-packages (from tensorboard~=2.6->tensorflow==2.7.0) (0.4.6)\n",
            "Requirement already satisfied: tensorboard-plugin-wit>=1.6.0 in /usr/local/lib/python3.7/dist-packages (from tensorboard~=2.6->tensorflow==2.7.0) (1.8.1)\n",
            "Requirement already satisfied: requests<3,>=2.21.0 in /usr/local/lib/python3.7/dist-packages (from tensorboard~=2.6->tensorflow==2.7.0) (2.23.0)\n",
            "Requirement already satisfied: markdown>=2.6.8 in /usr/local/lib/python3.7/dist-packages (from tensorboard~=2.6->tensorflow==2.7.0) (3.3.7)\n",
            "Requirement already satisfied: setuptools>=41.0.0 in /usr/local/lib/python3.7/dist-packages (from tensorboard~=2.6->tensorflow==2.7.0) (57.4.0)\n",
            "Requirement already satisfied: tensorboard-data-server<0.7.0,>=0.6.0 in /usr/local/lib/python3.7/dist-packages (from tensorboard~=2.6->tensorflow==2.7.0) (0.6.1)\n",
            "Requirement already satisfied: google-auth<3,>=1.6.3 in /usr/local/lib/python3.7/dist-packages (from tensorboard~=2.6->tensorflow==2.7.0) (1.35.0)\n",
            "Requirement already satisfied: rsa<5,>=3.1.4 in /usr/local/lib/python3.7/dist-packages (from google-auth<3,>=1.6.3->tensorboard~=2.6->tensorflow==2.7.0) (4.8)\n",
            "Requirement already satisfied: cachetools<5.0,>=2.0.0 in /usr/local/lib/python3.7/dist-packages (from google-auth<3,>=1.6.3->tensorboard~=2.6->tensorflow==2.7.0) (4.2.4)\n",
            "Requirement already satisfied: pyasn1-modules>=0.2.1 in /usr/local/lib/python3.7/dist-packages (from google-auth<3,>=1.6.3->tensorboard~=2.6->tensorflow==2.7.0) (0.2.8)\n",
            "Requirement already satisfied: requests-oauthlib>=0.7.0 in /usr/local/lib/python3.7/dist-packages (from google-auth-oauthlib<0.5,>=0.4.1->tensorboard~=2.6->tensorflow==2.7.0) (1.3.1)\n",
            "Requirement already satisfied: importlib-metadata>=4.4 in /usr/local/lib/python3.7/dist-packages (from markdown>=2.6.8->tensorboard~=2.6->tensorflow==2.7.0) (4.11.4)\n",
            "Requirement already satisfied: zipp>=0.5 in /usr/local/lib/python3.7/dist-packages (from importlib-metadata>=4.4->markdown>=2.6.8->tensorboard~=2.6->tensorflow==2.7.0) (3.8.0)\n",
            "Requirement already satisfied: pyasn1<0.5.0,>=0.4.6 in /usr/local/lib/python3.7/dist-packages (from pyasn1-modules>=0.2.1->google-auth<3,>=1.6.3->tensorboard~=2.6->tensorflow==2.7.0) (0.4.8)\n",
            "Requirement already satisfied: certifi>=2017.4.17 in /usr/local/lib/python3.7/dist-packages (from requests<3,>=2.21.0->tensorboard~=2.6->tensorflow==2.7.0) (2022.6.15)\n",
            "Requirement already satisfied: chardet<4,>=3.0.2 in /usr/local/lib/python3.7/dist-packages (from requests<3,>=2.21.0->tensorboard~=2.6->tensorflow==2.7.0) (3.0.4)\n",
            "Requirement already satisfied: urllib3!=1.25.0,!=1.25.1,<1.26,>=1.21.1 in /usr/local/lib/python3.7/dist-packages (from requests<3,>=2.21.0->tensorboard~=2.6->tensorflow==2.7.0) (1.24.3)\n",
            "Requirement already satisfied: idna<3,>=2.5 in /usr/local/lib/python3.7/dist-packages (from requests<3,>=2.21.0->tensorboard~=2.6->tensorflow==2.7.0) (2.10)\n",
            "Requirement already satisfied: oauthlib>=3.0.0 in /usr/local/lib/python3.7/dist-packages (from requests-oauthlib>=0.7.0->google-auth-oauthlib<0.5,>=0.4.1->tensorboard~=2.6->tensorflow==2.7.0) (3.2.0)\n",
            "Installing collected packages: tensorflow-estimator, keras, gast, tensorflow\n",
            "  Attempting uninstall: tensorflow-estimator\n",
            "    Found existing installation: tensorflow-estimator 2.8.0\n",
            "    Uninstalling tensorflow-estimator-2.8.0:\n",
            "      Successfully uninstalled tensorflow-estimator-2.8.0\n",
            "  Attempting uninstall: keras\n",
            "    Found existing installation: keras 2.8.0\n",
            "    Uninstalling keras-2.8.0:\n",
            "      Successfully uninstalled keras-2.8.0\n",
            "  Attempting uninstall: gast\n",
            "    Found existing installation: gast 0.5.3\n",
            "    Uninstalling gast-0.5.3:\n",
            "      Successfully uninstalled gast-0.5.3\n",
            "Successfully installed gast-0.4.0 keras-2.7.0 tensorflow-2.7.0+zzzcolab20220506150900 tensorflow-estimator-2.7.0\n"
          ]
        },
        {
          "output_type": "display_data",
          "data": {
            "application/vnd.colab-display-data+json": {
              "pip_warning": {
                "packages": [
                  "gast",
                  "keras",
                  "tensorflow"
                ]
              }
            }
          },
          "metadata": {}
        }
      ]
    },
    {
      "cell_type": "code",
      "source": [
        "import pandas as pd\n",
        "import numpy as np\n",
        "import matplotlib\n",
        "import matplotlib.pyplot as plt\n",
        "import seaborn as sns \n",
        "from google.colab import drive\n",
        "from sklearn.preprocessing import MinMaxScaler\n",
        "import sklearn\n",
        "from sklearn import svm\n",
        "from sklearn import metrics\n",
        "from sklearn.metrics import classification_report, confusion_matrix, ConfusionMatrixDisplay\n",
        "import joblib\n",
        "import tensorflow as tf\n",
        "from tensorflow.keras.callbacks import EarlyStopping\n",
        "from tensorflow.keras.models import Sequential, Model\n",
        "from tensorflow.keras.layers import Dense, Activation, Input, Dropout\n",
        "from tensorflow.keras.models import load_model\n",
        "\n",
        "local = False\n",
        "\n",
        "LOCAL_URL = \"dropoutData/\"\n",
        "CLOUD_URL = \"/content/drive/My Drive/dataset/Dropout/\"\n",
        "\n",
        "base_url = \"\"\n",
        "\n",
        "if(local):\n",
        "  base_url = LOCAL_URL\n",
        "else:\n",
        "  base_url = CLOUD_URL\n",
        "\n",
        "\n",
        "def print_missing_values(dt):\n",
        "  pd.options.mode.use_inf_as_na = True\n",
        "  for col in dt.columns:\n",
        "    na = int(dt[col].isna().sum())\n",
        "    print(\"Column '\" + col + \"' has \" + str(na) + \" missing values\")\n",
        "\n",
        "def print_columns_len(dt):\n",
        "  for col in dt.columns:\n",
        "    print(\"column '\" + col + \"' has \" + str(len(dt[col])) + \" values\")\n",
        "\n",
        "def save_model(model, filename):\n",
        "  joblib.dump(model, base_url + filename)\n",
        "\n",
        "def load_model(filename):\n",
        "  return joblib.load(base_url + filename)\n",
        "\n",
        "def print_classification_report_n_mconfusion(y_pred, y_true):\n",
        "  print(classification_report(y_pred, y_true))\n",
        "  cm = confusion_matrix(y_test, y_pred) \n",
        "  disp = ConfusionMatrixDisplay(confusion_matrix=cm)\n",
        "  disp.plot()\n",
        "  plt.show()\n",
        "\n",
        "def SquareErrorDataPoints(_input, _output):\n",
        "    #input = np.squeeze(_input, axis=0)\n",
        "    #output = np.squeeze(_output, axis=0)\n",
        "    # Caculate error\n",
        "    error = np.square(_input - _output)\n",
        "    #error = np.sum(error)\n",
        "    return error\n",
        "\n",
        "# nr. of standard deviation times the sample is far from the std\n",
        "def Z_Score(_error):\n",
        "    mu = np.nanmean(_error)\n",
        "    gamma = np.nanstd(_error)\n",
        "    zscore = (_error - mu)/gamma\n",
        "    return zscore"
      ],
      "metadata": {
        "id": "9EcOy6JBkA12"
      },
      "execution_count": null,
      "outputs": []
    },
    {
      "cell_type": "markdown",
      "source": [
        "# DATA PREPROCESSING"
      ],
      "metadata": {
        "id": "XIs6n04l1mi0"
      }
    },
    {
      "cell_type": "markdown",
      "source": [
        "## Acquisizione dati"
      ],
      "metadata": {
        "id": "jc9FfbFEkfJH"
      }
    },
    {
      "cell_type": "code",
      "source": [
        "if(not local):\n",
        "  drive.mount('/content/drive')\n",
        "\n",
        "df = pd.read_excel(base_url + 'stud_2016_2018.xlsx')\n",
        "df_esami = pd.read_excel(base_url + 'esami_2016_2018.xlsx')\n",
        "df.head()"
      ],
      "metadata": {
        "colab": {
          "base_uri": "https://localhost:8080/",
          "height": 235
        },
        "id": "YBzEcU7ekQeU",
        "outputId": "66d2d09d-9537-41bd-ea36-eac4fb224b37"
      },
      "execution_count": null,
      "outputs": [
        {
          "output_type": "error",
          "ename": "NameError",
          "evalue": "ignored",
          "traceback": [
            "\u001b[0;31m---------------------------------------------------------------------------\u001b[0m",
            "\u001b[0;31mNameError\u001b[0m                                 Traceback (most recent call last)",
            "\u001b[0;32m<ipython-input-1-acd3f1b71a5d>\u001b[0m in \u001b[0;36m<module>\u001b[0;34m()\u001b[0m\n\u001b[0;32m----> 1\u001b[0;31m \u001b[0;32mif\u001b[0m\u001b[0;34m(\u001b[0m\u001b[0;32mnot\u001b[0m \u001b[0mlocal\u001b[0m\u001b[0;34m)\u001b[0m\u001b[0;34m:\u001b[0m\u001b[0;34m\u001b[0m\u001b[0;34m\u001b[0m\u001b[0m\n\u001b[0m\u001b[1;32m      2\u001b[0m   \u001b[0mdrive\u001b[0m\u001b[0;34m.\u001b[0m\u001b[0mmount\u001b[0m\u001b[0;34m(\u001b[0m\u001b[0;34m'/content/drive'\u001b[0m\u001b[0;34m)\u001b[0m\u001b[0;34m\u001b[0m\u001b[0;34m\u001b[0m\u001b[0m\n\u001b[1;32m      3\u001b[0m \u001b[0;34m\u001b[0m\u001b[0m\n\u001b[1;32m      4\u001b[0m \u001b[0mdf\u001b[0m \u001b[0;34m=\u001b[0m \u001b[0mpd\u001b[0m\u001b[0;34m.\u001b[0m\u001b[0mread_excel\u001b[0m\u001b[0;34m(\u001b[0m\u001b[0mbase_url\u001b[0m \u001b[0;34m+\u001b[0m \u001b[0;34m'stud_2016_2018.xlsx'\u001b[0m\u001b[0;34m)\u001b[0m\u001b[0;34m\u001b[0m\u001b[0;34m\u001b[0m\u001b[0m\n\u001b[1;32m      5\u001b[0m \u001b[0mdf_esami\u001b[0m \u001b[0;34m=\u001b[0m \u001b[0mpd\u001b[0m\u001b[0;34m.\u001b[0m\u001b[0mread_excel\u001b[0m\u001b[0;34m(\u001b[0m\u001b[0mbase_url\u001b[0m \u001b[0;34m+\u001b[0m \u001b[0;34m'esami_2016_2018.xlsx'\u001b[0m\u001b[0;34m)\u001b[0m\u001b[0;34m\u001b[0m\u001b[0;34m\u001b[0m\u001b[0m\n",
            "\u001b[0;31mNameError\u001b[0m: name 'local' is not defined"
          ]
        }
      ]
    },
    {
      "cell_type": "markdown",
      "source": [
        "## Missing values"
      ],
      "metadata": {
        "id": "XwcS44K7mi3b"
      }
    },
    {
      "cell_type": "markdown",
      "source": [
        "FILLING SU VALORI MANCANTI DI voto_scuola_superiore\n",
        "\n",
        "\n",
        "Per ogni studente senza voto, calcolo la mediana del voto tra l'insieme di studenti che hanno in comune area_geografica_scuola_superiore e Diploma_scuola_superiore"
      ],
      "metadata": {
        "id": "lEtc6pwVmwU6"
      }
    },
    {
      "cell_type": "code",
      "source": [
        "voto_scuola_superiore_mean = round(df['voto_scuola_superiore'].mean(), 2)\n",
        "\n",
        "def calculate_mean_vote_with_similar_area_n_diploma(dt, area_scuola, area_residenza, diploma):\n",
        "    if(diploma == 9):\n",
        "        return voto_scuola_superiore_mean\n",
        "    similar_student = dt.loc[(dt['Diploma_scuola_superiore'] == diploma) & ((dt['area_geografica_residenza'] == area_residenza) | (dt['area_geografica_scuolasuperiore'] == area_scuola))]#(dt['area_geografica_residenza'] == area_residenza | dt['area_geografica_scuolasuperiore'] == area_scuola)]\n",
        "    return round(similar_student['voto_scuola_superiore'].mean(), 2)\n",
        "    \n",
        "cacheMap = {\"11\": 81}\n",
        "\n",
        "students_without_vote = df.loc[df['voto_scuola_superiore'].isna()]\n",
        "\n",
        "print(students_without_vote.shape)\n",
        "\n",
        "\n",
        "for index, row in students_without_vote.iterrows():\n",
        "    key = str(row.area_geografica_scuolasuperiore) + str(row.Diploma_scuola_superiore)\n",
        "    if key in cacheMap:\n",
        "        df.loc[index, 'voto_scuola_superiore'] =  cacheMap[key]\n",
        "    else:\n",
        "        median_vote = calculate_mean_vote_with_similar_area_n_diploma(df, row.area_geografica_scuolasuperiore, row.area_geografica_residenza,row.Diploma_scuola_superiore)\n",
        "        df.loc[index, 'voto_scuola_superiore'] = median_vote\n",
        "        cacheMap[key] = median_vote\n",
        "\n",
        "#pd.options.mode.use_inf_as_na = True\n",
        "print(df['voto_scuola_superiore'].isna().sum())"
      ],
      "metadata": {
        "id": "b7dUS5XimkNh"
      },
      "execution_count": null,
      "outputs": []
    },
    {
      "cell_type": "markdown",
      "source": [
        "## Data trasformation"
      ],
      "metadata": {
        "id": "aOGHkPXSn1oO"
      }
    },
    {
      "cell_type": "markdown",
      "source": [
        "Trasformazioni da effettuare nel dataset:\n",
        "\n",
        "\n",
        "*   modifica data di nascita in anno di nascita (int64)\n",
        "*   one hot-econding su (coorte, Diploma_scuola_superiore, area_geografica_scuolasuperiore, area_geografica_residenza)\n",
        "*   filling su voto_scuola_superiore (utilizzando la mediana dei valori dell'intorno calcolato su area_geografica_scuola_superiore e Diploma_scuola_superiore)\n",
        "*   filling Merito_ISEE (la classe_ISEE in questo caso agisce come indicatore di reddito famigliare) a questo punto, si\n",
        "      si potrebbe procedere creando una feature continua, la contribuzione_tasse, che indichi la contribuzione delle tasse,\n",
        "      quindi tutti gli studenti con classe_ISEE (0, 1) avranno contribuzione_tasse pari a 0. L'implementazione sarà congrua\n",
        "      con gli scaglioni delle tasse di unibo nel 2016/2017 - 2017/2018 - 2018/2019\n",
        "*   modifica il tipo di corso con durata_corso -> L: 3, LM: 2, LMCU: 5\n",
        "\n",
        "\n",
        "A questo punto Classe_ISEE è un buon indicatore del reddito familiare e contribuzione_tasse del contributo pagato"
      ],
      "metadata": {
        "id": "OhvNU4Oln6su"
      }
    },
    {
      "cell_type": "code",
      "source": [
        "# ESTRAPOLAZIONE ANNO DI NASCITA - DURATA CORSO - GENERE\n",
        "def get_year(date):\n",
        "    return date.year\n",
        "\n",
        "def get_duration(course_type):\n",
        "    if(course_type == \"L\"):\n",
        "        return 3\n",
        "    elif(course_type == \"LM\"):\n",
        "        return 2\n",
        "    elif(course_type == \"LMCU\"):\n",
        "        return 5\n",
        "    \n",
        "def get_genre(genre):\n",
        "    if(genre == 1):\n",
        "        return 0\n",
        "    else:\n",
        "        return 1\n",
        "\n",
        "df['AnnoNascita'] = df['DataNascita'].apply(get_year)\n",
        "df.drop('DataNascita', axis=1, inplace=True)\n",
        "\n",
        "df['DurataCorso'] = df['TipoCorso'].apply(get_duration)\n",
        "df.drop('TipoCorso', axis=1, inplace=True)\n",
        "\n",
        "df['Genere'] = df['Genere'].apply(get_genre)\n",
        "\n",
        "\n",
        "# FILLING Merito_ISEE\n",
        "                \n",
        "def calculate_contribuzione_tasse(dt):\n",
        "    nrows = dt.shape[0]\n",
        "    for i in range(nrows):\n",
        "        current = dt.iloc[i]\n",
        "        if(current['Coorte'] == 2016):\n",
        "            if(current['Classe_ISEE'] == 0 or current['Classe_ISEE'] == 1) : dt.loc[i, \"Contribuzione_tasse\"] = 1\n",
        "            elif(current['Merito_ISEE'] <= 23000) : dt.loc[i, \"Contribuzione_tasse\"] = 0\n",
        "            elif(current['Merito_ISEE'] <= 28880.63) : dt.loc[i, \"Contribuzione_tasse\"] = 0.5\n",
        "            elif(current['Merito_ISEE'] <= 33371.84) : dt.loc[i, \"Contribuzione_tasse\"] = 0.6\n",
        "            elif(current['Merito_ISEE'] <= 38506.71) : dt.loc[i, \"Contribuzione_tasse\"] = 0.7\n",
        "            elif(current['Merito_ISEE'] <= 44922.89) : dt.loc[i, \"Contribuzione_tasse\"] = 0.8\n",
        "            elif(current['Merito_ISEE'] <= 51337.89) : dt.loc[i, \"Contribuzione_tasse\"] = 0.9\n",
        "            elif(current['Merito_ISEE'] >= 51337.90) : dt.loc[i, \"Contribuzione_tasse\"] = 1\n",
        "        else:\n",
        "            if(current['Classe_ISEE'] == 0 or current['Classe_ISEE'] == 1) : dt.loc[i, \"Contribuzione_tasse\"] = 1\n",
        "            elif(current['Merito_ISEE'] <= 23000) : dt.loc[i, \"Contribuzione_tasse\"] = 0\n",
        "            elif(current['Merito_ISEE'] <= 33000) : dt.loc[i, \"Contribuzione_tasse\"] = 0.5\n",
        "            elif(current['Merito_ISEE'] <= 45000) : dt.loc[i, \"Contribuzione_tasse\"] = 0.7\n",
        "            elif(current['Merito_ISEE'] <= 60000) : dt.loc[i, \"Contribuzione_tasse\"] = 0.8\n",
        "            elif(current['Merito_ISEE'] <= 70000) : dt.loc[i, \"Contribuzione_tasse\"] = 0.9\n",
        "            elif(current['Merito_ISEE'] >= 70001) : dt.loc[i, \"Contribuzione_tasse\"] = 1\n",
        "                \n",
        "calculate_contribuzione_tasse(df)\n",
        "df.drop('Merito_ISEE', axis=1, inplace=True)\n",
        "df.info()"
      ],
      "metadata": {
        "id": "XT9Hz1iUn5O3"
      },
      "execution_count": null,
      "outputs": []
    },
    {
      "cell_type": "markdown",
      "source": [
        "### One-hot-encode"
      ],
      "metadata": {
        "id": "yyinrXCzrY5E"
      }
    },
    {
      "cell_type": "code",
      "source": [
        "def one_hot_encode_n_merge(dt, column, prefix = None):\n",
        "    name = prefix if prefix is not None else column\n",
        "    encoded = pd.get_dummies(dt[column], prefix=name)\n",
        "    return pd.concat([dt, encoded], axis=1)\n",
        "    \n",
        "# ONE HOT ENCODING Coorte\n",
        "df = one_hot_encode_n_merge(df, 'Coorte')\n",
        "df.drop('Coorte', axis=1, inplace=True)\n",
        "\n",
        "# ONE HOT ENCODING Diploma_scuola_superiore\n",
        "df = one_hot_encode_n_merge(df, 'Diploma_scuola_superiore', 'Diploma')\n",
        "df.drop('Diploma_scuola_superiore', axis=1, inplace=True)\n",
        "\n",
        "# ONE HOT ENCODING area_geografica_scuolasuperiore\n",
        "df = one_hot_encode_n_merge(df, 'area_geografica_scuolasuperiore')\n",
        "df.drop('area_geografica_scuolasuperiore', axis=1, inplace=True)\n",
        "\n",
        "# ONE HOT ENCODING area_geografica_residenza\n",
        "df = one_hot_encode_n_merge(df, 'area_geografica_residenza')\n",
        "df.drop('area_geografica_residenza', axis=1, inplace=True)\n",
        "\n",
        "# ONE HOT ENCODING CdS\n",
        "df = one_hot_encode_n_merge(df, 'CdS')\n",
        "df.drop('CdS', axis=1, inplace=True)\n",
        "\n",
        "# ONE HOT ENCODING Ambito\n",
        "df = one_hot_encode_n_merge(df, 'Ambito')\n",
        "df.drop('Ambito', axis=1, inplace=True)\n",
        "\n",
        "# DROP Sede\n",
        "df.drop('Sede', axis=1, inplace=True)\n",
        "\n",
        "# ONE HOT ENCODING Campus\n",
        "df = one_hot_encode_n_merge(df, 'Campus')\n",
        "df.drop('Campus', axis=1, inplace=True)\n",
        "\n",
        "df.info()"
      ],
      "metadata": {
        "id": "BlNlUG5Cq-kl"
      },
      "execution_count": null,
      "outputs": []
    },
    {
      "cell_type": "markdown",
      "source": [
        "## Aggiunta informazioni degli esami al dataset\n",
        "Verranno estrapolate le seguenti informazioni per poi essere aggiunte al dataset degli studenti:\n",
        "- Numero di cfu conseguiti da ogni studente\n",
        "- Media dei voti degli esami\n",
        "\n",
        "Ci sono 910 studenti senza media (oltre i 5587 che non hanno neanche cfu conseguiti, che vengono rimossi), si è optato per riempire la colonna della media voti con la media di tutti gli studenti così da non influire statisticamente"
      ],
      "metadata": {
        "id": "ejJnNaYnsgjg"
      }
    },
    {
      "cell_type": "code",
      "source": [
        "df_esami.info()"
      ],
      "metadata": {
        "id": "SvR4HjcRr4XY"
      },
      "execution_count": null,
      "outputs": []
    },
    {
      "cell_type": "code",
      "source": [
        "media_voti = df_esami.groupby(['ID_Studente']).mean()['Voto_se_numerico']\n",
        "cfu_superati = df_esami.groupby(['ID_Studente']).sum()['CFUsuperati']\n",
        "\n",
        "media_voti = media_voti.fillna(media_voti.mean())\n",
        "\n",
        "dt = pd.merge(df, media_voti, left_on = 'ID_Studente', right_on = 'ID_Studente', how = 'left')\n",
        "dt = pd.merge(dt, cfu_superati, left_on = 'ID_Studente', right_on = 'ID_Studente', how = 'left')\n",
        "dt = dt.rename(columns={\"Voto_se_numerico\": \"media_voto\", \"CFUsuperati\": \"cfu_superati\"})\n",
        "\n",
        "dt.dropna(subset=['media_voto', 'cfu_superati'], axis=0, inplace=True)\n",
        "\n",
        "print_missing_values(dt)\n",
        "print(\"\\n#######################################################\\n\")\n",
        "print_columns_len(dt)"
      ],
      "metadata": {
        "id": "CnOnETTps9n-"
      },
      "execution_count": null,
      "outputs": []
    },
    {
      "cell_type": "markdown",
      "source": [
        "## Normalizzazione dati\n",
        "Scrivi perchè normalizzare e non standardizzare"
      ],
      "metadata": {
        "id": "eeDrK9sIgOuH"
      }
    },
    {
      "cell_type": "code",
      "source": [
        "mmscaler = MinMaxScaler()\n",
        "\n",
        "def scale_n_add_to_dt(dataset, column):\n",
        "  #print(column.shape)]\n",
        "  toScale = dataset[column].to_numpy().reshape(-1, 1)\n",
        "  #print(column.shape)\n",
        "  scaled_column = mmscaler.fit_transform(toScale).squeeze()\n",
        "  #print(scaled_column.shape)\n",
        "  dataset.drop(column, axis=1, inplace=True)\n",
        "  dataset[column] = scaled_column\n",
        "  #.squeeze()\n",
        "  return dataset\n",
        "  #return pd.concat([dataset, pd.Series(scaled_column)], axis=1)\n",
        "\n",
        "dt = scale_n_add_to_dt(dt, 'voto_scuola_superiore')\n",
        "dt = scale_n_add_to_dt(dt, 'media_voto')\n",
        "dt = scale_n_add_to_dt(dt, 'cfu_superati')\n",
        "dt = scale_n_add_to_dt(dt, 'AnnoNascita')\n",
        "dt = scale_n_add_to_dt(dt, 'DurataCorso')\n",
        "dt = scale_n_add_to_dt(dt, 'Classe_ISEE')\n",
        "\n",
        "print_columns_len(dt)\n",
        "dt.info()"
      ],
      "metadata": {
        "id": "pT2yBKd-gYoH"
      },
      "execution_count": null,
      "outputs": []
    },
    {
      "cell_type": "markdown",
      "source": [
        "## Salvataggio su file excel\n"
      ],
      "metadata": {
        "id": "icFB5cpK1BbA"
      }
    },
    {
      "cell_type": "code",
      "source": [
        "dt.to_excel(base_url + 'final_dataset.xlsx')"
      ],
      "metadata": {
        "id": "J5OFap5X0Mm7"
      },
      "execution_count": null,
      "outputs": []
    },
    {
      "cell_type": "markdown",
      "source": [
        "# DATA ACQUISITION"
      ],
      "metadata": {
        "id": "PCfZwIpUVnMv"
      }
    },
    {
      "cell_type": "code",
      "source": [
        "if(not local):\n",
        "  drive.mount('/content/drive')\n",
        "\n",
        "dt = pd.read_excel(base_url + 'final_dataset.xlsx')\n",
        "\n",
        "dropout_ids = dt.loc[(dt['Abbandoni'] > 0)][\"ID_Studente\"]\n",
        "\n",
        "y = dt['Abbandoni']\n",
        "x = dt.drop('Abbandoni', axis=1)\n",
        "\n",
        "x_train, x_test, y_train, y_test = sklearn.model_selection.train_test_split(x, y, test_size=0.15)\n",
        "print(\"X train size: \" + str(x_train.shape))\n",
        "print(\"Y train size: \" + str(y_train.shape))\n",
        "print(\"X test size: \" + str(x_test.shape))\n",
        "print(\"Y test size: \" + str(y_test.shape))"
      ],
      "metadata": {
        "colab": {
          "base_uri": "https://localhost:8080/"
        },
        "id": "b9Fzt6hbVs5D",
        "outputId": "5503a328-6df1-4bf2-f02f-0f8b885d060d"
      },
      "execution_count": null,
      "outputs": [
        {
          "output_type": "stream",
          "name": "stdout",
          "text": [
            "Drive already mounted at /content/drive; to attempt to forcibly remount, call drive.mount(\"/content/drive\", force_remount=True).\n",
            "X train size: (52439, 312)\n",
            "Y train size: (52439,)\n",
            "X test size: (9254, 312)\n",
            "Y test size: (9254,)\n"
          ]
        }
      ]
    },
    {
      "cell_type": "markdown",
      "source": [
        "# SVM"
      ],
      "metadata": {
        "id": "UYNUndvQdp-l"
      }
    },
    {
      "cell_type": "markdown",
      "source": [
        "## Linear SVM"
      ],
      "metadata": {
        "id": "ri2zK7B7dvaU"
      }
    },
    {
      "cell_type": "code",
      "source": [
        "linear_svm_filename = 'linear_svm.sav'\n",
        "use_pretrained = True\n",
        "\n",
        "if(use_pretrained):\n",
        "  _svm = load_model(linear_svm_filename)\n",
        "else:\n",
        "  _svm = svm.SVC(kernel='linear')\n",
        "  _svm.fit(x_train, y_train)\n",
        "  save_model(_svm, linear_svm_filename)\n",
        "\n",
        "y_predict = _svm.predict(x_test)"
      ],
      "metadata": {
        "id": "5pmp6JlrZs-G"
      },
      "execution_count": null,
      "outputs": []
    },
    {
      "cell_type": "markdown",
      "source": [
        "### Metriche di performance"
      ],
      "metadata": {
        "id": "BoBnB3a3elZh"
      }
    },
    {
      "cell_type": "code",
      "source": [
        "print_classification_report_n_mconfusion(y_predict, y_test)"
      ],
      "metadata": {
        "colab": {
          "base_uri": "https://localhost:8080/",
          "height": 435
        },
        "id": "k9k5ppq0fu4v",
        "outputId": "b946f9bd-e261-4829-a438-2efa9c06c062"
      },
      "execution_count": null,
      "outputs": [
        {
          "output_type": "stream",
          "name": "stdout",
          "text": [
            "              precision    recall  f1-score   support\n",
            "\n",
            "           0       0.99      0.96      0.97      9131\n",
            "           1       0.01      0.04      0.02       123\n",
            "\n",
            "    accuracy                           0.94      9254\n",
            "   macro avg       0.50      0.50      0.49      9254\n",
            "weighted avg       0.97      0.94      0.96      9254\n",
            "\n"
          ]
        },
        {
          "output_type": "display_data",
          "data": {
            "text/plain": [
              "<Figure size 432x288 with 2 Axes>"
            ],
            "image/png": "[encoded data removed]"
          },
          "metadata": {
            "needs_background": "light"
          }
        }
      ]
    },
    {
      "cell_type": "markdown",
      "source": [
        "## Weighted Class Linear SVM\n",
        "Viene aumentato il peso della classe 1 (aumentando il focus sulle istanze di tale classe -> ovvero gli abbandoni)"
      ],
      "metadata": {
        "id": "qTSIlXQjonwl"
      }
    },
    {
      "cell_type": "code",
      "source": [
        "filename = 'weighted_class_linear_svm.sav'\n",
        "use_pretrained = True\n",
        "\n",
        "if(use_pretrained):\n",
        "  _svm = load_model(filename)\n",
        "else:\n",
        "  _svm = svm.SVC(kernel='linear', class_weight={1: 10})\n",
        "  _svm.fit(x_train, y_train)\n",
        "  save_model(_svm, filename)\n",
        "\n",
        "y_predict = _svm.predict(x_test)"
      ],
      "metadata": {
        "id": "cZmdWVp2or0E"
      },
      "execution_count": null,
      "outputs": []
    },
    {
      "cell_type": "markdown",
      "source": [
        "### Metriche di performance"
      ],
      "metadata": {
        "id": "6qoMfilNpgbX"
      }
    },
    {
      "cell_type": "code",
      "source": [
        "print_classification_report_n_mconfusion(y_predict, y_test)"
      ],
      "metadata": {
        "colab": {
          "base_uri": "https://localhost:8080/",
          "height": 435
        },
        "id": "HeEtWItPph_Q",
        "outputId": "5697cb0d-0c01-4183-bbb2-16f60527734c"
      },
      "execution_count": null,
      "outputs": [
        {
          "output_type": "stream",
          "name": "stdout",
          "text": [
            "              precision    recall  f1-score   support\n",
            "\n",
            "           0       0.96      0.96      0.96      8861\n",
            "           1       0.03      0.04      0.03       393\n",
            "\n",
            "    accuracy                           0.92      9254\n",
            "   macro avg       0.50      0.50      0.50      9254\n",
            "weighted avg       0.92      0.92      0.92      9254\n",
            "\n"
          ]
        },
        {
          "output_type": "display_data",
          "data": {
            "text/plain": [
              "<Figure size 432x288 with 2 Axes>"
            ],
            "image/png": "[encoded data removed]"
          },
          "metadata": {
            "needs_background": "light"
          }
        }
      ]
    },
    {
      "cell_type": "markdown",
      "source": [
        "## Weighted Samples Linear SVM\n",
        "Vengono pesate maggiormente le singole istanze (vanno quindi prima trovate)"
      ],
      "metadata": {
        "id": "zgj4YFTIJYd4"
      }
    },
    {
      "cell_type": "code",
      "source": [
        "sample_weight = np.ones(len(x_train))\n",
        "for id in dropout_ids:\n",
        "  try:\n",
        "    if(x_train.iloc[id - 1] is not None):\n",
        "      sample_weight[id - 1] = 50\n",
        "  except:\n",
        "    print(\"Id: \" + str(id) + \" not in train test\")\n",
        "    \n",
        "\n",
        "weighted_samples_linear_svm_filename = 'weighted_samples_linear_svm.sav'\n",
        "use_pretrained = True\n",
        "\n",
        "if(use_pretrained):\n",
        "  _svm = load_model(weighted_samples_linear_svm_filename)\n",
        "else:\n",
        "  _svm = svm.SVC(kernel='linear')\n",
        "  _svm.fit(x_train, y_train, sample_weight=sample_weight)\n",
        "  save_model(_svm, weighted_samples_linear_svm_filename)\n",
        "\n",
        "y_predict = _svm.predict(x_test)"
      ],
      "metadata": {
        "id": "aVV3WJHlJkyZ",
        "colab": {
          "base_uri": "https://localhost:8080/"
        },
        "outputId": "ae2608ca-98fd-428e-ad60-16848e884ee9"
      },
      "execution_count": null,
      "outputs": [
        {
          "output_type": "stream",
          "name": "stdout",
          "text": [
            "Id: 52447 not in train test\n",
            "Id: 52514 not in train test\n",
            "Id: 52519 not in train test\n",
            "Id: 52560 not in train test\n",
            "Id: 52573 not in train test\n",
            "Id: 52590 not in train test\n",
            "Id: 52600 not in train test\n",
            "Id: 52605 not in train test\n",
            "Id: 52622 not in train test\n",
            "Id: 52660 not in train test\n",
            "Id: 52691 not in train test\n",
            "Id: 52745 not in train test\n",
            "Id: 52760 not in train test\n",
            "Id: 52773 not in train test\n",
            "Id: 52811 not in train test\n",
            "Id: 52828 not in train test\n",
            "Id: 52844 not in train test\n",
            "Id: 52858 not in train test\n",
            "Id: 52862 not in train test\n",
            "Id: 52864 not in train test\n",
            "Id: 52907 not in train test\n",
            "Id: 52932 not in train test\n",
            "Id: 52934 not in train test\n",
            "Id: 52945 not in train test\n",
            "Id: 52964 not in train test\n",
            "Id: 52999 not in train test\n",
            "Id: 53061 not in train test\n",
            "Id: 53071 not in train test\n",
            "Id: 53076 not in train test\n",
            "Id: 53090 not in train test\n",
            "Id: 53152 not in train test\n",
            "Id: 53196 not in train test\n",
            "Id: 53199 not in train test\n",
            "Id: 53214 not in train test\n",
            "Id: 53247 not in train test\n",
            "Id: 53260 not in train test\n",
            "Id: 53262 not in train test\n",
            "Id: 53266 not in train test\n",
            "Id: 53273 not in train test\n",
            "Id: 53288 not in train test\n",
            "Id: 53291 not in train test\n",
            "Id: 53306 not in train test\n",
            "Id: 53355 not in train test\n",
            "Id: 53375 not in train test\n",
            "Id: 53382 not in train test\n",
            "Id: 53387 not in train test\n",
            "Id: 53392 not in train test\n",
            "Id: 53393 not in train test\n",
            "Id: 53405 not in train test\n",
            "Id: 53453 not in train test\n",
            "Id: 53472 not in train test\n",
            "Id: 53492 not in train test\n",
            "Id: 53538 not in train test\n",
            "Id: 53545 not in train test\n",
            "Id: 53574 not in train test\n",
            "Id: 53576 not in train test\n",
            "Id: 53597 not in train test\n",
            "Id: 53604 not in train test\n",
            "Id: 53606 not in train test\n",
            "Id: 53635 not in train test\n",
            "Id: 53647 not in train test\n",
            "Id: 53652 not in train test\n",
            "Id: 53660 not in train test\n",
            "Id: 53675 not in train test\n",
            "Id: 53739 not in train test\n",
            "Id: 53752 not in train test\n",
            "Id: 53754 not in train test\n",
            "Id: 53795 not in train test\n",
            "Id: 53798 not in train test\n",
            "Id: 53836 not in train test\n",
            "Id: 53838 not in train test\n",
            "Id: 53865 not in train test\n",
            "Id: 53937 not in train test\n",
            "Id: 53964 not in train test\n",
            "Id: 53991 not in train test\n",
            "Id: 54000 not in train test\n",
            "Id: 54037 not in train test\n",
            "Id: 54043 not in train test\n",
            "Id: 54081 not in train test\n",
            "Id: 54082 not in train test\n",
            "Id: 54121 not in train test\n",
            "Id: 54126 not in train test\n",
            "Id: 54129 not in train test\n",
            "Id: 54130 not in train test\n",
            "Id: 54134 not in train test\n",
            "Id: 54141 not in train test\n",
            "Id: 54211 not in train test\n",
            "Id: 54245 not in train test\n",
            "Id: 54248 not in train test\n",
            "Id: 54308 not in train test\n",
            "Id: 54313 not in train test\n",
            "Id: 54322 not in train test\n",
            "Id: 54330 not in train test\n",
            "Id: 54384 not in train test\n",
            "Id: 54434 not in train test\n",
            "Id: 54436 not in train test\n",
            "Id: 54449 not in train test\n",
            "Id: 54465 not in train test\n",
            "Id: 54507 not in train test\n",
            "Id: 54510 not in train test\n",
            "Id: 54541 not in train test\n",
            "Id: 54549 not in train test\n",
            "Id: 54570 not in train test\n",
            "Id: 54584 not in train test\n",
            "Id: 54596 not in train test\n",
            "Id: 54638 not in train test\n",
            "Id: 54648 not in train test\n",
            "Id: 54680 not in train test\n",
            "Id: 54716 not in train test\n",
            "Id: 54720 not in train test\n",
            "Id: 54735 not in train test\n",
            "Id: 54755 not in train test\n",
            "Id: 54798 not in train test\n",
            "Id: 54802 not in train test\n",
            "Id: 54816 not in train test\n",
            "Id: 54855 not in train test\n",
            "Id: 54866 not in train test\n",
            "Id: 54884 not in train test\n",
            "Id: 54894 not in train test\n",
            "Id: 54904 not in train test\n",
            "Id: 54920 not in train test\n",
            "Id: 54934 not in train test\n",
            "Id: 54954 not in train test\n",
            "Id: 54960 not in train test\n",
            "Id: 54972 not in train test\n",
            "Id: 55008 not in train test\n",
            "Id: 55009 not in train test\n",
            "Id: 55013 not in train test\n",
            "Id: 55027 not in train test\n",
            "Id: 55078 not in train test\n",
            "Id: 55134 not in train test\n",
            "Id: 55142 not in train test\n",
            "Id: 55150 not in train test\n",
            "Id: 55164 not in train test\n",
            "Id: 55165 not in train test\n",
            "Id: 55222 not in train test\n",
            "Id: 55232 not in train test\n",
            "Id: 55265 not in train test\n",
            "Id: 55271 not in train test\n",
            "Id: 55276 not in train test\n",
            "Id: 55286 not in train test\n",
            "Id: 55302 not in train test\n",
            "Id: 55315 not in train test\n",
            "Id: 55334 not in train test\n",
            "Id: 55336 not in train test\n",
            "Id: 55343 not in train test\n",
            "Id: 55398 not in train test\n",
            "Id: 55424 not in train test\n",
            "Id: 55437 not in train test\n",
            "Id: 55446 not in train test\n",
            "Id: 55449 not in train test\n",
            "Id: 55452 not in train test\n",
            "Id: 55456 not in train test\n",
            "Id: 55502 not in train test\n",
            "Id: 55545 not in train test\n",
            "Id: 55619 not in train test\n",
            "Id: 55641 not in train test\n",
            "Id: 55646 not in train test\n",
            "Id: 55683 not in train test\n",
            "Id: 55699 not in train test\n",
            "Id: 55700 not in train test\n",
            "Id: 55702 not in train test\n",
            "Id: 55711 not in train test\n",
            "Id: 55729 not in train test\n",
            "Id: 55744 not in train test\n",
            "Id: 55767 not in train test\n",
            "Id: 55769 not in train test\n",
            "Id: 55782 not in train test\n",
            "Id: 55783 not in train test\n",
            "Id: 55799 not in train test\n",
            "Id: 55861 not in train test\n",
            "Id: 55879 not in train test\n",
            "Id: 55883 not in train test\n",
            "Id: 55893 not in train test\n",
            "Id: 55943 not in train test\n",
            "Id: 55944 not in train test\n",
            "Id: 55952 not in train test\n",
            "Id: 55990 not in train test\n",
            "Id: 56038 not in train test\n",
            "Id: 56045 not in train test\n",
            "Id: 56047 not in train test\n",
            "Id: 56075 not in train test\n",
            "Id: 56087 not in train test\n",
            "Id: 56108 not in train test\n",
            "Id: 56125 not in train test\n",
            "Id: 56140 not in train test\n",
            "Id: 56153 not in train test\n",
            "Id: 56168 not in train test\n",
            "Id: 56219 not in train test\n",
            "Id: 56223 not in train test\n",
            "Id: 56239 not in train test\n",
            "Id: 56275 not in train test\n",
            "Id: 56281 not in train test\n",
            "Id: 56292 not in train test\n",
            "Id: 56346 not in train test\n",
            "Id: 56349 not in train test\n",
            "Id: 56351 not in train test\n",
            "Id: 56385 not in train test\n",
            "Id: 56420 not in train test\n",
            "Id: 56444 not in train test\n",
            "Id: 56445 not in train test\n",
            "Id: 56506 not in train test\n",
            "Id: 56549 not in train test\n",
            "Id: 56552 not in train test\n",
            "Id: 56566 not in train test\n",
            "Id: 56626 not in train test\n",
            "Id: 56634 not in train test\n",
            "Id: 56649 not in train test\n",
            "Id: 56650 not in train test\n",
            "Id: 56730 not in train test\n",
            "Id: 56736 not in train test\n",
            "Id: 56744 not in train test\n",
            "Id: 56753 not in train test\n",
            "Id: 56775 not in train test\n",
            "Id: 56816 not in train test\n",
            "Id: 56819 not in train test\n",
            "Id: 56856 not in train test\n",
            "Id: 56863 not in train test\n",
            "Id: 56869 not in train test\n",
            "Id: 56906 not in train test\n",
            "Id: 56940 not in train test\n",
            "Id: 56946 not in train test\n",
            "Id: 56959 not in train test\n",
            "Id: 56967 not in train test\n",
            "Id: 56987 not in train test\n",
            "Id: 56989 not in train test\n",
            "Id: 56993 not in train test\n",
            "Id: 56995 not in train test\n",
            "Id: 57019 not in train test\n",
            "Id: 57052 not in train test\n",
            "Id: 57056 not in train test\n",
            "Id: 57073 not in train test\n",
            "Id: 57080 not in train test\n",
            "Id: 57098 not in train test\n",
            "Id: 57119 not in train test\n",
            "Id: 57128 not in train test\n",
            "Id: 57129 not in train test\n",
            "Id: 57191 not in train test\n",
            "Id: 57203 not in train test\n",
            "Id: 57237 not in train test\n",
            "Id: 57239 not in train test\n",
            "Id: 57254 not in train test\n",
            "Id: 57272 not in train test\n",
            "Id: 57277 not in train test\n",
            "Id: 57283 not in train test\n",
            "Id: 57299 not in train test\n",
            "Id: 57310 not in train test\n",
            "Id: 57375 not in train test\n",
            "Id: 57394 not in train test\n",
            "Id: 57416 not in train test\n",
            "Id: 57435 not in train test\n",
            "Id: 57462 not in train test\n",
            "Id: 57469 not in train test\n",
            "Id: 57529 not in train test\n",
            "Id: 57547 not in train test\n",
            "Id: 57561 not in train test\n",
            "Id: 57586 not in train test\n",
            "Id: 57601 not in train test\n",
            "Id: 57606 not in train test\n",
            "Id: 57621 not in train test\n",
            "Id: 57650 not in train test\n",
            "Id: 57652 not in train test\n",
            "Id: 57674 not in train test\n",
            "Id: 57733 not in train test\n",
            "Id: 57737 not in train test\n",
            "Id: 57755 not in train test\n",
            "Id: 57761 not in train test\n",
            "Id: 57775 not in train test\n",
            "Id: 57792 not in train test\n",
            "Id: 57819 not in train test\n",
            "Id: 57872 not in train test\n",
            "Id: 57884 not in train test\n",
            "Id: 57907 not in train test\n",
            "Id: 57920 not in train test\n",
            "Id: 57928 not in train test\n",
            "Id: 57940 not in train test\n",
            "Id: 57942 not in train test\n",
            "Id: 57949 not in train test\n",
            "Id: 57980 not in train test\n",
            "Id: 58011 not in train test\n",
            "Id: 58025 not in train test\n",
            "Id: 58040 not in train test\n",
            "Id: 58079 not in train test\n",
            "Id: 58082 not in train test\n",
            "Id: 58087 not in train test\n",
            "Id: 58097 not in train test\n",
            "Id: 58187 not in train test\n",
            "Id: 58194 not in train test\n",
            "Id: 58208 not in train test\n",
            "Id: 58222 not in train test\n",
            "Id: 58251 not in train test\n",
            "Id: 58264 not in train test\n",
            "Id: 58270 not in train test\n",
            "Id: 58292 not in train test\n",
            "Id: 58307 not in train test\n",
            "Id: 58332 not in train test\n",
            "Id: 58361 not in train test\n",
            "Id: 58420 not in train test\n",
            "Id: 58426 not in train test\n",
            "Id: 58512 not in train test\n",
            "Id: 58651 not in train test\n",
            "Id: 58683 not in train test\n",
            "Id: 58687 not in train test\n",
            "Id: 58689 not in train test\n",
            "Id: 58705 not in train test\n",
            "Id: 58739 not in train test\n",
            "Id: 58813 not in train test\n",
            "Id: 58817 not in train test\n",
            "Id: 58823 not in train test\n",
            "Id: 58828 not in train test\n",
            "Id: 58925 not in train test\n",
            "Id: 58993 not in train test\n",
            "Id: 59025 not in train test\n",
            "Id: 59051 not in train test\n",
            "Id: 59074 not in train test\n",
            "Id: 59128 not in train test\n",
            "Id: 59166 not in train test\n",
            "Id: 59168 not in train test\n",
            "Id: 59182 not in train test\n",
            "Id: 59186 not in train test\n",
            "Id: 59338 not in train test\n",
            "Id: 59348 not in train test\n",
            "Id: 59354 not in train test\n",
            "Id: 59361 not in train test\n",
            "Id: 59371 not in train test\n",
            "Id: 59382 not in train test\n",
            "Id: 59391 not in train test\n",
            "Id: 59392 not in train test\n",
            "Id: 59439 not in train test\n",
            "Id: 59446 not in train test\n",
            "Id: 59450 not in train test\n",
            "Id: 59458 not in train test\n",
            "Id: 59474 not in train test\n",
            "Id: 59487 not in train test\n",
            "Id: 59508 not in train test\n",
            "Id: 59520 not in train test\n",
            "Id: 59531 not in train test\n",
            "Id: 59554 not in train test\n",
            "Id: 59565 not in train test\n",
            "Id: 59630 not in train test\n",
            "Id: 59642 not in train test\n",
            "Id: 59648 not in train test\n",
            "Id: 59659 not in train test\n",
            "Id: 59675 not in train test\n",
            "Id: 59684 not in train test\n",
            "Id: 59695 not in train test\n",
            "Id: 59733 not in train test\n",
            "Id: 59767 not in train test\n",
            "Id: 59777 not in train test\n",
            "Id: 59818 not in train test\n",
            "Id: 59823 not in train test\n",
            "Id: 59943 not in train test\n",
            "Id: 59997 not in train test\n",
            "Id: 60005 not in train test\n",
            "Id: 60032 not in train test\n",
            "Id: 60040 not in train test\n",
            "Id: 60045 not in train test\n",
            "Id: 60059 not in train test\n",
            "Id: 60070 not in train test\n",
            "Id: 60080 not in train test\n",
            "Id: 60087 not in train test\n",
            "Id: 60100 not in train test\n",
            "Id: 60116 not in train test\n",
            "Id: 60180 not in train test\n",
            "Id: 60218 not in train test\n",
            "Id: 60268 not in train test\n",
            "Id: 60304 not in train test\n",
            "Id: 60348 not in train test\n",
            "Id: 60353 not in train test\n",
            "Id: 60381 not in train test\n",
            "Id: 60432 not in train test\n",
            "Id: 60440 not in train test\n",
            "Id: 60470 not in train test\n",
            "Id: 60538 not in train test\n",
            "Id: 60554 not in train test\n",
            "Id: 60559 not in train test\n",
            "Id: 60563 not in train test\n",
            "Id: 60573 not in train test\n",
            "Id: 60580 not in train test\n",
            "Id: 60585 not in train test\n",
            "Id: 60646 not in train test\n",
            "Id: 60681 not in train test\n",
            "Id: 60700 not in train test\n",
            "Id: 60706 not in train test\n",
            "Id: 60772 not in train test\n",
            "Id: 60778 not in train test\n",
            "Id: 60788 not in train test\n",
            "Id: 60879 not in train test\n",
            "Id: 60936 not in train test\n",
            "Id: 60987 not in train test\n",
            "Id: 60994 not in train test\n",
            "Id: 61007 not in train test\n",
            "Id: 61012 not in train test\n",
            "Id: 61026 not in train test\n",
            "Id: 61047 not in train test\n",
            "Id: 61061 not in train test\n",
            "Id: 61062 not in train test\n",
            "Id: 61073 not in train test\n",
            "Id: 61093 not in train test\n",
            "Id: 61130 not in train test\n",
            "Id: 61195 not in train test\n",
            "Id: 61197 not in train test\n",
            "Id: 61279 not in train test\n",
            "Id: 61285 not in train test\n",
            "Id: 61319 not in train test\n",
            "Id: 61348 not in train test\n",
            "Id: 61369 not in train test\n",
            "Id: 61397 not in train test\n",
            "Id: 61411 not in train test\n",
            "Id: 61420 not in train test\n",
            "Id: 61444 not in train test\n",
            "Id: 61451 not in train test\n",
            "Id: 61453 not in train test\n",
            "Id: 61490 not in train test\n",
            "Id: 61505 not in train test\n",
            "Id: 61509 not in train test\n",
            "Id: 61545 not in train test\n",
            "Id: 61601 not in train test\n",
            "Id: 61603 not in train test\n",
            "Id: 61608 not in train test\n",
            "Id: 61645 not in train test\n",
            "Id: 61655 not in train test\n",
            "Id: 61741 not in train test\n",
            "Id: 61765 not in train test\n",
            "Id: 61768 not in train test\n",
            "Id: 61825 not in train test\n",
            "Id: 61828 not in train test\n",
            "Id: 61847 not in train test\n",
            "Id: 61912 not in train test\n",
            "Id: 61930 not in train test\n",
            "Id: 62020 not in train test\n",
            "Id: 62067 not in train test\n",
            "Id: 62077 not in train test\n",
            "Id: 62108 not in train test\n",
            "Id: 62115 not in train test\n",
            "Id: 62125 not in train test\n",
            "Id: 62141 not in train test\n",
            "Id: 62159 not in train test\n",
            "Id: 62233 not in train test\n",
            "Id: 62239 not in train test\n",
            "Id: 62242 not in train test\n",
            "Id: 62256 not in train test\n",
            "Id: 62275 not in train test\n",
            "Id: 62287 not in train test\n",
            "Id: 62292 not in train test\n",
            "Id: 62314 not in train test\n",
            "Id: 62371 not in train test\n",
            "Id: 62391 not in train test\n",
            "Id: 62409 not in train test\n",
            "Id: 62427 not in train test\n",
            "Id: 62466 not in train test\n",
            "Id: 62593 not in train test\n",
            "Id: 62657 not in train test\n",
            "Id: 62722 not in train test\n",
            "Id: 62728 not in train test\n",
            "Id: 62752 not in train test\n",
            "Id: 62781 not in train test\n",
            "Id: 62825 not in train test\n",
            "Id: 62827 not in train test\n",
            "Id: 62854 not in train test\n",
            "Id: 62906 not in train test\n",
            "Id: 62918 not in train test\n",
            "Id: 62938 not in train test\n",
            "Id: 62950 not in train test\n",
            "Id: 62994 not in train test\n",
            "Id: 63032 not in train test\n",
            "Id: 63044 not in train test\n",
            "Id: 63051 not in train test\n",
            "Id: 63059 not in train test\n",
            "Id: 63068 not in train test\n",
            "Id: 63071 not in train test\n",
            "Id: 63072 not in train test\n",
            "Id: 63079 not in train test\n",
            "Id: 63099 not in train test\n",
            "Id: 63129 not in train test\n",
            "Id: 63141 not in train test\n",
            "Id: 63152 not in train test\n",
            "Id: 63212 not in train test\n",
            "Id: 63232 not in train test\n",
            "Id: 63268 not in train test\n",
            "Id: 63288 not in train test\n",
            "Id: 63289 not in train test\n",
            "Id: 63309 not in train test\n",
            "Id: 63343 not in train test\n",
            "Id: 63357 not in train test\n",
            "Id: 63385 not in train test\n",
            "Id: 63387 not in train test\n",
            "Id: 63403 not in train test\n",
            "Id: 63448 not in train test\n",
            "Id: 63456 not in train test\n",
            "Id: 63481 not in train test\n",
            "Id: 63492 not in train test\n",
            "Id: 63540 not in train test\n",
            "Id: 63563 not in train test\n",
            "Id: 63575 not in train test\n",
            "Id: 63577 not in train test\n",
            "Id: 63587 not in train test\n",
            "Id: 63593 not in train test\n",
            "Id: 63631 not in train test\n",
            "Id: 63724 not in train test\n",
            "Id: 63777 not in train test\n",
            "Id: 63817 not in train test\n",
            "Id: 63828 not in train test\n",
            "Id: 63835 not in train test\n",
            "Id: 63858 not in train test\n",
            "Id: 63883 not in train test\n",
            "Id: 63899 not in train test\n",
            "Id: 63917 not in train test\n",
            "Id: 63961 not in train test\n",
            "Id: 63972 not in train test\n",
            "Id: 63982 not in train test\n",
            "Id: 63995 not in train test\n",
            "Id: 64042 not in train test\n",
            "Id: 64046 not in train test\n",
            "Id: 64047 not in train test\n",
            "Id: 64069 not in train test\n",
            "Id: 64097 not in train test\n",
            "Id: 64101 not in train test\n",
            "Id: 64143 not in train test\n",
            "Id: 64153 not in train test\n",
            "Id: 64159 not in train test\n",
            "Id: 64161 not in train test\n",
            "Id: 64239 not in train test\n",
            "Id: 64265 not in train test\n",
            "Id: 64293 not in train test\n",
            "Id: 64314 not in train test\n",
            "Id: 64322 not in train test\n",
            "Id: 64353 not in train test\n",
            "Id: 64383 not in train test\n",
            "Id: 64454 not in train test\n",
            "Id: 64485 not in train test\n",
            "Id: 64486 not in train test\n",
            "Id: 64610 not in train test\n",
            "Id: 64669 not in train test\n",
            "Id: 64677 not in train test\n",
            "Id: 64733 not in train test\n",
            "Id: 64761 not in train test\n",
            "Id: 64776 not in train test\n",
            "Id: 64827 not in train test\n",
            "Id: 64904 not in train test\n",
            "Id: 64957 not in train test\n",
            "Id: 65025 not in train test\n",
            "Id: 65072 not in train test\n",
            "Id: 65076 not in train test\n",
            "Id: 65083 not in train test\n",
            "Id: 65142 not in train test\n",
            "Id: 65159 not in train test\n",
            "Id: 65190 not in train test\n",
            "Id: 65249 not in train test\n",
            "Id: 65270 not in train test\n",
            "Id: 65275 not in train test\n",
            "Id: 65288 not in train test\n",
            "Id: 65311 not in train test\n",
            "Id: 65368 not in train test\n",
            "Id: 65401 not in train test\n",
            "Id: 65402 not in train test\n",
            "Id: 65438 not in train test\n",
            "Id: 65458 not in train test\n",
            "Id: 65470 not in train test\n",
            "Id: 65493 not in train test\n",
            "Id: 65499 not in train test\n",
            "Id: 65531 not in train test\n",
            "Id: 65536 not in train test\n",
            "Id: 65545 not in train test\n",
            "Id: 65563 not in train test\n",
            "Id: 65564 not in train test\n",
            "Id: 65580 not in train test\n",
            "Id: 65600 not in train test\n",
            "Id: 65663 not in train test\n",
            "Id: 65666 not in train test\n",
            "Id: 65732 not in train test\n",
            "Id: 65769 not in train test\n",
            "Id: 65771 not in train test\n",
            "Id: 65802 not in train test\n",
            "Id: 65825 not in train test\n",
            "Id: 65831 not in train test\n",
            "Id: 65859 not in train test\n",
            "Id: 65874 not in train test\n",
            "Id: 65963 not in train test\n",
            "Id: 65995 not in train test\n",
            "Id: 66007 not in train test\n",
            "Id: 66103 not in train test\n",
            "Id: 66106 not in train test\n",
            "Id: 66109 not in train test\n",
            "Id: 66112 not in train test\n",
            "Id: 66158 not in train test\n",
            "Id: 66194 not in train test\n",
            "Id: 66208 not in train test\n",
            "Id: 66216 not in train test\n",
            "Id: 66236 not in train test\n",
            "Id: 66262 not in train test\n",
            "Id: 66311 not in train test\n",
            "Id: 66323 not in train test\n",
            "Id: 66375 not in train test\n",
            "Id: 66376 not in train test\n",
            "Id: 66395 not in train test\n",
            "Id: 66413 not in train test\n",
            "Id: 66420 not in train test\n",
            "Id: 66457 not in train test\n",
            "Id: 66488 not in train test\n",
            "Id: 66494 not in train test\n",
            "Id: 66531 not in train test\n",
            "Id: 66544 not in train test\n",
            "Id: 66547 not in train test\n",
            "Id: 66584 not in train test\n",
            "Id: 66593 not in train test\n",
            "Id: 66627 not in train test\n",
            "Id: 66629 not in train test\n",
            "Id: 66663 not in train test\n",
            "Id: 66664 not in train test\n",
            "Id: 66675 not in train test\n",
            "Id: 66690 not in train test\n",
            "Id: 66702 not in train test\n",
            "Id: 66714 not in train test\n",
            "Id: 66772 not in train test\n",
            "Id: 66790 not in train test\n",
            "Id: 66817 not in train test\n",
            "Id: 66834 not in train test\n",
            "Id: 66847 not in train test\n",
            "Id: 66875 not in train test\n",
            "Id: 66877 not in train test\n",
            "Id: 66880 not in train test\n",
            "Id: 66910 not in train test\n",
            "Id: 66923 not in train test\n",
            "Id: 66951 not in train test\n",
            "Id: 66977 not in train test\n",
            "Id: 66994 not in train test\n",
            "Id: 67003 not in train test\n",
            "Id: 67011 not in train test\n",
            "Id: 67026 not in train test\n",
            "Id: 67106 not in train test\n",
            "Id: 67121 not in train test\n",
            "Id: 67129 not in train test\n",
            "Id: 67167 not in train test\n",
            "Id: 67187 not in train test\n",
            "Id: 67197 not in train test\n",
            "Id: 67201 not in train test\n",
            "Id: 67214 not in train test\n",
            "Id: 67221 not in train test\n",
            "Id: 67254 not in train test\n",
            "Id: 67272 not in train test\n"
          ]
        }
      ]
    },
    {
      "cell_type": "markdown",
      "source": [
        "### Metriche di performance"
      ],
      "metadata": {
        "id": "ge2UwVlPho35"
      }
    },
    {
      "cell_type": "code",
      "source": [
        "print_classification_report_n_mconfusion(y_predict, y_test)"
      ],
      "metadata": {
        "id": "UfScWCrtPH52",
        "colab": {
          "base_uri": "https://localhost:8080/",
          "height": 435
        },
        "outputId": "42e71eb2-df8c-4d2b-86d6-5ceb893dacd8"
      },
      "execution_count": null,
      "outputs": [
        {
          "output_type": "stream",
          "name": "stdout",
          "text": [
            "              precision    recall  f1-score   support\n",
            "\n",
            "           0       0.99      0.96      0.97      9117\n",
            "           1       0.01      0.04      0.02       137\n",
            "\n",
            "    accuracy                           0.94      9254\n",
            "   macro avg       0.50      0.50      0.50      9254\n",
            "weighted avg       0.97      0.94      0.96      9254\n",
            "\n"
          ]
        },
        {
          "output_type": "display_data",
          "data": {
            "text/plain": [
              "<Figure size 432x288 with 2 Axes>"
            ],
            "image/png": "[encoded data removed]"
          },
          "metadata": {
            "needs_background": "light"
          }
        }
      ]
    },
    {
      "cell_type": "markdown",
      "source": [
        "# ANN Basic autoencoder"
      ],
      "metadata": {
        "id": "sMUrvA_RH-X8"
      }
    },
    {
      "cell_type": "markdown",
      "source": [
        "## Costruzione modello\n",
        "\n",
        "Per la realizzazione del modello si è scelto di utilizzare la libreria [Keras](https://keras.io/api/), essendo sviluppata logicamente sopra Tensorflow, ovvero Keras utlizza Tensorflow come back-end engine, è di facile utilizzo così da non rendere la curva di apprendimento del framework esageratamente alta ed infine essendo il framework numero uno per quanto riguarda l'ambito machine learning presenta una vasta comunity e un'API ben documentata.\n",
        "\n",
        "Keras espone un'API di alto livello con cui è possibile costruire reti neurali arbitrariamente complesse senza dover conoscere a fondo i meccanismi di funzionamento e le strutture dati adoperate da Tensorflow.\n",
        "\n",
        "Il modello è composto da 2 hidden layers composti da 1024 neuroni. Il primo layer ha come funzione di attivazione la funzione ReLU mentre il secondo la funzione sigmoid (sigmoide).\n",
        "\n",
        "Attraverso la funzione Sequential() si crea un modello in grado di raggruppare una sequenza lineare di layer.\n",
        "Con il metodo add() si possono aggiungere diversi tipi di layer, in questo caso tutti i layer sono di tipo *Dense* ovvero fortemente connessi con il layer inferiore e superiore.\n",
        "\n"
      ],
      "metadata": {
        "id": "wQU-dMwnIEpL"
      }
    },
    {
      "cell_type": "code",
      "source": [
        "input_n_output_dim = x_train.shape[1] #312\n",
        "\n",
        "# nr. di neuroni nell'encoding layer\n",
        "encoding_dim = 64\n",
        "encoding_dim_1 = 128\n",
        "encoding_dim_2 = 256\n",
        "\n",
        "# modern way of declaring the model\n",
        "autoencoder = Sequential()\n",
        "autoencoder.add(Input(shape=(input_n_output_dim,)))\n",
        "autoencoder.add(Dense(encoding_dim_2, activation='relu'))\n",
        "autoencoder.add(Dense(encoding_dim_1, activation='relu'))\n",
        "autoencoder.add(Dense(encoding_dim, activation='relu'))\n",
        "#autoencoder.add(Dropout(0.10))\n",
        "autoencoder.add(Dense(encoding_dim_1, activation='relu'))\n",
        "#autoencoder.add(Dropout(0.15))\n",
        "autoencoder.add(Dense(encoding_dim_2, activation='relu'))\n",
        "#autoencoder.add(Dropout(0.10))\n",
        "autoencoder.add(Dense(input_n_output_dim, activation='relu'))\n",
        "\n",
        "autoencoder.summary()"
      ],
      "metadata": {
        "id": "1QJw42ujhrJ3",
        "colab": {
          "base_uri": "https://localhost:8080/"
        },
        "outputId": "5868ebde-d8ff-48be-c70e-5090bb5a0c57"
      },
      "execution_count": null,
      "outputs": [
        {
          "output_type": "stream",
          "name": "stdout",
          "text": [
            "Model: \"sequential_11\"\n",
            "_________________________________________________________________\n",
            " Layer (type)                Output Shape              Param #   \n",
            "=================================================================\n",
            " dense_66 (Dense)            (None, 256)               80128     \n",
            "                                                                 \n",
            " dense_67 (Dense)            (None, 128)               32896     \n",
            "                                                                 \n",
            " dense_68 (Dense)            (None, 64)                8256      \n",
            "                                                                 \n",
            " dense_69 (Dense)            (None, 128)               8320      \n",
            "                                                                 \n",
            " dense_70 (Dense)            (None, 256)               33024     \n",
            "                                                                 \n",
            " dense_71 (Dense)            (None, 312)               80184     \n",
            "                                                                 \n",
            "=================================================================\n",
            "Total params: 242,808\n",
            "Trainable params: 242,808\n",
            "Non-trainable params: 0\n",
            "_________________________________________________________________\n"
          ]
        }
      ]
    },
    {
      "cell_type": "markdown",
      "source": [
        "## Addestramento\n",
        "\n",
        "Il modello viene addestrato usando come funzione di costo la *mse* (mean squared error) e come ottimizzatore si è scelto di utilizzare Adam (Adaptive moment estimation).\n",
        "Il numero delle epoche è 30 e come batch size si è scelto 256"
      ],
      "metadata": {
        "id": "ANiCiFDeObsp"
      }
    },
    {
      "cell_type": "code",
      "source": [
        "opt = tf.keras.optimizers.Adam(learning_rate=0.0080)\n",
        "autoencoder.compile(optimizer=opt, loss='mse') #(adam, RMSprop, Adamax) - mse"
      ],
      "metadata": {
        "id": "SaOT85jPOH5N"
      },
      "execution_count": null,
      "outputs": []
    },
    {
      "cell_type": "markdown",
      "source": [
        "Il primo parametro rappresenta l'input del modello mentre il secondo il target, specificando i primi due paramentri (x e y) uguali, si forza il modello a cercare di ricostruire i valori in ingresso.\n",
        "Viene inoltre specificato un validation_split dell'1% così da poter monitorare la validation loss durante la fase di training"
      ],
      "metadata": {
        "id": "ery0mpr3OkHl"
      }
    },
    {
      "cell_type": "code",
      "source": [
        "early_stop = EarlyStopping(monitor='val_loss', mode='min', verbose=1, patience=35)\n",
        "\n",
        "autoencoder.fit(\n",
        "        x_train,\n",
        "        x_train,\n",
        "        epochs = 150,\n",
        "        batch_size = 1024,\n",
        "        validation_data = (x_test, x_test),\n",
        "        callbacks=[early_stop],\n",
        ")\n",
        "\n",
        "losses = pd.DataFrame(autoencoder.history.history)\n",
        "losses[['loss']].plot()\n",
        "losses[['loss','val_loss']].plot()"
      ],
      "metadata": {
        "colab": {
          "base_uri": "https://localhost:8080/",
          "height": 1000
        },
        "id": "Vfl-R-sTOkvG",
        "outputId": "fd00a77e-45ba-4c4e-b7ed-e9cb8e841d2f"
      },
      "execution_count": null,
      "outputs": [
        {
          "output_type": "stream",
          "name": "stdout",
          "text": [
            "Epoch 1/150\n",
            "52/52 [==============================] - 5s 71ms/step - loss: 139775.5938 - val_loss: 4915.1016\n",
            "Epoch 2/150\n",
            "52/52 [==============================] - 3s 64ms/step - loss: 1680.0118 - val_loss: 2.3881\n",
            "Epoch 3/150\n",
            "52/52 [==============================] - 3s 65ms/step - loss: 4.3059 - val_loss: 0.2349\n",
            "Epoch 4/150\n",
            "52/52 [==============================] - 2s 40ms/step - loss: 104.5313 - val_loss: 19.1599\n",
            "Epoch 5/150\n",
            "52/52 [==============================] - 2s 39ms/step - loss: 14.1482 - val_loss: 155.7565\n",
            "Epoch 6/150\n",
            "52/52 [==============================] - 2s 39ms/step - loss: 35.8334 - val_loss: 0.0753\n",
            "Epoch 7/150\n",
            "52/52 [==============================] - 2s 39ms/step - loss: 132.3894 - val_loss: 157.6544\n",
            "Epoch 8/150\n",
            "52/52 [==============================] - 2s 38ms/step - loss: 22.4705 - val_loss: 0.1425\n",
            "Epoch 9/150\n",
            "52/52 [==============================] - 2s 39ms/step - loss: 0.4023 - val_loss: 0.1002\n",
            "Epoch 10/150\n",
            "52/52 [==============================] - 2s 39ms/step - loss: 0.1145 - val_loss: 0.0708\n",
            "Epoch 11/150\n",
            "52/52 [==============================] - 2s 38ms/step - loss: 0.0698 - val_loss: 0.0701\n",
            "Epoch 12/150\n",
            "52/52 [==============================] - 2s 42ms/step - loss: 1.2759 - val_loss: 0.2468\n",
            "Epoch 13/150\n",
            "52/52 [==============================] - 2s 38ms/step - loss: 0.0950 - val_loss: 0.0690\n",
            "Epoch 14/150\n",
            "52/52 [==============================] - 2s 38ms/step - loss: 0.0686 - val_loss: 0.0692\n",
            "Epoch 15/150\n",
            "52/52 [==============================] - 2s 38ms/step - loss: 2192.0688 - val_loss: 2080.0730\n",
            "Epoch 16/150\n",
            "52/52 [==============================] - 2s 39ms/step - loss: 2220.1025 - val_loss: 306.0697\n",
            "Epoch 17/150\n",
            "52/52 [==============================] - 2s 42ms/step - loss: 732.7013 - val_loss: 8.9991\n",
            "Epoch 18/150\n",
            "52/52 [==============================] - 2s 39ms/step - loss: 652.7947 - val_loss: 923.5743\n",
            "Epoch 19/150\n",
            "52/52 [==============================] - 2s 38ms/step - loss: 4485.0703 - val_loss: 890.3842\n",
            "Epoch 20/150\n",
            "52/52 [==============================] - 2s 39ms/step - loss: 585.6487 - val_loss: 5.4415\n",
            "Epoch 21/150\n",
            "52/52 [==============================] - 2s 38ms/step - loss: 2.2224 - val_loss: 0.1052\n",
            "Epoch 22/150\n",
            "52/52 [==============================] - 2s 39ms/step - loss: 0.0816 - val_loss: 0.0961\n",
            "Epoch 23/150\n",
            "52/52 [==============================] - 2s 39ms/step - loss: 0.0699 - val_loss: 0.0665\n",
            "Epoch 24/150\n",
            "52/52 [==============================] - 2s 39ms/step - loss: 0.0656 - val_loss: 0.0698\n",
            "Epoch 25/150\n",
            "52/52 [==============================] - 2s 39ms/step - loss: 1.9629 - val_loss: 0.9795\n",
            "Epoch 26/150\n",
            "52/52 [==============================] - 2s 39ms/step - loss: 0.2793 - val_loss: 0.0796\n",
            "Epoch 27/150\n",
            "52/52 [==============================] - 2s 39ms/step - loss: 0.0669 - val_loss: 0.0654\n",
            "Epoch 28/150\n",
            "52/52 [==============================] - 2s 39ms/step - loss: 270.3800 - val_loss: 6944.9521\n",
            "Epoch 29/150\n",
            "52/52 [==============================] - 2s 38ms/step - loss: 1546.5869 - val_loss: 54.7808\n",
            "Epoch 30/150\n",
            "52/52 [==============================] - 2s 39ms/step - loss: 6.8720 - val_loss: 0.1893\n",
            "Epoch 31/150\n",
            "52/52 [==============================] - 2s 38ms/step - loss: 0.0775 - val_loss: 0.0607\n",
            "Epoch 32/150\n",
            "52/52 [==============================] - 2s 38ms/step - loss: 0.0605 - val_loss: 0.0607\n",
            "Epoch 33/150\n",
            "52/52 [==============================] - 2s 38ms/step - loss: 0.0608 - val_loss: 0.0594\n",
            "Epoch 34/150\n",
            "52/52 [==============================] - 2s 38ms/step - loss: 0.0603 - val_loss: 0.0588\n",
            "Epoch 35/150\n",
            "52/52 [==============================] - 2s 38ms/step - loss: 0.0628 - val_loss: 0.1341\n",
            "Epoch 36/150\n",
            "52/52 [==============================] - 2s 39ms/step - loss: 1.0981 - val_loss: 31.1607\n",
            "Epoch 37/150\n",
            "52/52 [==============================] - 2s 39ms/step - loss: 5916.6377 - val_loss: 578.7526\n",
            "Epoch 38/150\n",
            "52/52 [==============================] - 2s 39ms/step - loss: 1184.0748 - val_loss: 285.2069\n",
            "Epoch 39/150\n",
            "52/52 [==============================] - 2s 38ms/step - loss: 200.8906 - val_loss: 14.6141\n",
            "Epoch 40/150\n",
            "52/52 [==============================] - 2s 38ms/step - loss: 2.6219 - val_loss: 0.9496\n",
            "Epoch 41/150\n",
            "52/52 [==============================] - 2s 38ms/step - loss: 1.9422 - val_loss: 66.2897\n",
            "Epoch 42/150\n",
            "52/52 [==============================] - 2s 38ms/step - loss: 3358.8379 - val_loss: 1298.2765\n",
            "Epoch 43/150\n",
            "52/52 [==============================] - 2s 39ms/step - loss: 596.9334 - val_loss: 4.6772\n",
            "Epoch 44/150\n",
            "52/52 [==============================] - 3s 59ms/step - loss: 58.6511 - val_loss: 286.2365\n",
            "Epoch 45/150\n",
            "52/52 [==============================] - 2s 38ms/step - loss: 3795.8628 - val_loss: 2885.8262\n",
            "Epoch 46/150\n",
            "52/52 [==============================] - 2s 38ms/step - loss: 397.2508 - val_loss: 17.2678\n",
            "Epoch 47/150\n",
            "52/52 [==============================] - 2s 39ms/step - loss: 11.9440 - val_loss: 0.1230\n",
            "Epoch 48/150\n",
            "52/52 [==============================] - 2s 39ms/step - loss: 1101.2129 - val_loss: 3774.5791\n",
            "Epoch 49/150\n",
            "52/52 [==============================] - 3s 49ms/step - loss: 816.8876 - val_loss: 70.4000\n",
            "Epoch 50/150\n",
            "52/52 [==============================] - 2s 46ms/step - loss: 5285.6904 - val_loss: 980.6258\n",
            "Epoch 51/150\n",
            "52/52 [==============================] - 5s 90ms/step - loss: 7334.1475 - val_loss: 14238.8379\n",
            "Epoch 52/150\n",
            "52/52 [==============================] - 2s 39ms/step - loss: 9276.3350 - val_loss: 75471.8672\n",
            "Epoch 53/150\n",
            "52/52 [==============================] - 2s 39ms/step - loss: 18201.9355 - val_loss: 115.7318\n",
            "Epoch 54/150\n",
            "52/52 [==============================] - 2s 39ms/step - loss: 122.5550 - val_loss: 5.7380\n",
            "Epoch 55/150\n",
            "52/52 [==============================] - 2s 39ms/step - loss: 0.9244 - val_loss: 0.1395\n",
            "Epoch 56/150\n",
            "52/52 [==============================] - 2s 39ms/step - loss: 0.0740 - val_loss: 0.0669\n",
            "Epoch 57/150\n",
            "52/52 [==============================] - 2s 40ms/step - loss: 0.0630 - val_loss: 0.0622\n",
            "Epoch 58/150\n",
            "52/52 [==============================] - 2s 39ms/step - loss: 383.2140 - val_loss: 2.9599\n",
            "Epoch 59/150\n",
            "52/52 [==============================] - 2s 39ms/step - loss: 3.7454 - val_loss: 0.0911\n",
            "Epoch 60/150\n",
            "52/52 [==============================] - 2s 39ms/step - loss: 0.0817 - val_loss: 0.0767\n",
            "Epoch 61/150\n",
            "52/52 [==============================] - 2s 39ms/step - loss: 0.0614 - val_loss: 0.0602\n",
            "Epoch 62/150\n",
            "52/52 [==============================] - 2s 40ms/step - loss: 0.0600 - val_loss: 0.0630\n",
            "Epoch 63/150\n",
            "52/52 [==============================] - 2s 39ms/step - loss: 0.0607 - val_loss: 0.0598\n",
            "Epoch 64/150\n",
            "52/52 [==============================] - 3s 57ms/step - loss: 0.0603 - val_loss: 0.0582\n",
            "Epoch 65/150\n",
            "52/52 [==============================] - 3s 58ms/step - loss: 0.0583 - val_loss: 0.0576\n",
            "Epoch 66/150\n",
            "52/52 [==============================] - 2s 40ms/step - loss: 0.0602 - val_loss: 0.0570\n",
            "Epoch 67/150\n",
            "52/52 [==============================] - 2s 39ms/step - loss: 0.0570 - val_loss: 0.0568\n",
            "Epoch 68/150\n",
            "52/52 [==============================] - 2s 39ms/step - loss: 0.0619 - val_loss: 0.0608\n",
            "Epoch 69/150\n",
            "52/52 [==============================] - 2s 40ms/step - loss: 0.0576 - val_loss: 0.0627\n",
            "Epoch 70/150\n",
            "52/52 [==============================] - 2s 40ms/step - loss: 0.0602 - val_loss: 0.0546\n",
            "Epoch 71/150\n",
            "52/52 [==============================] - 2s 40ms/step - loss: 0.0611 - val_loss: 0.1026\n",
            "Epoch 72/150\n",
            "52/52 [==============================] - 2s 40ms/step - loss: 0.0966 - val_loss: 0.3188\n",
            "Epoch 73/150\n",
            "52/52 [==============================] - 2s 39ms/step - loss: 4756.7607 - val_loss: 3919.6335\n",
            "Epoch 74/150\n",
            "52/52 [==============================] - 2s 39ms/step - loss: 1010.3488 - val_loss: 10.6483\n",
            "Epoch 75/150\n",
            "52/52 [==============================] - 2s 40ms/step - loss: 4.9495 - val_loss: 0.1151\n",
            "Epoch 76/150\n",
            "52/52 [==============================] - 2s 40ms/step - loss: 1222.6940 - val_loss: 2089.8110\n",
            "Epoch 77/150\n",
            "52/52 [==============================] - 2s 40ms/step - loss: 262.3696 - val_loss: 3.4611\n",
            "Epoch 78/150\n",
            "52/52 [==============================] - 2s 40ms/step - loss: 14.7898 - val_loss: 27.6048\n",
            "Epoch 79/150\n",
            "52/52 [==============================] - 2s 40ms/step - loss: 3096.1455 - val_loss: 827.2795\n",
            "Epoch 80/150\n",
            "52/52 [==============================] - 2s 39ms/step - loss: 3520.5903 - val_loss: 245.2159\n",
            "Epoch 81/150\n",
            "52/52 [==============================] - 2s 40ms/step - loss: 124.2088 - val_loss: 0.1301\n",
            "Epoch 82/150\n",
            "52/52 [==============================] - 2s 39ms/step - loss: 0.7022 - val_loss: 0.0907\n",
            "Epoch 83/150\n",
            "52/52 [==============================] - 2s 39ms/step - loss: 0.0745 - val_loss: 0.0542\n",
            "Epoch 84/150\n",
            "52/52 [==============================] - 2s 39ms/step - loss: 0.0817 - val_loss: 0.0893\n",
            "Epoch 85/150\n",
            "52/52 [==============================] - 2s 40ms/step - loss: 0.3397 - val_loss: 8.7602\n",
            "Epoch 86/150\n",
            "52/52 [==============================] - 2s 40ms/step - loss: 13545.7646 - val_loss: 7971.8013\n",
            "Epoch 87/150\n",
            "52/52 [==============================] - 2s 39ms/step - loss: 2087.3113 - val_loss: 1.5520\n",
            "Epoch 88/150\n",
            "52/52 [==============================] - 2s 40ms/step - loss: 4.4126 - val_loss: 0.0840\n",
            "Epoch 89/150\n",
            "52/52 [==============================] - 2s 39ms/step - loss: 0.0687 - val_loss: 0.0616\n",
            "Epoch 90/150\n",
            "52/52 [==============================] - 2s 39ms/step - loss: 0.0520 - val_loss: 0.0577\n",
            "Epoch 91/150\n",
            "52/52 [==============================] - 2s 40ms/step - loss: 0.0514 - val_loss: 0.0501\n",
            "Epoch 92/150\n",
            "52/52 [==============================] - 2s 40ms/step - loss: 0.0509 - val_loss: 0.0506\n",
            "Epoch 93/150\n",
            "52/52 [==============================] - 3s 61ms/step - loss: 0.0500 - val_loss: 0.0531\n",
            "Epoch 94/150\n",
            "52/52 [==============================] - 2s 39ms/step - loss: 0.0509 - val_loss: 0.0487\n",
            "Epoch 95/150\n",
            "52/52 [==============================] - 2s 40ms/step - loss: 0.0562 - val_loss: 0.0507\n",
            "Epoch 96/150\n",
            "52/52 [==============================] - 2s 39ms/step - loss: 0.0513 - val_loss: 0.0514\n",
            "Epoch 97/150\n",
            "52/52 [==============================] - 2s 39ms/step - loss: 0.0515 - val_loss: 0.0782\n",
            "Epoch 98/150\n",
            "52/52 [==============================] - 2s 39ms/step - loss: 300.2735 - val_loss: 8298.0869\n",
            "Epoch 99/150\n",
            "52/52 [==============================] - 2s 40ms/step - loss: 1989.8884 - val_loss: 0.8341\n",
            "Epoch 100/150\n",
            "52/52 [==============================] - 2s 40ms/step - loss: 249.6976 - val_loss: 13.9576\n",
            "Epoch 101/150\n",
            "52/52 [==============================] - 2s 39ms/step - loss: 2597.0107 - val_loss: 1815.6058\n",
            "Epoch 102/150\n",
            "52/52 [==============================] - 2s 39ms/step - loss: 202.8063 - val_loss: 4.3880\n",
            "Epoch 103/150\n",
            "52/52 [==============================] - 2s 39ms/step - loss: 3463.5095 - val_loss: 754.1087\n",
            "Epoch 104/150\n",
            "52/52 [==============================] - 2s 40ms/step - loss: 67.6060 - val_loss: 1.4965\n",
            "Epoch 105/150\n",
            "52/52 [==============================] - 2s 39ms/step - loss: 0.5522 - val_loss: 0.1099\n",
            "Epoch 106/150\n",
            "52/52 [==============================] - 2s 39ms/step - loss: 0.0682 - val_loss: 0.0497\n",
            "Epoch 107/150\n",
            "52/52 [==============================] - 2s 39ms/step - loss: 0.1157 - val_loss: 1.9844\n",
            "Epoch 108/150\n",
            "52/52 [==============================] - 2s 39ms/step - loss: 5674.2002 - val_loss: 626.7559\n",
            "Epoch 109/150\n",
            "52/52 [==============================] - 2s 40ms/step - loss: 44181.7969 - val_loss: 7604.0605\n",
            "Epoch 110/150\n",
            "52/52 [==============================] - 2s 39ms/step - loss: 1511.5588 - val_loss: 72.7966\n",
            "Epoch 111/150\n",
            "52/52 [==============================] - 2s 40ms/step - loss: 11284.6367 - val_loss: 192.6346\n",
            "Epoch 112/150\n",
            "52/52 [==============================] - 2s 40ms/step - loss: 150.8894 - val_loss: 1.0063\n",
            "Epoch 113/150\n",
            "52/52 [==============================] - 2s 40ms/step - loss: 0.5700 - val_loss: 0.0701\n",
            "Epoch 114/150\n",
            "52/52 [==============================] - 2s 40ms/step - loss: 0.0612 - val_loss: 0.0586\n",
            "Epoch 115/150\n",
            "52/52 [==============================] - 2s 40ms/step - loss: 0.0584 - val_loss: 0.0586\n",
            "Epoch 116/150\n",
            "52/52 [==============================] - 2s 40ms/step - loss: 0.0583 - val_loss: 0.0578\n",
            "Epoch 117/150\n",
            "52/52 [==============================] - 2s 39ms/step - loss: 0.0577 - val_loss: 0.0577\n",
            "Epoch 118/150\n",
            "52/52 [==============================] - 2s 39ms/step - loss: 0.0577 - val_loss: 0.0571\n",
            "Epoch 119/150\n",
            "52/52 [==============================] - 2s 39ms/step - loss: 0.0570 - val_loss: 0.0567\n",
            "Epoch 120/150\n",
            "52/52 [==============================] - 2s 39ms/step - loss: 0.0566 - val_loss: 0.0583\n",
            "Epoch 121/150\n",
            "52/52 [==============================] - 2s 40ms/step - loss: 0.0564 - val_loss: 0.0569\n",
            "Epoch 122/150\n",
            "52/52 [==============================] - 2s 39ms/step - loss: 0.0558 - val_loss: 0.0558\n",
            "Epoch 123/150\n",
            "52/52 [==============================] - 2s 39ms/step - loss: 0.0560 - val_loss: 0.0572\n",
            "Epoch 124/150\n",
            "52/52 [==============================] - 2s 39ms/step - loss: 0.0561 - val_loss: 0.0571\n",
            "Epoch 125/150\n",
            "52/52 [==============================] - 2s 39ms/step - loss: 0.0548 - val_loss: 0.0547\n",
            "Epoch 126/150\n",
            "52/52 [==============================] - 2s 40ms/step - loss: 0.0543 - val_loss: 0.0557\n",
            "Epoch 127/150\n",
            "52/52 [==============================] - 2s 40ms/step - loss: 0.0541 - val_loss: 0.0556\n",
            "Epoch 128/150\n",
            "52/52 [==============================] - 2s 39ms/step - loss: 0.0536 - val_loss: 0.0542\n",
            "Epoch 129/150\n",
            "52/52 [==============================] - 2s 40ms/step - loss: 0.0533 - val_loss: 0.0530\n",
            "Epoch 00129: early stopping\n"
          ]
        },
        {
          "output_type": "execute_result",
          "data": {
            "text/plain": [
              "<matplotlib.axes._subplots.AxesSubplot at 0x7f5212bd1e10>"
            ]
          },
          "metadata": {},
          "execution_count": 47
        },
        {
          "output_type": "display_data",
          "data": {
            "text/plain": [
              "<Figure size 432x288 with 1 Axes>"
            ],
            "image/png": "[encoded data removed]"
          },
          "metadata": {
            "needs_background": "light"
          }
        },
        {
          "output_type": "display_data",
          "data": {
            "text/plain": [
              "<Figure size 432x288 with 1 Axes>"
            ],
            "image/png": "[encoded data removed]"
          },
          "metadata": {
            "needs_background": "light"
          }
        }
      ]
    },
    {
      "cell_type": "markdown",
      "source": [
        "## Validazione modello"
      ],
      "metadata": {
        "id": "j-wddqE2Z2Y6"
      }
    },
    {
      "cell_type": "code",
      "source": [
        "prediction_errors = []\n",
        "\n",
        "reconstructed = autoencoder.predict(x_test)\n",
        "\n",
        "mse = np.mean(np.power(x_test - reconstructed, 2), axis=1)\n",
        "z_scores = Z_Score(mse)\n",
        "print(str(z_scores))"
      ],
      "metadata": {
        "colab": {
          "base_uri": "https://localhost:8080/"
        },
        "id": "iPKzPnIB_XMr",
        "outputId": "4a55b4f9-0b2b-4517-cd3c-000405202163"
      },
      "execution_count": null,
      "outputs": [
        {
          "output_type": "stream",
          "name": "stdout",
          "text": [
            "3515     1.452027\n",
            "31577   -0.731216\n",
            "102     -0.049404\n",
            "38920   -0.692198\n",
            "20190   -0.447107\n",
            "           ...   \n",
            "56127    0.986293\n",
            "4563     1.668027\n",
            "4108    -0.084291\n",
            "9099     3.639377\n",
            "6218     0.547409\n",
            "Length: 9254, dtype: float64\n"
          ]
        }
      ]
    },
    {
      "cell_type": "code",
      "source": [
        "threshold_fixed = 3\n",
        "error_df_test = pd.DataFrame({'Z_score': z_scores,\n",
        "                        'True_class': y_test})\n",
        "groups = error_df_test.groupby('True_class')\n",
        "fig, ax = plt.subplots()\n",
        "for name, group in groups:\n",
        "    ax.plot(group.index, group.Z_score, marker='o', ms=3.5, linestyle='',\n",
        "            label= \"Dropout\" if name == 1 else \"Normal\")\n",
        "ax.hlines(threshold_fixed, ax.get_xlim()[0], ax.get_xlim()[1], colors=\"r\", zorder=100, label='Threshold')\n",
        "ax.legend()\n",
        "plt.title(\"Z score for different classes\")\n",
        "plt.ylabel(\"z-score\")\n",
        "plt.xlabel(\"Data point index\")\n",
        "plt.show();"
      ],
      "metadata": {
        "colab": {
          "base_uri": "https://localhost:8080/",
          "height": 295
        },
        "id": "VHb6fM2OaaRC",
        "outputId": "719923c9-8cb1-4385-a224-ab5ebe4f2b2b"
      },
      "execution_count": null,
      "outputs": [
        {
          "output_type": "display_data",
          "data": {
            "text/plain": [
              "<Figure size 432x288 with 1 Axes>"
            ],
            "image/png": "[encoded data removed]"
          },
          "metadata": {
            "needs_background": "light"
          }
        }
      ]
    },
    {
      "cell_type": "code",
      "source": [
        "pred_y = [1 if e > threshold_fixed else 0 for e in error_df_test.Z_score.values]\n",
        "conf_matrix = confusion_matrix(error_df_test.True_class, pred_y)\n",
        "plt.figure(figsize=(6, 6))\n",
        "sns.heatmap(conf_matrix, xticklabels=[\"Normal\",\"Dropout\"], yticklabels=[\"Normal\", \"Dropout\"], annot=True, fmt=\"d\");\n",
        "plt.title(\"Confusion matrix\")\n",
        "plt.ylabel('True class')\n",
        "plt.xlabel('Predicted class')\n",
        "plt.show()"
      ],
      "metadata": {
        "colab": {
          "base_uri": "https://localhost:8080/",
          "height": 404
        },
        "id": "KZurCheTabQT",
        "outputId": "60ae1d45-2885-4f8a-c074-02193e1d9f17"
      },
      "execution_count": null,
      "outputs": [
        {
          "output_type": "display_data",
          "data": {
            "text/plain": [
              "<Figure size 432x432 with 2 Axes>"
            ],
            "image/png": "[encoded data removed]"
          },
          "metadata": {
            "needs_background": "light"
          }
        }
      ]
    },
    {
      "cell_type": "code",
      "source": [
        ""
      ],
      "metadata": {
        "id": "VD_YxvJwnFnR"
      },
      "execution_count": null,
      "outputs": []
    }
  ]
}